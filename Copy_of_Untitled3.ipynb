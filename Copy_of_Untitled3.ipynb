{
  "nbformat": 4,
  "nbformat_minor": 0,
  "metadata": {
    "colab": {
      "provenance": [],
      "authorship_tag": "ABX9TyOLEM753fjiY3bFzbm9/79q",
      "include_colab_link": true
    },
    "kernelspec": {
      "name": "python3",
      "display_name": "Python 3"
    },
    "language_info": {
      "name": "python"
    }
  },
  "cells": [
    {
      "cell_type": "markdown",
      "metadata": {
        "id": "view-in-github",
        "colab_type": "text"
      },
      "source": [
        "<a href=\"https://colab.research.google.com/github/Rahulverma2045/python-practice-/blob/main/Copy_of_Untitled3.ipynb\" target=\"_parent\"><img src=\"https://colab.research.google.com/assets/colab-badge.svg\" alt=\"Open In Colab\"/></a>"
      ]
    },
    {
      "cell_type": "code",
      "execution_count": null,
      "metadata": {
        "colab": {
          "base_uri": "https://localhost:8080/"
        },
        "id": "8ZMJZ9rBZ0P5",
        "outputId": "397d0e39-8230-40e2-9b5f-353a408040bb"
      },
      "outputs": [
        {
          "output_type": "execute_result",
          "data": {
            "text/plain": [
              "16"
            ]
          },
          "metadata": {},
          "execution_count": 1
        }
      ],
      "source": [
        "4**2"
      ]
    },
    {
      "cell_type": "code",
      "source": [
        "num_1 = 672\n",
        "num_2 = 56\n",
        "total_num = num_1 + num_2\n",
        "print(total_num)"
      ],
      "metadata": {
        "colab": {
          "base_uri": "https://localhost:8080/"
        },
        "id": "RJkGMHhdbe_W",
        "outputId": "a68d65fb-ec35-445c-d6bf-5065ccc53f7e"
      },
      "execution_count": null,
      "outputs": [
        {
          "output_type": "stream",
          "name": "stdout",
          "text": [
            "728\n"
          ]
        }
      ]
    },
    {
      "cell_type": "code",
      "source": [
        "total_num = num_1 % num_2\n",
        "print(total_num)"
      ],
      "metadata": {
        "colab": {
          "base_uri": "https://localhost:8080/"
        },
        "id": "bW7fW0UBbyKA",
        "outputId": "5cbb33f0-64d9-4b0f-817d-f4368d9198f0"
      },
      "execution_count": null,
      "outputs": [
        {
          "output_type": "stream",
          "name": "stdout",
          "text": [
            "0\n"
          ]
        }
      ]
    },
    {
      "cell_type": "code",
      "source": [
        "total_num = num_1*num_2\n",
        "print(total_num)"
      ],
      "metadata": {
        "colab": {
          "base_uri": "https://localhost:8080/"
        },
        "id": "vxglYo7scN5_",
        "outputId": "f8a2c0b2-d718-4131-ba95-357b8fafc4fe"
      },
      "execution_count": null,
      "outputs": [
        {
          "output_type": "stream",
          "name": "stdout",
          "text": [
            "37632\n"
          ]
        }
      ]
    },
    {
      "cell_type": "code",
      "source": [
        "total_num = num_1 - num_2\n",
        "print(total_num)"
      ],
      "metadata": {
        "colab": {
          "base_uri": "https://localhost:8080/"
        },
        "id": "arQJmFfTcUBP",
        "outputId": "6e3ffd07-89f0-418b-dca3-1b5660d959b3"
      },
      "execution_count": null,
      "outputs": [
        {
          "output_type": "stream",
          "name": "stdout",
          "text": [
            "616\n"
          ]
        }
      ]
    },
    {
      "cell_type": "code",
      "source": [
        "find the 3 rd largest no in the list.\n",
        "[2,43,23,44,21,]"
      ],
      "metadata": {
        "id": "GSfMg3naclQ0"
      },
      "execution_count": null,
      "outputs": []
    },
    {
      "cell_type": "code",
      "source": [
        "numbers = [2, 43, 23, 44, 21]\n",
        "sorted_numbers = sorted(numbers, reverse=True)\n",
        "third_largest = sorted_numbers[2]\n",
        "\n",
        "print(third_largest)\n"
      ],
      "metadata": {
        "colab": {
          "base_uri": "https://localhost:8080/"
        },
        "id": "ioFppXqJcxO4",
        "outputId": "9492ad5c-bd83-4838-f5c6-e9778ab569ef"
      },
      "execution_count": null,
      "outputs": [
        {
          "output_type": "stream",
          "name": "stdout",
          "text": [
            "23\n"
          ]
        }
      ]
    },
    {
      "cell_type": "markdown",
      "source": [
        "![images.png](data:image/png;base64,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)"
      ],
      "metadata": {
        "id": "bI-Ex_8J80Tt"
      }
    },
    {
      "cell_type": "markdown",
      "source": [
        "# INTEGERS AND floats"
      ],
      "metadata": {
        "id": "Ct29ia67lMQL"
      }
    },
    {
      "cell_type": "code",
      "source": [
        "# addition\n",
        "63+85+22"
      ],
      "metadata": {
        "colab": {
          "base_uri": "https://localhost:8080/"
        },
        "id": "UEnPYEmWlYZ7",
        "outputId": "709868a6-22a1-4cbd-ce7f-586fa5f2f73e"
      },
      "execution_count": null,
      "outputs": [
        {
          "output_type": "execute_result",
          "data": {
            "text/plain": [
              "170"
            ]
          },
          "metadata": {},
          "execution_count": 13
        }
      ]
    },
    {
      "cell_type": "code",
      "source": [
        "#subtraction\n",
        "900-128"
      ],
      "metadata": {
        "colab": {
          "base_uri": "https://localhost:8080/"
        },
        "id": "JsvAsDXzmUgq",
        "outputId": "655b3a3c-5b97-4c62-900c-a35a346e96fc"
      },
      "execution_count": null,
      "outputs": [
        {
          "output_type": "execute_result",
          "data": {
            "text/plain": [
              "772"
            ]
          },
          "metadata": {},
          "execution_count": 16
        }
      ]
    },
    {
      "cell_type": "code",
      "source": [
        "#multiplying\n",
        "45*5"
      ],
      "metadata": {
        "colab": {
          "base_uri": "https://localhost:8080/"
        },
        "id": "KKP7HmBUmlng",
        "outputId": "85c8cb59-36df-44f0-a080-c47dcb46314a"
      },
      "execution_count": null,
      "outputs": [
        {
          "output_type": "execute_result",
          "data": {
            "text/plain": [
              "225"
            ]
          },
          "metadata": {},
          "execution_count": 17
        }
      ]
    },
    {
      "cell_type": "code",
      "source": [
        "#division\n",
        "81/3"
      ],
      "metadata": {
        "colab": {
          "base_uri": "https://localhost:8080/"
        },
        "id": "rUid8EgjmkQA",
        "outputId": "73570889-a7a6-4ab3-ad34-1e46af0cbadb"
      },
      "execution_count": null,
      "outputs": [
        {
          "output_type": "execute_result",
          "data": {
            "text/plain": [
              "27.0"
            ]
          },
          "metadata": {},
          "execution_count": 18
        }
      ]
    },
    {
      "cell_type": "code",
      "source": [
        "#exponential\n",
        "5**2"
      ],
      "metadata": {
        "colab": {
          "base_uri": "https://localhost:8080/"
        },
        "id": "baZ5A-yvmyOl",
        "outputId": "f13c698a-1cc3-47bf-a66e-d73e1fed6740"
      },
      "execution_count": null,
      "outputs": [
        {
          "output_type": "execute_result",
          "data": {
            "text/plain": [
              "25"
            ]
          },
          "metadata": {},
          "execution_count": 21
        }
      ]
    },
    {
      "cell_type": "code",
      "source": [
        "#flooor division\n",
        "56//4"
      ],
      "metadata": {
        "colab": {
          "base_uri": "https://localhost:8080/"
        },
        "id": "_-gatWB_qCov",
        "outputId": "efea2602-1cd6-4cc3-c6fb-944628bed560"
      },
      "execution_count": null,
      "outputs": [
        {
          "output_type": "execute_result",
          "data": {
            "text/plain": [
              "14"
            ]
          },
          "metadata": {},
          "execution_count": 22
        }
      ]
    },
    {
      "cell_type": "code",
      "source": [
        "#modulus\n",
        "6%5"
      ],
      "metadata": {
        "colab": {
          "base_uri": "https://localhost:8080/"
        },
        "id": "IXL1g3ccqPSa",
        "outputId": "d656b2b0-5560-4277-aacf-70eab0c1f2d3"
      },
      "execution_count": null,
      "outputs": [
        {
          "output_type": "execute_result",
          "data": {
            "text/plain": [
              "1"
            ]
          },
          "metadata": {},
          "execution_count": 24
        }
      ]
    },
    {
      "cell_type": "markdown",
      "source": [
        "## Variable = A variable is fixed name can store information of number,boolean,textual."
      ],
      "metadata": {
        "id": "flXshE4yqouO"
      }
    },
    {
      "cell_type": "code",
      "source": [
        "y =55"
      ],
      "metadata": {
        "id": "au5OMVRCrnDB"
      },
      "execution_count": null,
      "outputs": []
    },
    {
      "cell_type": "code",
      "source": [
        "y"
      ],
      "metadata": {
        "colab": {
          "base_uri": "https://localhost:8080/"
        },
        "id": "OVEduKvBrrns",
        "outputId": "04b107c0-abbc-4e5e-dead-60984e4a2b0f"
      },
      "execution_count": null,
      "outputs": [
        {
          "output_type": "execute_result",
          "data": {
            "text/plain": [
              "55"
            ]
          },
          "metadata": {},
          "execution_count": 26
        }
      ]
    },
    {
      "cell_type": "code",
      "source": [
        "print(y)"
      ],
      "metadata": {
        "colab": {
          "base_uri": "https://localhost:8080/"
        },
        "id": "22UQVQ9LrzCt",
        "outputId": "6661c70c-8b91-4697-89b1-a0c14388d062"
      },
      "execution_count": null,
      "outputs": [
        {
          "output_type": "stream",
          "name": "stdout",
          "text": [
            "55\n"
          ]
        }
      ]
    },
    {
      "cell_type": "code",
      "source": [
        "#addition\n",
        "x,y = 6,4\n",
        "z = x+y\n",
        "z"
      ],
      "metadata": {
        "colab": {
          "base_uri": "https://localhost:8080/"
        },
        "id": "ttRklb8Zr2VC",
        "outputId": "1539e52d-92ba-4d3f-870d-5c9448e95f1a"
      },
      "execution_count": null,
      "outputs": [
        {
          "output_type": "execute_result",
          "data": {
            "text/plain": [
              "10"
            ]
          },
          "metadata": {},
          "execution_count": 28
        }
      ]
    },
    {
      "cell_type": "code",
      "source": [
        "print (z)"
      ],
      "metadata": {
        "colab": {
          "base_uri": "https://localhost:8080/"
        },
        "id": "pu4HY9VEsnaM",
        "outputId": "560f6c8c-cf9a-47fe-9117-b98ffbb73330"
      },
      "execution_count": null,
      "outputs": [
        {
          "output_type": "stream",
          "name": "stdout",
          "text": [
            "10\n"
          ]
        }
      ]
    },
    {
      "cell_type": "code",
      "source": [
        "#subtraction\n",
        "x,y = 8,2\n",
        "print(x)\n",
        "print(y)\n",
        "z = x-y\n",
        "print(z)"
      ],
      "metadata": {
        "colab": {
          "base_uri": "https://localhost:8080/"
        },
        "id": "lcjyhqltsv37",
        "outputId": "dbc0ab69-c2af-428d-d411-769ebaa3fd79"
      },
      "execution_count": null,
      "outputs": [
        {
          "output_type": "stream",
          "name": "stdout",
          "text": [
            "8\n",
            "2\n",
            "6\n"
          ]
        }
      ]
    },
    {
      "cell_type": "code",
      "source": [
        "#multypling\n",
        "x = 7\n",
        "y = 9\n",
        "y = x*y\n",
        "print(y)"
      ],
      "metadata": {
        "colab": {
          "base_uri": "https://localhost:8080/"
        },
        "id": "N9YZQRPQunBo",
        "outputId": "9c2f9315-4eb5-4ca5-d7d6-9f0b455dface"
      },
      "execution_count": null,
      "outputs": [
        {
          "output_type": "stream",
          "name": "stdout",
          "text": [
            "63\n"
          ]
        }
      ]
    },
    {
      "cell_type": "code",
      "source": [
        "type(y)"
      ],
      "metadata": {
        "colab": {
          "base_uri": "https://localhost:8080/"
        },
        "id": "fwL_Km0kveLf",
        "outputId": "18a44014-b69c-4c25-e345-6beae586b28c"
      },
      "execution_count": null,
      "outputs": [
        {
          "output_type": "execute_result",
          "data": {
            "text/plain": [
              "int"
            ]
          },
          "metadata": {},
          "execution_count": 35
        }
      ]
    },
    {
      "cell_type": "code",
      "source": [
        "y = 5.4\n",
        "print(y)"
      ],
      "metadata": {
        "colab": {
          "base_uri": "https://localhost:8080/"
        },
        "id": "c_C6WvttvhAS",
        "outputId": "39bd912e-d8be-49a0-ca48-a4f44efd0677"
      },
      "execution_count": null,
      "outputs": [
        {
          "output_type": "stream",
          "name": "stdout",
          "text": [
            "5.4\n"
          ]
        }
      ]
    },
    {
      "cell_type": "code",
      "source": [
        "type(y)"
      ],
      "metadata": {
        "colab": {
          "base_uri": "https://localhost:8080/"
        },
        "id": "CJto6WOkvlS_",
        "outputId": "bb62484b-3120-4108-f529-faedc623ce16"
      },
      "execution_count": null,
      "outputs": [
        {
          "output_type": "execute_result",
          "data": {
            "text/plain": [
              "float"
            ]
          },
          "metadata": {},
          "execution_count": 38
        }
      ]
    },
    {
      "cell_type": "markdown",
      "source": [
        "# BOOLEAN VARIABLES\n",
        "BOOLEAN VARIABLES ONLY TAKES TWO VALUE EITHER TRUE OR FALSE . IT IS USED FOR COMPARISION."
      ],
      "metadata": {
        "id": "M3bfyLQXwDwQ"
      }
    },
    {
      "cell_type": "code",
      "source": [
        "boolean_variable = False\n",
        "type(boolean_variable)"
      ],
      "metadata": {
        "colab": {
          "base_uri": "https://localhost:8080/"
        },
        "id": "_v_VRkeHwDg2",
        "outputId": "63b00986-721f-4840-fa25-216148e4ccd5"
      },
      "execution_count": null,
      "outputs": [
        {
          "output_type": "execute_result",
          "data": {
            "text/plain": [
              "bool"
            ]
          },
          "metadata": {},
          "execution_count": 42
        }
      ]
    },
    {
      "cell_type": "markdown",
      "source": [
        "GREATER THAN"
      ],
      "metadata": {
        "id": "sZ3V7zx2JFkM"
      }
    },
    {
      "cell_type": "code",
      "source": [
        "8>4"
      ],
      "metadata": {
        "colab": {
          "base_uri": "https://localhost:8080/"
        },
        "id": "oocg46s7xziN",
        "outputId": "dedd5d9f-e248-4c7b-b85b-182793458e94"
      },
      "execution_count": null,
      "outputs": [
        {
          "output_type": "execute_result",
          "data": {
            "text/plain": [
              "True"
            ]
          },
          "metadata": {},
          "execution_count": 43
        }
      ]
    },
    {
      "cell_type": "markdown",
      "source": [
        "GREATER THAN OR EQUAL TOO"
      ],
      "metadata": {
        "id": "RUdEtHB5JLmo"
      }
    },
    {
      "cell_type": "code",
      "source": [
        "10>=9"
      ],
      "metadata": {
        "colab": {
          "base_uri": "https://localhost:8080/"
        },
        "id": "lA8_dXEux2dX",
        "outputId": "a347178d-b2de-4ea7-8102-3a13d3881754"
      },
      "execution_count": null,
      "outputs": [
        {
          "output_type": "execute_result",
          "data": {
            "text/plain": [
              "True"
            ]
          },
          "metadata": {},
          "execution_count": 2
        }
      ]
    },
    {
      "cell_type": "markdown",
      "source": [
        "LESS THAN OR EQUAL TOO"
      ],
      "metadata": {
        "id": "SzzFxVPHJVwf"
      }
    },
    {
      "cell_type": "code",
      "source": [
        "7<=7"
      ],
      "metadata": {
        "colab": {
          "base_uri": "https://localhost:8080/"
        },
        "id": "jgBCqFcVx4tc",
        "outputId": "7d1731c6-0f34-4b31-a9c4-0eddc4396e53"
      },
      "execution_count": null,
      "outputs": [
        {
          "output_type": "execute_result",
          "data": {
            "text/plain": [
              "True"
            ]
          },
          "metadata": {},
          "execution_count": 3
        }
      ]
    },
    {
      "cell_type": "markdown",
      "source": [],
      "metadata": {
        "id": "-uaZjG5jJY7J"
      }
    },
    {
      "cell_type": "code",
      "source": [
        "4<=3"
      ],
      "metadata": {
        "colab": {
          "base_uri": "https://localhost:8080/"
        },
        "id": "xBIsrBJSx7m4",
        "outputId": "740c2520-2fbd-4c4d-f3a7-7423cb7a9fc4"
      },
      "execution_count": null,
      "outputs": [
        {
          "output_type": "execute_result",
          "data": {
            "text/plain": [
              "False"
            ]
          },
          "metadata": {},
          "execution_count": 4
        }
      ]
    },
    {
      "cell_type": "markdown",
      "source": [
        "STRING = STRING ARE USED IN PYTHON TO RECORD TEXT INFORMATION SUCH AS NAMES ,WORD, SENTENCE, PARAGRAPHS,OR ENCYCLOPEDIA. FOR EX\n"
      ],
      "metadata": {
        "id": "yzIanZgBQI2e"
      }
    },
    {
      "cell_type": "code",
      "source": [
        "#CREATING STRING\n",
        "MY_STRING = 'I AM FROM KALYAN'\n",
        "MY_STRING"
      ],
      "metadata": {
        "colab": {
          "base_uri": "https://localhost:8080/",
          "height": 35
        },
        "id": "VfGJRVYEx-ri",
        "outputId": "a0be3c8c-e5b4-4173-841b-d4bcd68646a2"
      },
      "execution_count": null,
      "outputs": [
        {
          "output_type": "execute_result",
          "data": {
            "text/plain": [
              "'I AM FROM KALYAN'"
            ],
            "application/vnd.google.colaboratory.intrinsic+json": {
              "type": "string"
            }
          },
          "metadata": {},
          "execution_count": 7
        }
      ]
    },
    {
      "cell_type": "code",
      "source": [
        "string = 'almabetter'\n",
        "print(string)"
      ],
      "metadata": {
        "colab": {
          "base_uri": "https://localhost:8080/"
        },
        "id": "Jj6QnEqlQyhO",
        "outputId": "06c02ba6-47ce-47e9-9273-078b256a1c4c"
      },
      "execution_count": null,
      "outputs": [
        {
          "output_type": "stream",
          "name": "stdout",
          "text": [
            "almabetter\n"
          ]
        }
      ]
    },
    {
      "cell_type": "code",
      "source": [
        "type(string)"
      ],
      "metadata": {
        "colab": {
          "base_uri": "https://localhost:8080/"
        },
        "id": "3iCl72GjQ0N5",
        "outputId": "9f2bd383-7ba8-461f-b927-fcb9b6825751"
      },
      "execution_count": null,
      "outputs": [
        {
          "output_type": "execute_result",
          "data": {
            "text/plain": [
              "str"
            ]
          },
          "metadata": {},
          "execution_count": 11
        }
      ]
    },
    {
      "cell_type": "code",
      "source": [
        "'ram'\n",
        "'shyam'\n",
        "'vijay'"
      ],
      "metadata": {
        "colab": {
          "base_uri": "https://localhost:8080/",
          "height": 35
        },
        "id": "DpQa1cq3TP6N",
        "outputId": "64ea3549-49df-401d-f832-6f1297fc72b2"
      },
      "execution_count": null,
      "outputs": [
        {
          "output_type": "execute_result",
          "data": {
            "text/plain": [
              "'vijay'"
            ],
            "application/vnd.google.colaboratory.intrinsic+json": {
              "type": "string"
            }
          },
          "metadata": {},
          "execution_count": 12
        }
      ]
    },
    {
      "cell_type": "code",
      "source": [
        "print('ajay\\n karan')"
      ],
      "metadata": {
        "colab": {
          "base_uri": "https://localhost:8080/"
        },
        "id": "_JZPnD2SYrNg",
        "outputId": "bf58195b-ddd8-4939-be9b-d7d2ab764fb0"
      },
      "execution_count": null,
      "outputs": [
        {
          "output_type": "stream",
          "name": "stdout",
          "text": [
            "ajay\n",
            " karan\n"
          ]
        }
      ]
    },
    {
      "cell_type": "code",
      "source": [
        "print('i completed a \\n course from almabetter')"
      ],
      "metadata": {
        "colab": {
          "base_uri": "https://localhost:8080/"
        },
        "id": "dGt0CdDvZA0d",
        "outputId": "c7984cbf-6140-4b95-a00d-c1ea7c39aaa5"
      },
      "execution_count": null,
      "outputs": [
        {
          "output_type": "stream",
          "name": "stdout",
          "text": [
            "i completed a \n",
            " course from almabetter\n"
          ]
        }
      ]
    },
    {
      "cell_type": "code",
      "source": [
        "shiv = 'from almabetter'\n",
        "print(len(shiv))"
      ],
      "metadata": {
        "colab": {
          "base_uri": "https://localhost:8080/"
        },
        "id": "ZVSh3FpNZMIJ",
        "outputId": "ad59013e-451b-4744-a230-7597fcf1a695"
      },
      "execution_count": null,
      "outputs": [
        {
          "output_type": "stream",
          "name": "stdout",
          "text": [
            "15\n"
          ]
        }
      ]
    },
    {
      "cell_type": "markdown",
      "source": [
        "#**String Indexing:**\n",
        "#We know strings are a sequence, which means Python can use indexes to call parts of the sequence.\n",
        "\n",
        "#A string index refers to the location of an element present in a string.\n",
        "\n",
        "#The indexing begins from 0 in Python.\n",
        "\n",
        "#The first element is assigned an index 0, the second element is assigned an index of 1 and so on and so forth.\n",
        "\n",
        "# In Python, we use brackets [] after an object to call its index."
      ],
      "metadata": {
        "id": "PXbu-uQnZth2"
      }
    },
    {
      "cell_type": "code",
      "source": [
        "string = 'rahul jaiswal'\n",
        "print(string)"
      ],
      "metadata": {
        "colab": {
          "base_uri": "https://localhost:8080/"
        },
        "id": "lx7P6diWLTgt",
        "outputId": "1d117158-d84d-4053-b1c1-17fa3d91f895"
      },
      "execution_count": null,
      "outputs": [
        {
          "output_type": "stream",
          "name": "stdout",
          "text": [
            "rahul jaiswal\n"
          ]
        }
      ]
    },
    {
      "cell_type": "code",
      "source": [
        "print(string[7])"
      ],
      "metadata": {
        "colab": {
          "base_uri": "https://localhost:8080/"
        },
        "id": "O2FOnh5CLhCq",
        "outputId": "e8cc1351-6dd9-482e-c815-ff42d6cbbba3"
      },
      "execution_count": null,
      "outputs": [
        {
          "output_type": "stream",
          "name": "stdout",
          "text": [
            "a\n"
          ]
        }
      ]
    },
    {
      "cell_type": "code",
      "source": [
        "print(string[3])"
      ],
      "metadata": {
        "colab": {
          "base_uri": "https://localhost:8080/"
        },
        "id": "grQ9blRdL2iS",
        "outputId": "c9c80495-2a10-4932-80e0-5c8854300fb8"
      },
      "execution_count": null,
      "outputs": [
        {
          "output_type": "stream",
          "name": "stdout",
          "text": [
            "u\n"
          ]
        }
      ]
    },
    {
      "cell_type": "code",
      "source": [
        "len(string)"
      ],
      "metadata": {
        "colab": {
          "base_uri": "https://localhost:8080/"
        },
        "id": "hhNxjkNcMAsj",
        "outputId": "cf9a3f6d-59a9-48e2-b2cd-2ca1eb3bf711"
      },
      "execution_count": null,
      "outputs": [
        {
          "output_type": "execute_result",
          "data": {
            "text/plain": [
              "13"
            ]
          },
          "metadata": {},
          "execution_count": 8
        }
      ]
    },
    {
      "cell_type": "code",
      "source": [
        "print(string[-4])"
      ],
      "metadata": {
        "colab": {
          "base_uri": "https://localhost:8080/"
        },
        "id": "tXqVOL0-MO4a",
        "outputId": "408b232c-c132-49ee-f6a7-61023db0cf98"
      },
      "execution_count": null,
      "outputs": [
        {
          "output_type": "stream",
          "name": "stdout",
          "text": [
            "s\n"
          ]
        }
      ]
    },
    {
      "cell_type": "markdown",
      "source": [
        "#String Slicing**\n",
        "# We can use a : to perform slicing which grabs everything up to a designated point.\n",
        "\n",
        "#The starting index is specified on the left of the : and the ending index is specified on the right of the :.\n",
        "# New Section\n",
        "#Remember the element located at the right index is not included."
      ],
      "metadata": {
        "id": "8IPzdX4VMtLv"
      }
    },
    {
      "cell_type": "markdown",
      "source": [],
      "metadata": {
        "id": "RXqsGPJfMtIg"
      }
    },
    {
      "cell_type": "code",
      "source": [
        "string = 'coding ninjas'\n",
        "print(string[3:-1])"
      ],
      "metadata": {
        "colab": {
          "base_uri": "https://localhost:8080/"
        },
        "id": "5aMS8Yv-M8Ap",
        "outputId": "1b861906-daf4-4c5c-9c53-cc7f44773243"
      },
      "execution_count": null,
      "outputs": [
        {
          "output_type": "stream",
          "name": "stdout",
          "text": [
            "ing ninja\n"
          ]
        }
      ]
    },
    {
      "cell_type": "code",
      "source": [
        "string = 'newton'\n",
        "print(string[1:-2])"
      ],
      "metadata": {
        "colab": {
          "base_uri": "https://localhost:8080/"
        },
        "id": "NDj_3uVUNU0k",
        "outputId": "d2fc52e9-6b23-4971-bf03-c87402054e13"
      },
      "execution_count": null,
      "outputs": [
        {
          "output_type": "stream",
          "name": "stdout",
          "text": [
            "ewt\n"
          ]
        }
      ]
    },
    {
      "cell_type": "code",
      "source": [
        "print(string[0:3])"
      ],
      "metadata": {
        "colab": {
          "base_uri": "https://localhost:8080/"
        },
        "id": "wrEo02rCNn9L",
        "outputId": "7f784a9a-9350-4c1b-f8e7-c5ea9dbb6e59"
      },
      "execution_count": null,
      "outputs": [
        {
          "output_type": "stream",
          "name": "stdout",
          "text": [
            "new\n"
          ]
        }
      ]
    },
    {
      "cell_type": "markdown",
      "source": [
        "# variable use"
      ],
      "metadata": {
        "id": "xRFsWbuyjXx9"
      }
    },
    {
      "cell_type": "code",
      "source": [
        "str1 = 'Wel'\n",
        "print(str1,'come')"
      ],
      "metadata": {
        "colab": {
          "base_uri": "https://localhost:8080/"
        },
        "id": "TTFfvoThNn3F",
        "outputId": "0f9034de-e707-4fb9-dbb4-759ff6c8c10c"
      },
      "execution_count": null,
      "outputs": [
        {
          "output_type": "stream",
          "name": "stdout",
          "text": [
            "Wel come\n"
          ]
        }
      ]
    },
    {
      "cell_type": "code",
      "source": [
        "str1 = 'Welcome'\n",
        "str2 = 'Python'\n",
        "print(str1, str2)"
      ],
      "metadata": {
        "colab": {
          "base_uri": "https://localhost:8080/"
        },
        "id": "fkeiO8JIjnVT",
        "outputId": "ac9bbfe5-99c3-4582-f428-9c1f73b22ccc"
      },
      "execution_count": null,
      "outputs": [
        {
          "output_type": "stream",
          "name": "stdout",
          "text": [
            "Welcome Python\n"
          ]
        }
      ]
    },
    {
      "cell_type": "markdown",
      "source": [
        "#**string concatenation**: String concatenation is the \"addition\" of two strings. Observe that while concatenating there will be no space between the strings."
      ],
      "metadata": {
        "id": "CrFNALl7kDYF"
      }
    },
    {
      "cell_type": "code",
      "source": [
        "str1 = 'Python'\n",
        "str2 = ':'\n",
        "print('Welcome' + str1 + str2)"
      ],
      "metadata": {
        "colab": {
          "base_uri": "https://localhost:8080/"
        },
        "id": "t05Jl93kmS4c",
        "outputId": "c2e63089-dc3e-4c0b-d740-7bb08dc1d5ed"
      },
      "execution_count": null,
      "outputs": [
        {
          "output_type": "stream",
          "name": "stdout",
          "text": [
            "WelcomePython:\n"
          ]
        }
      ]
    },
    {
      "cell_type": "code",
      "source": [
        "str1 = 'Python'\n",
        "print(\"Welcome %s\" % str1)"
      ],
      "metadata": {
        "colab": {
          "base_uri": "https://localhost:8080/"
        },
        "id": "p7FcqJMAmUC-",
        "outputId": "4e05930c-63d5-4c6f-c104-4edba9b0b531"
      },
      "execution_count": null,
      "outputs": [
        {
          "output_type": "stream",
          "name": "stdout",
          "text": [
            "Welcome Python\n"
          ]
        }
      ]
    },
    {
      "cell_type": "markdown",
      "source": [
        "Using other data types:\n",
        "\n",
        "Similarly, when using other data types\n",
        "\n",
        "%d -> Integer\n",
        "%e -> exponential\n",
        "%f -> Float\n",
        "%o -> Octal\n",
        "%x -> Hexadecimal"
      ],
      "metadata": {
        "id": "zqWM5SRHnNZW"
      }
    },
    {
      "cell_type": "code",
      "source": [
        "str1 = 'newton'\n",
        "print(\"welcome %e\" %15)"
      ],
      "metadata": {
        "colab": {
          "base_uri": "https://localhost:8080/"
        },
        "id": "O_t0voodnPRZ",
        "outputId": "c4cf6a23-5291-4869-cec3-92933b6e5f85"
      },
      "execution_count": null,
      "outputs": [
        {
          "output_type": "stream",
          "name": "stdout",
          "text": [
            "welcome 1.500000e+01\n"
          ]
        }
      ]
    },
    {
      "cell_type": "code",
      "source": [
        "print(\"welcome %d\" %15 )"
      ],
      "metadata": {
        "colab": {
          "base_uri": "https://localhost:8080/"
        },
        "id": "ZWgdEkZtoNdJ",
        "outputId": "3746f2d2-2f78-464b-cdc6-5c8b16116559"
      },
      "execution_count": null,
      "outputs": [
        {
          "output_type": "stream",
          "name": "stdout",
          "text": [
            "welcome 15\n"
          ]
        }
      ]
    },
    {
      "cell_type": "code",
      "source": [
        "print(\"welcome %f\" %15)"
      ],
      "metadata": {
        "colab": {
          "base_uri": "https://localhost:8080/"
        },
        "id": "3T1IYTLWqUXN",
        "outputId": "89b35c27-a337-4068-c94a-910cb843eba1"
      },
      "execution_count": null,
      "outputs": [
        {
          "output_type": "stream",
          "name": "stdout",
          "text": [
            "welcome 15.000000\n"
          ]
        }
      ]
    },
    {
      "cell_type": "code",
      "source": [
        "str1 = 'World'\n",
        "str2 = ':'\n",
        "print(\"Python %s %s\" %(str1,str2))"
      ],
      "metadata": {
        "colab": {
          "base_uri": "https://localhost:8080/"
        },
        "id": "Y5l15LnPq1uk",
        "outputId": "b5376e61-32ba-46db-f971-cbb25f1edd44"
      },
      "execution_count": null,
      "outputs": [
        {
          "output_type": "stream",
          "name": "stdout",
          "text": [
            "Python World :\n"
          ]
        }
      ]
    },
    {
      "cell_type": "code",
      "source": [
        "print(\"Sunday\\nMonday\\nTuesday\\nWednesday\\nThursday\\nFriday\\nSaturday\")\n"
      ],
      "metadata": {
        "colab": {
          "base_uri": "https://localhost:8080/"
        },
        "id": "0H2oofIiq_PH",
        "outputId": "4bc913e7-ed0b-449e-a3f0-246c644e6bb3"
      },
      "execution_count": null,
      "outputs": [
        {
          "output_type": "stream",
          "name": "stdout",
          "text": [
            "Sunday\n",
            "Monday\n",
            "Tuesday\n",
            "Wednesday\n",
            "Thursday\n",
            "Friday\n",
            "Saturday\n"
          ]
        }
      ]
    },
    {
      "cell_type": "code",
      "source": [
        "print('-w3r'*5)"
      ],
      "metadata": {
        "colab": {
          "base_uri": "https://localhost:8080/"
        },
        "id": "P-2EE0iWrChM",
        "outputId": "39ab309f-448c-41bb-c66b-153a9c0f768e"
      },
      "execution_count": null,
      "outputs": [
        {
          "output_type": "stream",
          "name": "stdout",
          "text": [
            "-w3r-w3r-w3r-w3r-w3r\n"
          ]
        }
      ]
    },
    {
      "cell_type": "code",
      "source": [
        "print(\"\"\"\n",
        "Language:\n",
        "\\t1 Python\n",
        "\\t2 Java\\n\\t3 JavaScript\n",
        "\"\"\")\n"
      ],
      "metadata": {
        "colab": {
          "base_uri": "https://localhost:8080/"
        },
        "id": "SvcS7frErcUl",
        "outputId": "923485e7-a061-4c4a-daeb-ee5578411f8f"
      },
      "execution_count": null,
      "outputs": [
        {
          "output_type": "stream",
          "name": "stdout",
          "text": [
            "\n",
            "Language:\n",
            "\t1 Python\n",
            "\t2 Java\n",
            "\t3 JavaScript\n",
            "\n"
          ]
        }
      ]
    },
    {
      "cell_type": "code",
      "source": [
        "print(\"%f\" % 5.1234567890)"
      ],
      "metadata": {
        "colab": {
          "base_uri": "https://localhost:8080/"
        },
        "id": "lCb0yLMfrh6c",
        "outputId": "4d39eaaa-1cd6-4dcb-d50c-c952521cc897"
      },
      "execution_count": null,
      "outputs": [
        {
          "output_type": "stream",
          "name": "stdout",
          "text": [
            "5.123457\n"
          ]
        }
      ]
    },
    {
      "cell_type": "code",
      "source": [
        "print(\"%.5f\" % 5.1234567890)"
      ],
      "metadata": {
        "colab": {
          "base_uri": "https://localhost:8080/"
        },
        "id": "ctl1OAgfrl06",
        "outputId": "5104ffdd-c0cb-4b1b-d25a-cea45ca4dd0d"
      },
      "execution_count": null,
      "outputs": [
        {
          "output_type": "stream",
          "name": "stdout",
          "text": [
            "5.12346\n"
          ]
        }
      ]
    },
    {
      "cell_type": "code",
      "source": [
        "x = 'shivprasad'\n",
        "x.lower()"
      ],
      "metadata": {
        "colab": {
          "base_uri": "https://localhost:8080/",
          "height": 35
        },
        "id": "f6yjX6ZUejj_",
        "outputId": "5d5a5cd9-1901-4a75-d39a-95d6dfa73c9f"
      },
      "execution_count": null,
      "outputs": [
        {
          "output_type": "execute_result",
          "data": {
            "text/plain": [
              "'shivprasad'"
            ],
            "application/vnd.google.colaboratory.intrinsic+json": {
              "type": "string"
            }
          },
          "metadata": {},
          "execution_count": 9
        }
      ]
    },
    {
      "cell_type": "code",
      "source": [
        "x.upper()"
      ],
      "metadata": {
        "colab": {
          "base_uri": "https://localhost:8080/",
          "height": 35
        },
        "id": "1dP3Z15GgtMV",
        "outputId": "9557727d-f61d-4182-ac4d-9d3eeae89f99"
      },
      "execution_count": null,
      "outputs": [
        {
          "output_type": "execute_result",
          "data": {
            "text/plain": [
              "'SHIVPRASAD'"
            ],
            "application/vnd.google.colaboratory.intrinsic+json": {
              "type": "string"
            }
          },
          "metadata": {},
          "execution_count": 10
        }
      ]
    },
    {
      "cell_type": "code",
      "source": [
        "x.replace('v','p')"
      ],
      "metadata": {
        "colab": {
          "base_uri": "https://localhost:8080/",
          "height": 35
        },
        "id": "h9hPjDOXgx25",
        "outputId": "3a7beb1e-fecb-44fa-e27e-af93ce62c9e2"
      },
      "execution_count": null,
      "outputs": [
        {
          "output_type": "execute_result",
          "data": {
            "text/plain": [
              "'shipprasad'"
            ],
            "application/vnd.google.colaboratory.intrinsic+json": {
              "type": "string"
            }
          },
          "metadata": {},
          "execution_count": 12
        }
      ]
    },
    {
      "cell_type": "code",
      "source": [
        "x = ('my name IS RAHUL')\n",
        "x.replace('name','RAHUL')\n"
      ],
      "metadata": {
        "colab": {
          "base_uri": "https://localhost:8080/",
          "height": 35
        },
        "id": "v4kLXEtihPHA",
        "outputId": "9a32fff0-7473-471d-9a39-ecbf30af9e27"
      },
      "execution_count": null,
      "outputs": [
        {
          "output_type": "execute_result",
          "data": {
            "text/plain": [
              "'my RAHUL IS RAHUL'"
            ],
            "application/vnd.google.colaboratory.intrinsic+json": {
              "type": "string"
            }
          },
          "metadata": {},
          "execution_count": 15
        }
      ]
    },
    {
      "cell_type": "code",
      "source": [
        "x = 'karan'\n",
        "x.find('r')"
      ],
      "metadata": {
        "colab": {
          "base_uri": "https://localhost:8080/"
        },
        "id": "GhofueZbhu90",
        "outputId": "53c890ec-d051-44ad-ca95-e9f196a1ef96"
      },
      "execution_count": null,
      "outputs": [
        {
          "output_type": "execute_result",
          "data": {
            "text/plain": [
              "2"
            ]
          },
          "metadata": {},
          "execution_count": 22
        }
      ]
    },
    {
      "cell_type": "code",
      "source": [
        "x = 'karan singh'\n",
        "x.count('an')"
      ],
      "metadata": {
        "colab": {
          "base_uri": "https://localhost:8080/"
        },
        "id": "5Snmv0cki7sL",
        "outputId": "1979d396-cd5f-4aca-a48f-ab60bdb02579"
      },
      "execution_count": null,
      "outputs": [
        {
          "output_type": "execute_result",
          "data": {
            "text/plain": [
              "1"
            ]
          },
          "metadata": {},
          "execution_count": 26
        }
      ]
    },
    {
      "cell_type": "markdown",
      "source": [
        "# **list**: list can be thought of the most general ression of sequence in pyyhon.\n",
        "#unlike strings they are mutable meaning the element inside can be changed.\n",
        "#list are constructed with [] brackets and commas every seperated element in list.\n",
        "# list is a collection of values and variables.\n"
      ],
      "metadata": {
        "id": "3LkZOjgkI063"
      }
    },
    {
      "cell_type": "markdown",
      "source": [
        "len = this will give no of elements in a list."
      ],
      "metadata": {
        "id": "aub58Tn_Kbzy"
      }
    },
    {
      "cell_type": "code",
      "source": [
        "x = 'saisatyam'\n",
        "len(x)"
      ],
      "metadata": {
        "colab": {
          "base_uri": "https://localhost:8080/"
        },
        "id": "DXEGYc5lKUdo",
        "outputId": "c08356f7-f727-4da0-b1f8-eb098b1c3ee2"
      },
      "execution_count": null,
      "outputs": [
        {
          "output_type": "execute_result",
          "data": {
            "text/plain": [
              "9"
            ]
          },
          "metadata": {},
          "execution_count": 4
        }
      ]
    },
    {
      "cell_type": "markdown",
      "source": [
        "indexing = grab the element at  index 0 which is the  first element"
      ],
      "metadata": {
        "id": "WZqnCryFK7qJ"
      }
    },
    {
      "cell_type": "code",
      "source": [
        "x = 'ant'\n",
        "print(x[2])"
      ],
      "metadata": {
        "colab": {
          "base_uri": "https://localhost:8080/"
        },
        "id": "wpoU8xvdKwKl",
        "outputId": "7ee42430-a3de-40f6-f8fd-e2197075522e"
      },
      "execution_count": null,
      "outputs": [
        {
          "output_type": "stream",
          "name": "stdout",
          "text": [
            "t\n"
          ]
        }
      ]
    },
    {
      "cell_type": "markdown",
      "source": [
        "slicing = TO access multiple elements. (start:end:step)"
      ],
      "metadata": {
        "id": "3hlb2BoBL2xT"
      }
    },
    {
      "cell_type": "code",
      "source": [
        "x = 'almabetter'\n",
        "print(x[2:4])"
      ],
      "metadata": {
        "colab": {
          "base_uri": "https://localhost:8080/"
        },
        "id": "v_2HYGgzL0qE",
        "outputId": "21a3d5f1-251d-4025-f6a6-83a9d7a75478"
      },
      "execution_count": null,
      "outputs": [
        {
          "output_type": "stream",
          "name": "stdout",
          "text": [
            "ma\n"
          ]
        }
      ]
    },
    {
      "cell_type": "code",
      "source": [
        "print(x[3:-2])"
      ],
      "metadata": {
        "colab": {
          "base_uri": "https://localhost:8080/"
        },
        "id": "dVzo5x-hMYgR",
        "outputId": "674a53c8-f6e6-4938-82ac-48c5096e82f2"
      },
      "execution_count": null,
      "outputs": [
        {
          "output_type": "stream",
          "name": "stdout",
          "text": [
            "abett\n"
          ]
        }
      ]
    },
    {
      "cell_type": "code",
      "source": [
        "x = 'rohit sharma'\n",
        "print(x[2:9:2])"
      ],
      "metadata": {
        "colab": {
          "base_uri": "https://localhost:8080/"
        },
        "id": "4KiF2va8MBKz",
        "outputId": "fccbe247-932e-4a36-e60f-3e2410c73d8f"
      },
      "execution_count": null,
      "outputs": [
        {
          "output_type": "stream",
          "name": "stdout",
          "text": [
            "htsa\n"
          ]
        }
      ]
    },
    {
      "cell_type": "markdown",
      "source": [
        "# functions and methods:\n",
        "functions and methods\n",
        "They are independent..\n",
        "→ fune-name (args, arg2...)\n",
        "ex. len\n",
        "can be applied to shing, list. ete.\n",
        "Methods\n",
        "→ Specific me, bike shing methods can't be applied to lists\n",
        "→str-name. method-name Carg1, arg 2."
      ],
      "metadata": {
        "id": "i-JAYefzNEq6"
      }
    },
    {
      "cell_type": "markdown",
      "source": [
        "length functions() = it grab length of the element in a list."
      ],
      "metadata": {
        "id": "4dnpHWNZOJU8"
      }
    },
    {
      "cell_type": "markdown",
      "source": [
        "minimum functions() = it gives min value in the element."
      ],
      "metadata": {
        "id": "iwj6shg0OVO4"
      }
    },
    {
      "cell_type": "markdown",
      "source": [
        "sum functions() = it sums all the element in a list."
      ],
      "metadata": {
        "id": "utwFfqWpOb9K"
      }
    },
    {
      "cell_type": "code",
      "source": [
        "new_list = [2,6,23,7]\n",
        "sum(new_list)"
      ],
      "metadata": {
        "colab": {
          "base_uri": "https://localhost:8080/"
        },
        "id": "pmzfvIKvOjmu",
        "outputId": "94ecd041-ea8d-44e9-87c7-2047c2a82fe4"
      },
      "execution_count": null,
      "outputs": [
        {
          "output_type": "execute_result",
          "data": {
            "text/plain": [
              "38"
            ]
          },
          "metadata": {},
          "execution_count": 17
        }
      ]
    },
    {
      "cell_type": "markdown",
      "source": [
        "sorted() = functions returns the sorted list but doesnt change the original list."
      ],
      "metadata": {
        "id": "st5BvpfCPM7e"
      }
    },
    {
      "cell_type": "code",
      "source": [
        "new = [1,4,7,4,2,]"
      ],
      "metadata": {
        "id": "3PVDWEUgOjcg"
      },
      "execution_count": null,
      "outputs": []
    },
    {
      "cell_type": "code",
      "source": [
        "sorted(new)"
      ],
      "metadata": {
        "colab": {
          "base_uri": "https://localhost:8080/"
        },
        "id": "RfYizp8tQAfJ",
        "outputId": "5017ce9c-33fa-4277-9d83-ea97a15fde03"
      },
      "execution_count": null,
      "outputs": [
        {
          "output_type": "execute_result",
          "data": {
            "text/plain": [
              "[1, 2, 4, 4, 7]"
            ]
          },
          "metadata": {},
          "execution_count": 19
        }
      ]
    },
    {
      "cell_type": "code",
      "source": [
        "new = ['joo','boo','soo','loo']\n",
        "sorted(new)"
      ],
      "metadata": {
        "colab": {
          "base_uri": "https://localhost:8080/"
        },
        "id": "yn22cJAFObjf",
        "outputId": "007e12f3-2b0e-4212-baa0-76a3cd728f90"
      },
      "execution_count": null,
      "outputs": [
        {
          "output_type": "execute_result",
          "data": {
            "text/plain": [
              "['boo', 'joo', 'loo', 'soo']"
            ]
          },
          "metadata": {},
          "execution_count": 20
        }
      ]
    },
    {
      "cell_type": "markdown",
      "source": [
        "# **methods**"
      ],
      "metadata": {
        "id": "quG4XoY-Quuj"
      }
    },
    {
      "cell_type": "markdown",
      "source": [
        "**APPEND**"
      ],
      "metadata": {
        "id": "WpoK9wYPRV6n"
      }
    },
    {
      "cell_type": "code",
      "source": [
        "x = [1,2,3,4,5]\n",
        "x.append(65)\n",
        "print(x)"
      ],
      "metadata": {
        "colab": {
          "base_uri": "https://localhost:8080/"
        },
        "id": "gCqEweikOU0f",
        "outputId": "b9a92c24-fe22-44d2-a6f1-6b12c3a5c09e"
      },
      "execution_count": null,
      "outputs": [
        {
          "output_type": "stream",
          "name": "stdout",
          "text": [
            "[1, 2, 3, 4, 5, 65]\n"
          ]
        }
      ]
    },
    {
      "cell_type": "code",
      "source": [
        "x = ['boo','few','hoo']\n",
        "x.append('too')\n",
        "print(x)"
      ],
      "metadata": {
        "colab": {
          "base_uri": "https://localhost:8080/"
        },
        "id": "HfbXsPSuReaz",
        "outputId": "5f880ea1-5b4a-4dcc-863c-6b674136e94e"
      },
      "execution_count": null,
      "outputs": [
        {
          "output_type": "stream",
          "name": "stdout",
          "text": [
            "['boo', 'few', 'hoo', 'too']\n"
          ]
        }
      ]
    },
    {
      "cell_type": "markdown",
      "source": [
        "EXTEND"
      ],
      "metadata": {
        "id": "ASfavZruRY6H"
      }
    },
    {
      "cell_type": "code",
      "source": [
        "x = [2,3,4,5]\n",
        "x.extend([56])\n",
        "print(x)"
      ],
      "metadata": {
        "colab": {
          "base_uri": "https://localhost:8080/"
        },
        "id": "ZM25P5XXRakT",
        "outputId": "fb5b24d5-c753-4c0d-ad03-637745300e41"
      },
      "execution_count": null,
      "outputs": [
        {
          "output_type": "stream",
          "name": "stdout",
          "text": [
            "[2, 3, 4, 5, 56]\n"
          ]
        }
      ]
    },
    {
      "cell_type": "markdown",
      "source": [
        "pop = To remove specific index."
      ],
      "metadata": {
        "id": "pCTtS--d0NB0"
      }
    },
    {
      "cell_type": "code",
      "source": [
        "x = [2,3,4]\n",
        "x.pop(2)"
      ],
      "metadata": {
        "colab": {
          "base_uri": "https://localhost:8080/"
        },
        "id": "32YWo63c1ISd",
        "outputId": "8adbc901-409e-4eee-e0f5-5918c2a3e192"
      },
      "execution_count": null,
      "outputs": [
        {
          "output_type": "execute_result",
          "data": {
            "text/plain": [
              "4"
            ]
          },
          "metadata": {},
          "execution_count": 4
        }
      ]
    },
    {
      "cell_type": "code",
      "source": [
        "x = [2,3,4,5]\n",
        "x.pop(3)"
      ],
      "metadata": {
        "colab": {
          "base_uri": "https://localhost:8080/"
        },
        "id": "Y45MA84A1U8j",
        "outputId": "20d27d11-c2d3-42e0-9f3a-1c0ef8089f26"
      },
      "execution_count": null,
      "outputs": [
        {
          "output_type": "execute_result",
          "data": {
            "text/plain": [
              "5"
            ]
          },
          "metadata": {},
          "execution_count": 8
        }
      ]
    },
    {
      "cell_type": "code",
      "source": [
        "x = ['shiv','vicks','cat']\n",
        "x.pop(1)"
      ],
      "metadata": {
        "colab": {
          "base_uri": "https://localhost:8080/",
          "height": 35
        },
        "id": "g-vp-eT71XQQ",
        "outputId": "8404e5d4-15f5-46c1-e06b-82c0a799a9f1"
      },
      "execution_count": null,
      "outputs": [
        {
          "output_type": "execute_result",
          "data": {
            "text/plain": [
              "'vicks'"
            ],
            "application/vnd.google.colaboratory.intrinsic+json": {
              "type": "string"
            }
          },
          "metadata": {},
          "execution_count": 17
        }
      ]
    },
    {
      "cell_type": "markdown",
      "source": [
        "remove() = To remove a specific element in a list ."
      ],
      "metadata": {
        "id": "V1Ndznge3DXF"
      }
    },
    {
      "cell_type": "code",
      "source": [
        "var = ['cat','dog','fox']\n",
        "var.remove('dog')\n",
        "print(var)"
      ],
      "metadata": {
        "colab": {
          "base_uri": "https://localhost:8080/"
        },
        "id": "gdw3wvJ42iKt",
        "outputId": "ba82890d-9b0f-4409-fd22-582c25a46718"
      },
      "execution_count": null,
      "outputs": [
        {
          "output_type": "stream",
          "name": "stdout",
          "text": [
            "['cat', 'fox']\n"
          ]
        }
      ]
    },
    {
      "cell_type": "markdown",
      "source": [
        "count() =  To count all the element in a list."
      ],
      "metadata": {
        "id": "xbw8HxJX3MNL"
      }
    },
    {
      "cell_type": "code",
      "source": [
        "result = ['k','d','s','d']\n",
        "result.count('d')"
      ],
      "metadata": {
        "colab": {
          "base_uri": "https://localhost:8080/"
        },
        "id": "T_BJuG-z3BYS",
        "outputId": "6e22a97e-e18d-41a4-fdfc-901820edeee6"
      },
      "execution_count": null,
      "outputs": [
        {
          "output_type": "execute_result",
          "data": {
            "text/plain": [
              "2"
            ]
          },
          "metadata": {},
          "execution_count": 22
        }
      ]
    },
    {
      "cell_type": "code",
      "source": [
        "result = [1,2,3,4,4]\n",
        "result.count(4)"
      ],
      "metadata": {
        "colab": {
          "base_uri": "https://localhost:8080/"
        },
        "id": "QHjCrenU34O5",
        "outputId": "04f80bff-8e2f-4612-afaf-c9bea9f279a3"
      },
      "execution_count": null,
      "outputs": [
        {
          "output_type": "execute_result",
          "data": {
            "text/plain": [
              "2"
            ]
          },
          "metadata": {},
          "execution_count": 23
        }
      ]
    },
    {
      "cell_type": "markdown",
      "source": [
        "sort()"
      ],
      "metadata": {
        "id": "aTkVM-9I4Yh_"
      }
    },
    {
      "cell_type": "code",
      "source": [
        "ne_list = [1,2,65,4,54]\n",
        "ne_list.sort()\n",
        "print(ne_list)"
      ],
      "metadata": {
        "colab": {
          "base_uri": "https://localhost:8080/"
        },
        "id": "KBWWruc84bkJ",
        "outputId": "1acc244a-0e5d-4d8e-de9a-28e1fc8c215b"
      },
      "execution_count": null,
      "outputs": [
        {
          "output_type": "stream",
          "name": "stdout",
          "text": [
            "[1, 2, 4, 54, 65]\n"
          ]
        }
      ]
    },
    {
      "cell_type": "code",
      "source": [
        "ne_list.sort(reverse = True)\n",
        "print(ne_list)"
      ],
      "metadata": {
        "colab": {
          "base_uri": "https://localhost:8080/"
        },
        "id": "7HZUtgtH4ywY",
        "outputId": "8126fc67-ab5c-4ff1-e399-e770b79d5058"
      },
      "execution_count": null,
      "outputs": [
        {
          "output_type": "stream",
          "name": "stdout",
          "text": [
            "[65, 54, 4, 2, 1]\n"
          ]
        }
      ]
    },
    {
      "cell_type": "markdown",
      "source": [
        "Reverse() = To reverse all elements in a list."
      ],
      "metadata": {
        "id": "C_a_IwJr5GJ8"
      }
    },
    {
      "cell_type": "code",
      "source": [
        "xc = [4,3,5,6,6,42]\n",
        "xc.reverse()\n",
        "print(xc)"
      ],
      "metadata": {
        "colab": {
          "base_uri": "https://localhost:8080/"
        },
        "id": "eJeWWASf5F6F",
        "outputId": "7a34df73-90a1-493c-8cbc-a28b5c3b3804"
      },
      "execution_count": null,
      "outputs": [
        {
          "output_type": "stream",
          "name": "stdout",
          "text": [
            "[42, 6, 6, 5, 3, 4]\n"
          ]
        }
      ]
    },
    {
      "cell_type": "code",
      "source": [
        "xc = ['gh','j','g']\n",
        "xc.reverse()\n",
        "print(xc)"
      ],
      "metadata": {
        "colab": {
          "base_uri": "https://localhost:8080/"
        },
        "id": "yCSu8MR85QSA",
        "outputId": "519ab551-f932-4cc7-bee0-11687c82349a"
      },
      "execution_count": null,
      "outputs": [
        {
          "output_type": "stream",
          "name": "stdout",
          "text": [
            "['g', 'j', 'gh']\n"
          ]
        }
      ]
    },
    {
      "cell_type": "markdown",
      "source": [
        "# **nested list** = A great feature of a python data structure is that they support data\n",
        "# nesting. This means we can have structure for ex. A list inside a list."
      ],
      "metadata": {
        "id": "4_rZ4JcP57UK"
      }
    },
    {
      "cell_type": "markdown",
      "source": [],
      "metadata": {
        "id": "OKlgN3Te3nvP"
      }
    },
    {
      "cell_type": "code",
      "source": [
        "lst_3 = [2,3,4]\n",
        "lst_1 = ['j','f','d']\n",
        "lst_2 = [34,5,6,6,4]\n",
        "list_of_lists = [lst_3,lst_1,lst_2]\n",
        "print(list_of_lists)\n"
      ],
      "metadata": {
        "colab": {
          "base_uri": "https://localhost:8080/"
        },
        "id": "NcGqty5r6pNH",
        "outputId": "46f6147b-f534-4b85-9405-999442435f2b"
      },
      "execution_count": null,
      "outputs": [
        {
          "output_type": "stream",
          "name": "stdout",
          "text": [
            "[[2, 3, 4], ['j', 'f', 'd'], [34, 5, 6, 6, 4]]\n"
          ]
        }
      ]
    },
    {
      "cell_type": "code",
      "source": [
        "list_of_lists[0]"
      ],
      "metadata": {
        "colab": {
          "base_uri": "https://localhost:8080/"
        },
        "id": "_54bYOqyDCWs",
        "outputId": "79afc5e6-8236-4157-cee0-a5d66a0b11c5"
      },
      "execution_count": null,
      "outputs": [
        {
          "output_type": "execute_result",
          "data": {
            "text/plain": [
              "[2, 3, 4]"
            ]
          },
          "metadata": {},
          "execution_count": 47
        }
      ]
    },
    {
      "cell_type": "code",
      "source": [
        "list_of_lists[0][1]"
      ],
      "metadata": {
        "colab": {
          "base_uri": "https://localhost:8080/"
        },
        "id": "SM4kLaYVDgk-",
        "outputId": "fa221cb0-3636-45af-b139-c721e6f850f9"
      },
      "execution_count": null,
      "outputs": [
        {
          "output_type": "execute_result",
          "data": {
            "text/plain": [
              "3"
            ]
          },
          "metadata": {},
          "execution_count": 49
        }
      ]
    },
    {
      "cell_type": "code",
      "source": [
        "my_list = [2,3,4,5,9]\n",
        "my_list[0]=1\n",
        "print(my_list)"
      ],
      "metadata": {
        "colab": {
          "base_uri": "https://localhost:8080/"
        },
        "id": "7i5-kDSCD2C3",
        "outputId": "fa237b09-59de-4278-ff0a-10744dfc6487"
      },
      "execution_count": null,
      "outputs": [
        {
          "output_type": "stream",
          "name": "stdout",
          "text": [
            "[1, 3, 4, 5, 9]\n"
          ]
        }
      ]
    },
    {
      "cell_type": "code",
      "source": [
        "nested_list = [[1, 2, 3], [4, 5, 6], [7, 8, 9]]\n"
      ],
      "metadata": {
        "id": "hTGIrlPs5Lto"
      },
      "execution_count": 1,
      "outputs": []
    },
    {
      "cell_type": "code",
      "source": [
        "print(nested_list[0])  # Output: [1, 2, 3]\n",
        "print(nested_list[1][1])  # Output: 5\n",
        "print(nested_list[2][0])  # Output: 7\n"
      ],
      "metadata": {
        "colab": {
          "base_uri": "https://localhost:8080/"
        },
        "id": "vfPjy2do5P9Y",
        "outputId": "ff0fab61-84fe-4147-8290-12c0ce44824d"
      },
      "execution_count": 2,
      "outputs": [
        {
          "output_type": "stream",
          "name": "stdout",
          "text": [
            "[1, 2, 3]\n",
            "5\n",
            "7\n"
          ]
        }
      ]
    },
    {
      "cell_type": "markdown",
      "source": [
        "## statement = Any instruction written in the source code and executed by the Python interpreter is called a statement. The Python language has many different types of statements like assignment statements, conditional statements, looping statements, etc., that help a programmer get the desired output. For example, p = 9; is an assignment statement."
      ],
      "metadata": {
        "id": "MqDMHECSjlFL"
      }
    },
    {
      "cell_type": "code",
      "source": [
        "x = 3\n",
        "print(1 + 1)\n",
        "print(len(\"Hello Team AlmaBetter\"))"
      ],
      "metadata": {
        "colab": {
          "base_uri": "https://localhost:8080/"
        },
        "id": "jmTcr-5qxFx1",
        "outputId": "476ee7b5-d82d-4e02-859c-5ce443bac5b2"
      },
      "execution_count": null,
      "outputs": [
        {
          "output_type": "stream",
          "name": "stdout",
          "text": [
            "2\n",
            "21\n"
          ]
        }
      ]
    },
    {
      "cell_type": "code",
      "source": [
        "y = 3.14\n",
        "y"
      ],
      "metadata": {
        "colab": {
          "base_uri": "https://localhost:8080/"
        },
        "id": "5ntuferPxRp7",
        "outputId": "df5b72a5-7fe3-49a7-9767-a7231720b7aa"
      },
      "execution_count": null,
      "outputs": [
        {
          "output_type": "execute_result",
          "data": {
            "text/plain": [
              "3.14"
            ]
          },
          "metadata": {},
          "execution_count": 2
        }
      ]
    },
    {
      "cell_type": "code",
      "source": [
        "a = 'Mighty'\n",
        "# b = a == True\n",
        "a == True"
      ],
      "metadata": {
        "colab": {
          "base_uri": "https://localhost:8080/"
        },
        "id": "OTgC8x7-xVHD",
        "outputId": "41a0dc83-61e9-4176-9ef2-779c57280e05"
      },
      "execution_count": null,
      "outputs": [
        {
          "output_type": "execute_result",
          "data": {
            "text/plain": [
              "False"
            ]
          },
          "metadata": {},
          "execution_count": 3
        }
      ]
    },
    {
      "cell_type": "code",
      "source": [
        "# Import statement\n",
        "import pandas as pd\n",
        "print(y)"
      ],
      "metadata": {
        "colab": {
          "base_uri": "https://localhost:8080/"
        },
        "id": "fOmBCiu-xYsM",
        "outputId": "0060b1f0-b1dd-4f22-977a-8d1165e4303a"
      },
      "execution_count": null,
      "outputs": [
        {
          "output_type": "stream",
          "name": "stdout",
          "text": [
            "3.14\n"
          ]
        }
      ]
    },
    {
      "cell_type": "markdown",
      "source": [
        "Multi-line Statements\n",
        "In Python, the end of a statement is marked by a newline character. But we can make a statement extend over multiple lines with the line continuation character ()."
      ],
      "metadata": {
        "id": "N1NxxgHGxhkW"
      }
    },
    {
      "cell_type": "code",
      "source": [
        "s = 10 + 15+ 30 + \\\n",
        "    49 + 5 + 57 + \\\n",
        "    3 - 54 - 7"
      ],
      "metadata": {
        "id": "qf5_-O0HD20U"
      },
      "execution_count": null,
      "outputs": []
    },
    {
      "cell_type": "code",
      "source": [
        "s"
      ],
      "metadata": {
        "colab": {
          "base_uri": "https://localhost:8080/"
        },
        "id": "9Mop4kkCx8yO",
        "outputId": "c9ef3ac9-6b85-4bb4-d867-7a74132eb910"
      },
      "execution_count": null,
      "outputs": [
        {
          "output_type": "execute_result",
          "data": {
            "text/plain": [
              "113"
            ]
          },
          "metadata": {},
          "execution_count": 11
        }
      ]
    },
    {
      "cell_type": "code",
      "source": [
        "s = (10 + 15+ 30 +\n",
        "    49 + 5 + 57 +\n",
        "    3 - 54 - 2)\n",
        "\n",
        "p = [ 'Hello',\n",
        "'welcome',\n",
        "'to Python']\n",
        "\n",
        "x = 5; p = 83; o = 7\n",
        "\n"
      ],
      "metadata": {
        "id": "KzwMgIuekoi7"
      },
      "execution_count": null,
      "outputs": []
    },
    {
      "cell_type": "code",
      "source": [
        "a = 2; b = 3; c = 5\n",
        "print(a);print(b);print(c)"
      ],
      "metadata": {
        "colab": {
          "base_uri": "https://localhost:8080/"
        },
        "id": "OoONGUR2mtMb",
        "outputId": "714eed76-8611-4775-9a32-3cec522faac5"
      },
      "execution_count": null,
      "outputs": [
        {
          "output_type": "stream",
          "name": "stdout",
          "text": [
            "2\n",
            "3\n",
            "5\n"
          ]
        }
      ]
    },
    {
      "cell_type": "code",
      "source": [
        "my_list = [1]\n",
        "my_tuple = (1,)\n",
        "my_list, my_tuple"
      ],
      "metadata": {
        "colab": {
          "base_uri": "https://localhost:8080/"
        },
        "id": "ARpJe2vwxzjA",
        "outputId": "a910b7c9-6d01-4f2d-99ed-5778f41c871c"
      },
      "execution_count": null,
      "outputs": [
        {
          "output_type": "execute_result",
          "data": {
            "text/plain": [
              "([1], (1,))"
            ]
          },
          "metadata": {},
          "execution_count": 7
        }
      ]
    },
    {
      "cell_type": "code",
      "source": [
        "a = (1 + 2 + 3 + 4 +\n",
        "\n",
        "     5 + 6 + 7 +\n",
        "     8 + 9 + 10)"
      ],
      "metadata": {
        "id": "sMZlkm6Zx3od"
      },
      "execution_count": null,
      "outputs": []
    },
    {
      "cell_type": "code",
      "source": [
        "a"
      ],
      "metadata": {
        "colab": {
          "base_uri": "https://localhost:8080/"
        },
        "id": "xEzLN8L0x6xS",
        "outputId": "a4904658-ca26-4ade-bd12-038084222ef1"
      },
      "execution_count": null,
      "outputs": [
        {
          "output_type": "execute_result",
          "data": {
            "text/plain": [
              "55"
            ]
          },
          "metadata": {},
          "execution_count": 10
        }
      ]
    },
    {
      "cell_type": "code",
      "source": [
        "type(a)"
      ],
      "metadata": {
        "colab": {
          "base_uri": "https://localhost:8080/"
        },
        "id": "d27GO2I7yBDn",
        "outputId": "81e9f808-a518-4185-b7d4-03d993846170"
      },
      "execution_count": null,
      "outputs": [
        {
          "output_type": "execute_result",
          "data": {
            "text/plain": [
              "int"
            ]
          },
          "metadata": {},
          "execution_count": 15
        }
      ]
    },
    {
      "cell_type": "code",
      "source": [
        "a = 1\n",
        "b = 2\n",
        "c = 3"
      ],
      "metadata": {
        "id": "djqcYqsOyYyr"
      },
      "execution_count": null,
      "outputs": []
    },
    {
      "cell_type": "code",
      "source": [
        "a, b, c = [1, 'a', True], (45, 67), {'Name' : 'rahul' , 'Age' : 22}"
      ],
      "metadata": {
        "id": "GQMgHWopybF8"
      },
      "execution_count": null,
      "outputs": []
    },
    {
      "cell_type": "code",
      "source": [
        "a"
      ],
      "metadata": {
        "colab": {
          "base_uri": "https://localhost:8080/"
        },
        "id": "vmtatZ_tyfrN",
        "outputId": "ad901e95-9289-4c29-b8f6-1da56680eed4"
      },
      "execution_count": null,
      "outputs": [
        {
          "output_type": "execute_result",
          "data": {
            "text/plain": [
              "[1, 'a', True]"
            ]
          },
          "metadata": {},
          "execution_count": 18
        }
      ]
    },
    {
      "cell_type": "code",
      "source": [
        "b"
      ],
      "metadata": {
        "colab": {
          "base_uri": "https://localhost:8080/"
        },
        "id": "ImUl-Pk1yisD",
        "outputId": "a61fc36f-55c7-4f05-aaa5-a697df0e7d8c"
      },
      "execution_count": null,
      "outputs": [
        {
          "output_type": "execute_result",
          "data": {
            "text/plain": [
              "(45, 67)"
            ]
          },
          "metadata": {},
          "execution_count": 19
        }
      ]
    },
    {
      "cell_type": "code",
      "source": [
        "c"
      ],
      "metadata": {
        "colab": {
          "base_uri": "https://localhost:8080/"
        },
        "id": "31gFo24Vyj1c",
        "outputId": "d77e22b1-fa31-4034-8ab1-849c79718d0a"
      },
      "execution_count": null,
      "outputs": [
        {
          "output_type": "execute_result",
          "data": {
            "text/plain": [
              "{'Name': 'rahul', 'Age': 22}"
            ]
          },
          "metadata": {},
          "execution_count": 20
        }
      ]
    },
    {
      "cell_type": "code",
      "source": [],
      "metadata": {
        "id": "ldEScIU-yuwi"
      },
      "execution_count": null,
      "outputs": []
    },
    {
      "cell_type": "markdown",
      "source": [
        "# Python Comments\n",
        "Comments are very important while writing a program. They describe what is going on inside a program, so that a person looking at the source code does not have a hard time figuring it out.\n",
        "\n",
        "You might forget the key details of the program you just wrote in a month's time. So taking the time to explain these concepts in the form of comments is always fruitful.\n",
        "\n",
        "In Python, we use the hash (#) symbol to start writing a comment.\n",
        "\n",
        "It extends up to the newline character. Comments are for programmers to better understand a program. Python Interpreter ignores comments.\n",
        "\n"
      ],
      "metadata": {
        "id": "_MaewqwryuHx"
      }
    },
    {
      "cell_type": "code",
      "source": [
        "print('Hello')\n"
      ],
      "metadata": {
        "colab": {
          "base_uri": "https://localhost:8080/"
        },
        "id": "HrehMVGEyzFL",
        "outputId": "e249f0de-928e-4bc4-c968-45a87e0ab402"
      },
      "execution_count": null,
      "outputs": [
        {
          "output_type": "stream",
          "name": "stdout",
          "text": [
            "Hello\n"
          ]
        }
      ]
    },
    {
      "cell_type": "markdown",
      "source": [
        "# Indentation in Python\n",
        "It is important to keep a good understanding of how indentation works in Python to maintain the structure and order of your code. We will touch on this topic again when we start building out functions!\n",
        "\n",
        "Let's create a simple statement that says: \"If a is greater than b, assign 2 to a and 4 to b\"\n",
        "\n",
        "Take a look at how to write a simple if statement"
      ],
      "metadata": {
        "id": "cs_u7dlGy6lO"
      }
    },
    {
      "cell_type": "code",
      "source": [
        "a=2\n",
        "b=1\n",
        "\n",
        "# if b > a:\n",
        "#   a = 5\n",
        "#   b = 5"
      ],
      "metadata": {
        "id": "6IVtIsQWzLKw"
      },
      "execution_count": null,
      "outputs": []
    },
    {
      "cell_type": "code",
      "source": [
        "a"
      ],
      "metadata": {
        "colab": {
          "base_uri": "https://localhost:8080/"
        },
        "id": "XPcfSpOyzPVO",
        "outputId": "5fcf8b47-b2c4-488e-a666-90f8e97f8eb8"
      },
      "execution_count": null,
      "outputs": [
        {
          "output_type": "execute_result",
          "data": {
            "text/plain": [
              "2"
            ]
          },
          "metadata": {},
          "execution_count": 24
        }
      ]
    },
    {
      "cell_type": "code",
      "source": [
        "b"
      ],
      "metadata": {
        "colab": {
          "base_uri": "https://localhost:8080/"
        },
        "id": "xNKOMan8zQKq",
        "outputId": "0a2434fd-2e50-4900-f49d-b513dafd5528"
      },
      "execution_count": null,
      "outputs": [
        {
          "output_type": "execute_result",
          "data": {
            "text/plain": [
              "1"
            ]
          },
          "metadata": {},
          "execution_count": 25
        }
      ]
    },
    {
      "cell_type": "code",
      "source": [
        "a, b = 3, 2\n",
        "if a > b:\n",
        "  print(\"True\")"
      ],
      "metadata": {
        "colab": {
          "base_uri": "https://localhost:8080/"
        },
        "id": "9mv0T-f6z4Iy",
        "outputId": "b1414df9-d364-4100-cd88-9f5cc6fc67cd"
      },
      "execution_count": null,
      "outputs": [
        {
          "output_type": "stream",
          "name": "stdout",
          "text": [
            "True\n"
          ]
        }
      ]
    },
    {
      "cell_type": "code",
      "source": [
        "v = 4\n",
        "b = 2\n",
        "if v > b:\n",
        "  print(\"false\")"
      ],
      "metadata": {
        "colab": {
          "base_uri": "https://localhost:8080/"
        },
        "id": "J3X5naPK0mez",
        "outputId": "839b442a-d139-447b-b3ee-f5286f403c78"
      },
      "execution_count": null,
      "outputs": [
        {
          "output_type": "stream",
          "name": "stdout",
          "text": [
            "false\n"
          ]
        }
      ]
    },
    {
      "cell_type": "markdown",
      "source": [
        "# Conditional Statements\n",
        "if Statements in Python allows us to tell the computer to perform alternative actions based on a certain set of results.\n",
        "\n",
        "Verbally, we can imagine we are telling the computer:\"Hey if this case happens, perform some action\"\n",
        "\n",
        "We can then expand the idea further with elif and else statements, which allow us to tell the computer: \"Hey if this case happens, perform some action. Else, if another case happens, perform some other action. Else, if none of the above cases happened, perform this action.\"\n",
        "\n",
        "Let's go ahead and look at the syntax format for if statements to get a better idea of this:\n",
        "\n",
        "if case1: perform action1 elif case2: perform action2 else: perform action3"
      ],
      "metadata": {
        "id": "2A_1zX6M08Fe"
      }
    },
    {
      "cell_type": "code",
      "source": [
        "if case1 :\n",
        "  # do some action\n",
        "  elif case 5 :\n",
        "    # another action\n",
        "elif case2 :\n",
        "  # do some another action\n",
        "else:\n",
        "  # do some yet another action\n"
      ],
      "metadata": {
        "id": "BDEeeoFj1HCk"
      },
      "execution_count": null,
      "outputs": []
    },
    {
      "cell_type": "code",
      "source": [
        "x=20\n",
        "\n",
        "if x == 30 :\n",
        "  print('x is greater than 10!')\n",
        "  print(f'x is {x}')"
      ],
      "metadata": {
        "id": "fc-daPYB1L9j"
      },
      "execution_count": null,
      "outputs": []
    },
    {
      "cell_type": "code",
      "source": [
        "x == 20"
      ],
      "metadata": {
        "colab": {
          "base_uri": "https://localhost:8080/"
        },
        "id": "ov-Ev7Z81pDD",
        "outputId": "b43286b3-9024-4c21-868f-616970e60dec"
      },
      "execution_count": null,
      "outputs": [
        {
          "output_type": "execute_result",
          "data": {
            "text/plain": [
              "True"
            ]
          },
          "metadata": {},
          "execution_count": 40
        }
      ]
    },
    {
      "cell_type": "code",
      "source": [
        "if True:\n",
        "  print('It was true!')"
      ],
      "metadata": {
        "colab": {
          "base_uri": "https://localhost:8080/"
        },
        "id": "Ux6BSmsX1r7z",
        "outputId": "0304faa7-bf34-4d3b-b507-005c765b7cee"
      },
      "execution_count": null,
      "outputs": [
        {
          "output_type": "stream",
          "name": "stdout",
          "text": [
            "It was true!\n"
          ]
        }
      ]
    },
    {
      "cell_type": "code",
      "source": [
        "6==8"
      ],
      "metadata": {
        "colab": {
          "base_uri": "https://localhost:8080/"
        },
        "id": "_WeJo1_d124P",
        "outputId": "af72c150-f99a-4852-c8ca-cf6f6ba9fed6"
      },
      "execution_count": null,
      "outputs": [
        {
          "output_type": "execute_result",
          "data": {
            "text/plain": [
              "False"
            ]
          },
          "metadata": {},
          "execution_count": 48
        }
      ]
    },
    {
      "cell_type": "code",
      "source": [
        "if False:\n",
        "  print('It was false')"
      ],
      "metadata": {
        "id": "NgQNsRwa1vDf"
      },
      "execution_count": null,
      "outputs": []
    },
    {
      "cell_type": "code",
      "source": [
        "x = False\n",
        "y = True\n",
        "\n",
        "if x:\n",
        "  print('y was True!')\n",
        "else:\n",
        "  print('x is not true')"
      ],
      "metadata": {
        "colab": {
          "base_uri": "https://localhost:8080/"
        },
        "id": "mVR0HFjx2Mix",
        "outputId": "99bd85e6-1f83-44a4-deba-b4cdc8d8b4ea"
      },
      "execution_count": null,
      "outputs": [
        {
          "output_type": "stream",
          "name": "stdout",
          "text": [
            "x is not true\n"
          ]
        }
      ]
    },
    {
      "cell_type": "code",
      "source": [
        "city = ('Pune')\n",
        "\n",
        "if city == ('New Delhi'):\n",
        "  print('Welcome to the Indian Capital')\n",
        "elif city == ('Mumbai'):\n",
        "  print('Welcome to the Financial Capital of India!')\n",
        "elif city == ('Pune'):\n",
        "  print('welcome to puneri')\n",
        "else:\n",
        "  print('Where are you?')"
      ],
      "metadata": {
        "colab": {
          "base_uri": "https://localhost:8080/"
        },
        "id": "rvpI5mpC2b10",
        "outputId": "df71444b-fbc4-4871-d573-0c5136f5d8cc"
      },
      "execution_count": null,
      "outputs": [
        {
          "output_type": "stream",
          "name": "stdout",
          "text": [
            "welcome to puneri\n"
          ]
        }
      ]
    },
    {
      "cell_type": "code",
      "source": [
        "person = 'Johnny'\n",
        "\n",
        "if person == 'John':\n",
        "    print(f'Welcome {person}!')\n",
        "else:\n",
        "    print(\"Welcome, what's your name?\")"
      ],
      "metadata": {
        "colab": {
          "base_uri": "https://localhost:8080/"
        },
        "id": "YwmCdKGI3L3n",
        "outputId": "af9985cd-8893-41cf-b7e6-bc707de87848"
      },
      "execution_count": null,
      "outputs": [
        {
          "output_type": "stream",
          "name": "stdout",
          "text": [
            "Welcome, what's your name?\n"
          ]
        }
      ]
    },
    {
      "cell_type": "code",
      "source": [
        "number1 = -2\n",
        "number2 = 9\n",
        "\n",
        "if number1 > 0:\n",
        "  if number2 < 10 :\n",
        "    print(number2 + number1)\n",
        "  else:\n",
        "    print(\"Should be greater than 10\")\n",
        "\n",
        "elif number1 < 0:\n",
        "    print(\"Ah, that's a negative number\")\n",
        "else:\n",
        "    print(\"The number is zero!\")"
      ],
      "metadata": {
        "colab": {
          "base_uri": "https://localhost:8080/"
        },
        "id": "p7qdGGzu3PvI",
        "outputId": "3417df82-e094-45b4-e559-7d06b643bca9"
      },
      "execution_count": null,
      "outputs": [
        {
          "output_type": "stream",
          "name": "stdout",
          "text": [
            "Ah, that's a negative number\n"
          ]
        }
      ]
    },
    {
      "cell_type": "markdown",
      "source": [
        "Truthy & Falsy\n",
        "A \"truthy\" value will satisfy the check performed by if or while statements. We use \"truthy\" and \"falsy\" to differentiate from the boolean values True and False.\n",
        "All values are considered \"truthy\" except for the following, which are \"falsy\":\n",
        "None\n",
        "\n",
        "False\n",
        "\n",
        "0\n",
        "\n",
        "0.0\n",
        "\n",
        "\n",
        "[] - an empty list\n",
        "\n",
        "{} - an empty dict\n",
        "\n",
        "() - an empty tuple\n",
        "\n",
        "'' - an empty str"
      ],
      "metadata": {
        "id": "07PSau7m3ViC"
      }
    },
    {
      "cell_type": "code",
      "source": [
        "if False:\n",
        "  print(\"What do you say?\")\n",
        "else:\n",
        "  print(\"I have nothing to say\")"
      ],
      "metadata": {
        "colab": {
          "base_uri": "https://localhost:8080/"
        },
        "id": "oHUhAdT73jMD",
        "outputId": "b9152ae8-4fb9-48cc-b415-2a91e18fcdb6"
      },
      "execution_count": null,
      "outputs": [
        {
          "output_type": "stream",
          "name": "stdout",
          "text": [
            "I have nothing to say\n"
          ]
        }
      ]
    },
    {
      "cell_type": "code",
      "source": [
        "if [None]:\n",
        "  print(\"Well I had a really bad day!\")\n",
        "else:\n",
        "  print(\"Come on you aced your test.\")\n"
      ],
      "metadata": {
        "colab": {
          "base_uri": "https://localhost:8080/"
        },
        "id": "B75d13ry3ntB",
        "outputId": "5a98824a-5458-4ee6-dcfc-5f2dcd44b50c"
      },
      "execution_count": null,
      "outputs": [
        {
          "output_type": "stream",
          "name": "stdout",
          "text": [
            "Well I had a really bad day!\n"
          ]
        }
      ]
    },
    {
      "cell_type": "code",
      "source": [
        "if {1:2,3:4}:\n",
        "  print(\"This is True\")\n",
        "else:\n",
        "  print(\"This is False\")"
      ],
      "metadata": {
        "colab": {
          "base_uri": "https://localhost:8080/"
        },
        "id": "efLnCMY537pr",
        "outputId": "4e98d561-6755-4654-e764-e9d5dabc8dfa"
      },
      "execution_count": null,
      "outputs": [
        {
          "output_type": "stream",
          "name": "stdout",
          "text": [
            "This is True\n"
          ]
        }
      ]
    },
    {
      "cell_type": "code",
      "source": [
        "num = input(\"Enter a number: \")\n",
        "num = int(num)\n",
        "if num % 2 == 0:\n",
        "    print(\"The number is even.\")\n",
        "else:\n",
        "    print(\"The number is odd.\")\n"
      ],
      "metadata": {
        "id": "okvOerYZ4QZl"
      },
      "execution_count": null,
      "outputs": []
    },
    {
      "cell_type": "code",
      "source": [
        "4==4"
      ],
      "metadata": {
        "colab": {
          "base_uri": "https://localhost:8080/"
        },
        "id": "YcISbaD1sc7r",
        "outputId": "e5768017-6160-4763-cefa-8d3b853de60b"
      },
      "execution_count": null,
      "outputs": [
        {
          "output_type": "execute_result",
          "data": {
            "text/plain": [
              "True"
            ]
          },
          "metadata": {},
          "execution_count": 1
        }
      ]
    },
    {
      "cell_type": "code",
      "source": [
        "4>=8"
      ],
      "metadata": {
        "colab": {
          "base_uri": "https://localhost:8080/"
        },
        "id": "gFkuCQwrsz0r",
        "outputId": "0b483a15-4b91-4286-867a-d9fd7354a658"
      },
      "execution_count": null,
      "outputs": [
        {
          "output_type": "execute_result",
          "data": {
            "text/plain": [
              "False"
            ]
          },
          "metadata": {},
          "execution_count": 2
        }
      ]
    },
    {
      "cell_type": "code",
      "source": [
        "3<=2"
      ],
      "metadata": {
        "colab": {
          "base_uri": "https://localhost:8080/"
        },
        "id": "Y__txjb2s3fD",
        "outputId": "af712cd3-0822-4aed-cfd8-0bab24bde767"
      },
      "execution_count": null,
      "outputs": [
        {
          "output_type": "execute_result",
          "data": {
            "text/plain": [
              "False"
            ]
          },
          "metadata": {},
          "execution_count": 3
        }
      ]
    },
    {
      "cell_type": "code",
      "source": [
        "8<=7"
      ],
      "metadata": {
        "colab": {
          "base_uri": "https://localhost:8080/"
        },
        "id": "W8hbR9-Ds55I",
        "outputId": "8c53a4f7-4ee7-44a5-b8d6-a80c8cc1a90b"
      },
      "execution_count": null,
      "outputs": [
        {
          "output_type": "execute_result",
          "data": {
            "text/plain": [
              "False"
            ]
          },
          "metadata": {},
          "execution_count": 4
        }
      ]
    },
    {
      "cell_type": "code",
      "source": [
        "6!=6"
      ],
      "metadata": {
        "colab": {
          "base_uri": "https://localhost:8080/"
        },
        "id": "yCZ0uEUVs9Ru",
        "outputId": "9281497d-bfd9-469e-fdb2-6d0111edfc6b"
      },
      "execution_count": null,
      "outputs": [
        {
          "output_type": "execute_result",
          "data": {
            "text/plain": [
              "False"
            ]
          },
          "metadata": {},
          "execution_count": 5
        }
      ]
    },
    {
      "cell_type": "code",
      "source": [
        "7!=3"
      ],
      "metadata": {
        "colab": {
          "base_uri": "https://localhost:8080/"
        },
        "id": "QnJCyfBpub7k",
        "outputId": "700f3671-9307-42a6-c115-325162a09a10"
      },
      "execution_count": null,
      "outputs": [
        {
          "output_type": "execute_result",
          "data": {
            "text/plain": [
              "True"
            ]
          },
          "metadata": {},
          "execution_count": 9
        }
      ]
    },
    {
      "cell_type": "code",
      "source": [
        "\n",
        "indian = [\"samosa\",\"bhel\",\"noodles\"]\n",
        "chinese = [\"fried rice\",\"egg\",\"spring role\"]\n",
        "italian =[\"pasta\",\"pizza\",\"cheesi\"]\n",
        "\n",
        "dish = input(\"enter a  dish name : \")\n",
        "if dish in indian:\n",
        "    print(\"indian\")\n",
        "elif dish in chinese:\n",
        "    print(\"chinese\")\n",
        "elif dish in italian:\n",
        "    print(\"italian\")\n",
        "else:(\" I dont know which cusine is this\")"
      ],
      "metadata": {
        "colab": {
          "base_uri": "https://localhost:8080/",
          "height": 380
        },
        "id": "GdnYjjEWuf4b",
        "outputId": "0e12992b-7d7e-4b1f-8cc8-ed140ef7951c"
      },
      "execution_count": null,
      "outputs": [
        {
          "output_type": "error",
          "ename": "KeyboardInterrupt",
          "evalue": "ignored",
          "traceback": [
            "\u001b[0;31m---------------------------------------------------------------------------\u001b[0m",
            "\u001b[0;31mKeyboardInterrupt\u001b[0m                         Traceback (most recent call last)",
            "\u001b[0;32m<ipython-input-1-78d59167da82>\u001b[0m in \u001b[0;36m<cell line: 5>\u001b[0;34m()\u001b[0m\n\u001b[1;32m      3\u001b[0m \u001b[0mitalian\u001b[0m \u001b[0;34m=\u001b[0m\u001b[0;34m[\u001b[0m\u001b[0;34m\"pasta\"\u001b[0m\u001b[0;34m,\u001b[0m\u001b[0;34m\"pizza\"\u001b[0m\u001b[0;34m,\u001b[0m\u001b[0;34m\"cheesi\"\u001b[0m\u001b[0;34m]\u001b[0m\u001b[0;34m\u001b[0m\u001b[0;34m\u001b[0m\u001b[0m\n\u001b[1;32m      4\u001b[0m \u001b[0;34m\u001b[0m\u001b[0m\n\u001b[0;32m----> 5\u001b[0;31m \u001b[0mdish\u001b[0m \u001b[0;34m=\u001b[0m \u001b[0minput\u001b[0m\u001b[0;34m(\u001b[0m\u001b[0;34m\"enter a  dish name : \"\u001b[0m\u001b[0;34m)\u001b[0m\u001b[0;34m\u001b[0m\u001b[0;34m\u001b[0m\u001b[0m\n\u001b[0m\u001b[1;32m      6\u001b[0m \u001b[0;32mif\u001b[0m \u001b[0mdish\u001b[0m \u001b[0;32min\u001b[0m \u001b[0mindian\u001b[0m\u001b[0;34m:\u001b[0m\u001b[0;34m\u001b[0m\u001b[0;34m\u001b[0m\u001b[0m\n\u001b[1;32m      7\u001b[0m     \u001b[0mprint\u001b[0m\u001b[0;34m(\u001b[0m\u001b[0;34m\"indian\"\u001b[0m\u001b[0;34m)\u001b[0m\u001b[0;34m\u001b[0m\u001b[0;34m\u001b[0m\u001b[0m\n",
            "\u001b[0;32m/usr/local/lib/python3.10/dist-packages/ipykernel/kernelbase.py\u001b[0m in \u001b[0;36mraw_input\u001b[0;34m(self, prompt)\u001b[0m\n\u001b[1;32m    849\u001b[0m                 \u001b[0;34m\"raw_input was called, but this frontend does not support input requests.\"\u001b[0m\u001b[0;34m\u001b[0m\u001b[0;34m\u001b[0m\u001b[0m\n\u001b[1;32m    850\u001b[0m             )\n\u001b[0;32m--> 851\u001b[0;31m         return self._input_request(str(prompt),\n\u001b[0m\u001b[1;32m    852\u001b[0m             \u001b[0mself\u001b[0m\u001b[0;34m.\u001b[0m\u001b[0m_parent_ident\u001b[0m\u001b[0;34m,\u001b[0m\u001b[0;34m\u001b[0m\u001b[0;34m\u001b[0m\u001b[0m\n\u001b[1;32m    853\u001b[0m             \u001b[0mself\u001b[0m\u001b[0;34m.\u001b[0m\u001b[0m_parent_header\u001b[0m\u001b[0;34m,\u001b[0m\u001b[0;34m\u001b[0m\u001b[0;34m\u001b[0m\u001b[0m\n",
            "\u001b[0;32m/usr/local/lib/python3.10/dist-packages/ipykernel/kernelbase.py\u001b[0m in \u001b[0;36m_input_request\u001b[0;34m(self, prompt, ident, parent, password)\u001b[0m\n\u001b[1;32m    893\u001b[0m             \u001b[0;32mexcept\u001b[0m \u001b[0mKeyboardInterrupt\u001b[0m\u001b[0;34m:\u001b[0m\u001b[0;34m\u001b[0m\u001b[0;34m\u001b[0m\u001b[0m\n\u001b[1;32m    894\u001b[0m                 \u001b[0;31m# re-raise KeyboardInterrupt, to truncate traceback\u001b[0m\u001b[0;34m\u001b[0m\u001b[0;34m\u001b[0m\u001b[0m\n\u001b[0;32m--> 895\u001b[0;31m                 \u001b[0;32mraise\u001b[0m \u001b[0mKeyboardInterrupt\u001b[0m\u001b[0;34m(\u001b[0m\u001b[0;34m\"Interrupted by user\"\u001b[0m\u001b[0;34m)\u001b[0m \u001b[0;32mfrom\u001b[0m \u001b[0;32mNone\u001b[0m\u001b[0;34m\u001b[0m\u001b[0;34m\u001b[0m\u001b[0m\n\u001b[0m\u001b[1;32m    896\u001b[0m             \u001b[0;32mexcept\u001b[0m \u001b[0mException\u001b[0m \u001b[0;32mas\u001b[0m \u001b[0me\u001b[0m\u001b[0;34m:\u001b[0m\u001b[0;34m\u001b[0m\u001b[0;34m\u001b[0m\u001b[0m\n\u001b[1;32m    897\u001b[0m                 \u001b[0mself\u001b[0m\u001b[0;34m.\u001b[0m\u001b[0mlog\u001b[0m\u001b[0;34m.\u001b[0m\u001b[0mwarning\u001b[0m\u001b[0;34m(\u001b[0m\u001b[0;34m\"Invalid Message:\"\u001b[0m\u001b[0;34m,\u001b[0m \u001b[0mexc_info\u001b[0m\u001b[0;34m=\u001b[0m\u001b[0;32mTrue\u001b[0m\u001b[0;34m)\u001b[0m\u001b[0;34m\u001b[0m\u001b[0;34m\u001b[0m\u001b[0m\n",
            "\u001b[0;31mKeyboardInterrupt\u001b[0m: Interrupted by user"
          ]
        }
      ]
    },
    {
      "cell_type": "markdown",
      "source": [
        "Python Indentation =\n",
        "A unique feature of Python is the indentation of the block code (set of code under a loop, function, etc. Although the amount of indentation is up to you, all the statements in a block must have the same indentation. We show the end of a block by the first unindented statement. So, when you wish to exit the conditional statement, hit the Enter key to move to the succeeding line and then the Backspace to realign with the conditional statement line."
      ],
      "metadata": {
        "id": "LKqMqDNIlHPz"
      }
    },
    {
      "cell_type": "code",
      "source": [
        "p = int(input('Enter a number please: '))\n",
        "while p != 0:\n",
        "\tfor r in range (1, p):\n",
        "        \tprint (r)\n",
        "        \tr+=1\n",
        "\n"
      ],
      "metadata": {
        "colab": {
          "base_uri": "https://localhost:8080/",
          "height": 380
        },
        "id": "8BDRQ1_Wl7ml",
        "outputId": "f43ebe27-244c-4ec8-a01e-f4b8cd4ef569"
      },
      "execution_count": null,
      "outputs": [
        {
          "output_type": "error",
          "ename": "KeyboardInterrupt",
          "evalue": "ignored",
          "traceback": [
            "\u001b[0;31m---------------------------------------------------------------------------\u001b[0m",
            "\u001b[0;31mKeyboardInterrupt\u001b[0m                         Traceback (most recent call last)",
            "\u001b[0;32m<ipython-input-13-97caec76304f>\u001b[0m in \u001b[0;36m<cell line: 1>\u001b[0;34m()\u001b[0m\n\u001b[0;32m----> 1\u001b[0;31m \u001b[0mp\u001b[0m \u001b[0;34m=\u001b[0m \u001b[0mint\u001b[0m\u001b[0;34m(\u001b[0m\u001b[0minput\u001b[0m\u001b[0;34m(\u001b[0m\u001b[0;34m'Enter a number please: '\u001b[0m\u001b[0;34m)\u001b[0m\u001b[0;34m)\u001b[0m\u001b[0;34m\u001b[0m\u001b[0;34m\u001b[0m\u001b[0m\n\u001b[0m\u001b[1;32m      2\u001b[0m \u001b[0;32mwhile\u001b[0m \u001b[0mp\u001b[0m \u001b[0;34m!=\u001b[0m \u001b[0;36m0\u001b[0m\u001b[0;34m:\u001b[0m\u001b[0;34m\u001b[0m\u001b[0;34m\u001b[0m\u001b[0m\n\u001b[1;32m      3\u001b[0m         \u001b[0;32mfor\u001b[0m \u001b[0mr\u001b[0m \u001b[0;32min\u001b[0m \u001b[0mrange\u001b[0m \u001b[0;34m(\u001b[0m\u001b[0;36m1\u001b[0m\u001b[0;34m,\u001b[0m \u001b[0mp\u001b[0m\u001b[0;34m)\u001b[0m\u001b[0;34m:\u001b[0m\u001b[0;34m\u001b[0m\u001b[0;34m\u001b[0m\u001b[0m\n\u001b[1;32m      4\u001b[0m                 \u001b[0mprint\u001b[0m \u001b[0;34m(\u001b[0m\u001b[0mr\u001b[0m\u001b[0;34m)\u001b[0m\u001b[0;34m\u001b[0m\u001b[0;34m\u001b[0m\u001b[0m\n\u001b[1;32m      5\u001b[0m                 \u001b[0mr\u001b[0m\u001b[0;34m+=\u001b[0m\u001b[0;36m1\u001b[0m\u001b[0;34m\u001b[0m\u001b[0;34m\u001b[0m\u001b[0m\n",
            "\u001b[0;32m/usr/local/lib/python3.10/dist-packages/ipykernel/kernelbase.py\u001b[0m in \u001b[0;36mraw_input\u001b[0;34m(self, prompt)\u001b[0m\n\u001b[1;32m    849\u001b[0m                 \u001b[0;34m\"raw_input was called, but this frontend does not support input requests.\"\u001b[0m\u001b[0;34m\u001b[0m\u001b[0;34m\u001b[0m\u001b[0m\n\u001b[1;32m    850\u001b[0m             )\n\u001b[0;32m--> 851\u001b[0;31m         return self._input_request(str(prompt),\n\u001b[0m\u001b[1;32m    852\u001b[0m             \u001b[0mself\u001b[0m\u001b[0;34m.\u001b[0m\u001b[0m_parent_ident\u001b[0m\u001b[0;34m,\u001b[0m\u001b[0;34m\u001b[0m\u001b[0;34m\u001b[0m\u001b[0m\n\u001b[1;32m    853\u001b[0m             \u001b[0mself\u001b[0m\u001b[0;34m.\u001b[0m\u001b[0m_parent_header\u001b[0m\u001b[0;34m,\u001b[0m\u001b[0;34m\u001b[0m\u001b[0;34m\u001b[0m\u001b[0m\n",
            "\u001b[0;32m/usr/local/lib/python3.10/dist-packages/ipykernel/kernelbase.py\u001b[0m in \u001b[0;36m_input_request\u001b[0;34m(self, prompt, ident, parent, password)\u001b[0m\n\u001b[1;32m    893\u001b[0m             \u001b[0;32mexcept\u001b[0m \u001b[0mKeyboardInterrupt\u001b[0m\u001b[0;34m:\u001b[0m\u001b[0;34m\u001b[0m\u001b[0;34m\u001b[0m\u001b[0m\n\u001b[1;32m    894\u001b[0m                 \u001b[0;31m# re-raise KeyboardInterrupt, to truncate traceback\u001b[0m\u001b[0;34m\u001b[0m\u001b[0;34m\u001b[0m\u001b[0m\n\u001b[0;32m--> 895\u001b[0;31m                 \u001b[0;32mraise\u001b[0m \u001b[0mKeyboardInterrupt\u001b[0m\u001b[0;34m(\u001b[0m\u001b[0;34m\"Interrupted by user\"\u001b[0m\u001b[0;34m)\u001b[0m \u001b[0;32mfrom\u001b[0m \u001b[0;32mNone\u001b[0m\u001b[0;34m\u001b[0m\u001b[0;34m\u001b[0m\u001b[0m\n\u001b[0m\u001b[1;32m    896\u001b[0m             \u001b[0;32mexcept\u001b[0m \u001b[0mException\u001b[0m \u001b[0;32mas\u001b[0m \u001b[0me\u001b[0m\u001b[0;34m:\u001b[0m\u001b[0;34m\u001b[0m\u001b[0;34m\u001b[0m\u001b[0m\n\u001b[1;32m    897\u001b[0m                 \u001b[0mself\u001b[0m\u001b[0;34m.\u001b[0m\u001b[0mlog\u001b[0m\u001b[0;34m.\u001b[0m\u001b[0mwarning\u001b[0m\u001b[0;34m(\u001b[0m\u001b[0;34m\"Invalid Message:\"\u001b[0m\u001b[0;34m,\u001b[0m \u001b[0mexc_info\u001b[0m\u001b[0;34m=\u001b[0m\u001b[0;32mTrue\u001b[0m\u001b[0;34m)\u001b[0m\u001b[0;34m\u001b[0m\u001b[0;34m\u001b[0m\u001b[0m\n",
            "\u001b[0;31mKeyboardInterrupt\u001b[0m: Interrupted by user"
          ]
        }
      ]
    }
  ]
}