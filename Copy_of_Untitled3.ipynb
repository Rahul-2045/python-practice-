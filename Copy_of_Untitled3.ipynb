{
  "cells": [
    {
      "cell_type": "markdown",
      "metadata": {
        "id": "view-in-github",
        "colab_type": "text"
      },
      "source": [
        "<a href=\"https://colab.research.google.com/github/Rahulverma2045/python-practice-/blob/main/Copy_of_Untitled3.ipynb\" target=\"_parent\"><img src=\"https://colab.research.google.com/assets/colab-badge.svg\" alt=\"Open In Colab\"/></a>"
      ]
    },
    {
      "cell_type": "code",
      "execution_count": 1,
      "metadata": {
        "colab": {
          "base_uri": "https://localhost:8080/"
        },
        "id": "8ZMJZ9rBZ0P5",
        "outputId": "825993f6-9890-4e69-96d0-e765229f1193"
      },
      "outputs": [
        {
          "output_type": "execute_result",
          "data": {
            "text/plain": [
              "16"
            ]
          },
          "metadata": {},
          "execution_count": 1
        }
      ],
      "source": [
        "4**2"
      ]
    },
    {
      "cell_type": "code",
      "source": [],
      "metadata": {
        "id": "MsZNEHibvbjc"
      },
      "execution_count": 1,
      "outputs": []
    },
    {
      "cell_type": "code",
      "execution_count": 2,
      "metadata": {
        "colab": {
          "base_uri": "https://localhost:8080/"
        },
        "id": "RJkGMHhdbe_W",
        "outputId": "6efe41c3-f81e-4a68-a696-8420028403f9"
      },
      "outputs": [
        {
          "output_type": "stream",
          "name": "stdout",
          "text": [
            "728\n"
          ]
        }
      ],
      "source": [
        "num_1 = 672\n",
        "num_2 = 56\n",
        "total_num = num_1 + num_2\n",
        "print(total_num)"
      ]
    },
    {
      "cell_type": "code",
      "execution_count": 3,
      "metadata": {
        "colab": {
          "base_uri": "https://localhost:8080/"
        },
        "id": "bW7fW0UBbyKA",
        "outputId": "ee8771c5-fd9e-469c-daaa-d175f7eedfb8"
      },
      "outputs": [
        {
          "output_type": "stream",
          "name": "stdout",
          "text": [
            "0\n"
          ]
        }
      ],
      "source": [
        "total_num = num_1 % num_2\n",
        "print(total_num)"
      ]
    },
    {
      "cell_type": "code",
      "source": [
        "total_num = num_1*num_2\n",
        "print(total_num)"
      ],
      "metadata": {
        "id": "ql-CVo8uBwkc",
        "outputId": "d822bb7e-0109-4ac8-dade-965008f72264",
        "colab": {
          "base_uri": "https://localhost:8080/"
        }
      },
      "execution_count": 4,
      "outputs": [
        {
          "output_type": "stream",
          "name": "stdout",
          "text": [
            "37632\n"
          ]
        }
      ]
    },
    {
      "cell_type": "code",
      "execution_count": 5,
      "metadata": {
        "colab": {
          "base_uri": "https://localhost:8080/"
        },
        "id": "vxglYo7scN5_",
        "outputId": "07aeb6c7-2c44-48c7-f442-7dca0a4075f3"
      },
      "outputs": [
        {
          "output_type": "stream",
          "name": "stdout",
          "text": [
            "37632\n"
          ]
        }
      ],
      "source": [
        "total_num = num_1*num_2\n",
        "print(total_num)"
      ]
    },
    {
      "cell_type": "code",
      "execution_count": 6,
      "metadata": {
        "colab": {
          "base_uri": "https://localhost:8080/"
        },
        "id": "arQJmFfTcUBP",
        "outputId": "b880267a-e9b3-4566-8217-5853c0e0ebe4"
      },
      "outputs": [
        {
          "output_type": "stream",
          "name": "stdout",
          "text": [
            "616\n"
          ]
        }
      ],
      "source": [
        "total_num = num_1 - num_2\n",
        "print(total_num)"
      ]
    },
    {
      "cell_type": "code",
      "execution_count": null,
      "metadata": {
        "id": "ioFppXqJcxO4"
      },
      "outputs": [],
      "source": [
        "numbers = [2, 43, 23, 44, 21]\n",
        "sorted_numbers = sorted(numbers, reverse=True)\n",
        "third_largest = sorted_numbers[2]\n",
        "\n",
        "print(third_largest)\n"
      ]
    },
    {
      "cell_type": "markdown",
      "metadata": {
        "id": "bI-Ex_8J80Tt"
      },
      "source": [
        "![images.png](data:image/png;base64,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)"
      ]
    },
    {
      "cell_type": "markdown",
      "metadata": {
        "id": "Ct29ia67lMQL"
      },
      "source": [
        "# INTEGERS AND floats"
      ]
    },
    {
      "cell_type": "code",
      "execution_count": 80,
      "metadata": {
        "colab": {
          "base_uri": "https://localhost:8080/"
        },
        "id": "UEnPYEmWlYZ7",
        "outputId": "097e6e18-e8d3-4c91-d410-da5f75a9702c"
      },
      "outputs": [
        {
          "output_type": "execute_result",
          "data": {
            "text/plain": [
              "170"
            ]
          },
          "metadata": {},
          "execution_count": 80
        }
      ],
      "source": [
        "# addition\n",
        "63+85+22"
      ]
    },
    {
      "cell_type": "code",
      "source": [
        "45+89"
      ],
      "metadata": {
        "id": "JE8mkMqrwHsC",
        "outputId": "016578c1-2771-497b-f691-35d6d5b36406",
        "colab": {
          "base_uri": "https://localhost:8080/"
        }
      },
      "execution_count": 81,
      "outputs": [
        {
          "output_type": "execute_result",
          "data": {
            "text/plain": [
              "134"
            ]
          },
          "metadata": {},
          "execution_count": 81
        }
      ]
    },
    {
      "cell_type": "code",
      "execution_count": null,
      "metadata": {
        "id": "JsvAsDXzmUgq"
      },
      "outputs": [],
      "source": [
        "#subtraction\n",
        "900-128"
      ]
    },
    {
      "cell_type": "code",
      "execution_count": null,
      "metadata": {
        "id": "KKP7HmBUmlng"
      },
      "outputs": [],
      "source": [
        "#multiplying\n",
        "45*5"
      ]
    },
    {
      "cell_type": "code",
      "execution_count": null,
      "metadata": {
        "id": "rUid8EgjmkQA"
      },
      "outputs": [],
      "source": [
        "#division\n",
        "81/3"
      ]
    },
    {
      "cell_type": "code",
      "execution_count": null,
      "metadata": {
        "id": "baZ5A-yvmyOl"
      },
      "outputs": [],
      "source": [
        "#exponential\n",
        "5**2"
      ]
    },
    {
      "cell_type": "code",
      "execution_count": null,
      "metadata": {
        "id": "_-gatWB_qCov"
      },
      "outputs": [],
      "source": [
        "#flooor division\n",
        "56//4"
      ]
    },
    {
      "cell_type": "code",
      "execution_count": null,
      "metadata": {
        "id": "IXL1g3ccqPSa"
      },
      "outputs": [],
      "source": [
        "#modulus\n",
        "6%5"
      ]
    },
    {
      "cell_type": "markdown",
      "metadata": {
        "id": "flXshE4yqouO"
      },
      "source": [
        "## Variable = A variable is fixed name can store information of number,boolean,textual."
      ]
    },
    {
      "cell_type": "code",
      "execution_count": null,
      "metadata": {
        "id": "au5OMVRCrnDB"
      },
      "outputs": [],
      "source": [
        "y =55"
      ]
    },
    {
      "cell_type": "code",
      "execution_count": null,
      "metadata": {
        "id": "OVEduKvBrrns"
      },
      "outputs": [],
      "source": [
        "y"
      ]
    },
    {
      "cell_type": "code",
      "execution_count": null,
      "metadata": {
        "id": "22UQVQ9LrzCt"
      },
      "outputs": [],
      "source": [
        "print(y)"
      ]
    },
    {
      "cell_type": "code",
      "execution_count": null,
      "metadata": {
        "id": "ttRklb8Zr2VC"
      },
      "outputs": [],
      "source": [
        "#addition\n",
        "x,y = 6,4\n",
        "z = x+y\n",
        "z"
      ]
    },
    {
      "cell_type": "code",
      "execution_count": null,
      "metadata": {
        "id": "pu4HY9VEsnaM"
      },
      "outputs": [],
      "source": [
        "print (z)"
      ]
    },
    {
      "cell_type": "code",
      "execution_count": null,
      "metadata": {
        "id": "lcjyhqltsv37"
      },
      "outputs": [],
      "source": [
        "#subtraction\n",
        "x,y = 8,2\n",
        "print(x)\n",
        "print(y)\n",
        "z = x-y\n",
        "print(z)"
      ]
    },
    {
      "cell_type": "code",
      "execution_count": null,
      "metadata": {
        "id": "N9YZQRPQunBo"
      },
      "outputs": [],
      "source": [
        "#multypling\n",
        "x = 7\n",
        "y = 9\n",
        "y = x*y\n",
        "print(y)"
      ]
    },
    {
      "cell_type": "code",
      "execution_count": null,
      "metadata": {
        "id": "fwL_Km0kveLf"
      },
      "outputs": [],
      "source": [
        "type(y)"
      ]
    },
    {
      "cell_type": "code",
      "execution_count": null,
      "metadata": {
        "id": "c_C6WvttvhAS"
      },
      "outputs": [],
      "source": [
        "y = 5.4\n",
        "print(y)"
      ]
    },
    {
      "cell_type": "code",
      "execution_count": null,
      "metadata": {
        "id": "CJto6WOkvlS_"
      },
      "outputs": [],
      "source": [
        "type(y)"
      ]
    },
    {
      "cell_type": "markdown",
      "metadata": {
        "id": "M3bfyLQXwDwQ"
      },
      "source": [
        "# BOOLEAN VARIABLES\n",
        "BOOLEAN VARIABLES ONLY TAKES TWO VALUE EITHER TRUE OR FALSE . IT IS USED FOR COMPARISION."
      ]
    },
    {
      "cell_type": "code",
      "execution_count": null,
      "metadata": {
        "id": "_v_VRkeHwDg2"
      },
      "outputs": [],
      "source": [
        "boolean_variable = False\n",
        "type(boolean_variable)"
      ]
    },
    {
      "cell_type": "markdown",
      "metadata": {
        "id": "sZ3V7zx2JFkM"
      },
      "source": [
        "GREATER THAN"
      ]
    },
    {
      "cell_type": "code",
      "execution_count": null,
      "metadata": {
        "id": "oocg46s7xziN"
      },
      "outputs": [],
      "source": [
        "8>4"
      ]
    },
    {
      "cell_type": "markdown",
      "metadata": {
        "id": "RUdEtHB5JLmo"
      },
      "source": [
        "GREATER THAN OR EQUAL TOO"
      ]
    },
    {
      "cell_type": "code",
      "execution_count": null,
      "metadata": {
        "id": "lA8_dXEux2dX"
      },
      "outputs": [],
      "source": [
        "10>=9"
      ]
    },
    {
      "cell_type": "markdown",
      "metadata": {
        "id": "SzzFxVPHJVwf"
      },
      "source": [
        "LESS THAN OR EQUAL TOO"
      ]
    },
    {
      "cell_type": "code",
      "execution_count": null,
      "metadata": {
        "id": "jgBCqFcVx4tc"
      },
      "outputs": [],
      "source": [
        "7<=7"
      ]
    },
    {
      "cell_type": "markdown",
      "metadata": {
        "id": "-uaZjG5jJY7J"
      },
      "source": []
    },
    {
      "cell_type": "code",
      "execution_count": null,
      "metadata": {
        "id": "xBIsrBJSx7m4"
      },
      "outputs": [],
      "source": [
        "4<=3"
      ]
    },
    {
      "cell_type": "markdown",
      "metadata": {
        "id": "yzIanZgBQI2e"
      },
      "source": [
        "STRING = STRING ARE USED IN PYTHON TO RECORD TEXT INFORMATION SUCH AS NAMES ,WORD, SENTENCE, PARAGRAPHS,OR ENCYCLOPEDIA. FOR EX\n"
      ]
    },
    {
      "cell_type": "code",
      "execution_count": null,
      "metadata": {
        "id": "VfGJRVYEx-ri"
      },
      "outputs": [],
      "source": [
        "#CREATING STRING\n",
        "MY_STRING = 'I AM FROM KALYAN'\n",
        "MY_STRING"
      ]
    },
    {
      "cell_type": "code",
      "execution_count": null,
      "metadata": {
        "id": "Jj6QnEqlQyhO"
      },
      "outputs": [],
      "source": [
        "string = 'almabetter'\n",
        "print(string)"
      ]
    },
    {
      "cell_type": "code",
      "execution_count": 8,
      "metadata": {
        "id": "3iCl72GjQ0N5",
        "outputId": "c483d615-9013-4168-b5aa-b751bd373b67",
        "colab": {
          "base_uri": "https://localhost:8080/",
          "height": 165
        }
      },
      "outputs": [
        {
          "output_type": "error",
          "ename": "NameError",
          "evalue": "ignored",
          "traceback": [
            "\u001b[0;31m---------------------------------------------------------------------------\u001b[0m",
            "\u001b[0;31mNameError\u001b[0m                                 Traceback (most recent call last)",
            "\u001b[0;32m<ipython-input-8-19150aa6931c>\u001b[0m in \u001b[0;36m<cell line: 1>\u001b[0;34m()\u001b[0m\n\u001b[0;32m----> 1\u001b[0;31m \u001b[0mtype\u001b[0m\u001b[0;34m(\u001b[0m\u001b[0mstring\u001b[0m\u001b[0;34m)\u001b[0m\u001b[0;34m\u001b[0m\u001b[0;34m\u001b[0m\u001b[0m\n\u001b[0m",
            "\u001b[0;31mNameError\u001b[0m: name 'string' is not defined"
          ]
        }
      ],
      "source": [
        "type(string)"
      ]
    },
    {
      "cell_type": "code",
      "execution_count": null,
      "metadata": {
        "id": "DpQa1cq3TP6N"
      },
      "outputs": [],
      "source": [
        "'ram'\n",
        "'shyam'\n",
        "'vijay'"
      ]
    },
    {
      "cell_type": "code",
      "execution_count": null,
      "metadata": {
        "id": "_JZPnD2SYrNg"
      },
      "outputs": [],
      "source": [
        "print('ajay\\n karan')"
      ]
    },
    {
      "cell_type": "code",
      "execution_count": null,
      "metadata": {
        "id": "dGt0CdDvZA0d"
      },
      "outputs": [],
      "source": [
        "print('i completed a \\n course from almabetter')"
      ]
    },
    {
      "cell_type": "code",
      "execution_count": null,
      "metadata": {
        "id": "ZVSh3FpNZMIJ"
      },
      "outputs": [],
      "source": [
        "shiv = 'from almabetter'\n",
        "print(len(shiv))"
      ]
    },
    {
      "cell_type": "markdown",
      "metadata": {
        "id": "PXbu-uQnZth2"
      },
      "source": [
        "#**String Indexing:**\n",
        "#We know strings are a sequence, which means Python can use indexes to call parts of the sequence.\n",
        "\n",
        "#A string index refers to the location of an element present in a string.\n",
        "\n",
        "#The indexing begins from 0 in Python.\n",
        "\n",
        "#The first element is assigned an index 0, the second element is assigned an index of 1 and so on and so forth.\n",
        "\n",
        "# In Python, we use brackets [] after an object to call its index."
      ]
    },
    {
      "cell_type": "code",
      "execution_count": null,
      "metadata": {
        "id": "lx7P6diWLTgt"
      },
      "outputs": [],
      "source": [
        "string = 'rahul jaiswal'\n",
        "print(string)"
      ]
    },
    {
      "cell_type": "code",
      "execution_count": null,
      "metadata": {
        "id": "O2FOnh5CLhCq"
      },
      "outputs": [],
      "source": [
        "print(string[7])"
      ]
    },
    {
      "cell_type": "code",
      "execution_count": null,
      "metadata": {
        "id": "grQ9blRdL2iS"
      },
      "outputs": [],
      "source": [
        "print(string[3])"
      ]
    },
    {
      "cell_type": "code",
      "execution_count": 9,
      "metadata": {
        "id": "hhNxjkNcMAsj",
        "outputId": "abf3a11e-4b3a-4fb0-b2ec-3c8203a19b53",
        "colab": {
          "base_uri": "https://localhost:8080/",
          "height": 165
        }
      },
      "outputs": [
        {
          "output_type": "error",
          "ename": "NameError",
          "evalue": "ignored",
          "traceback": [
            "\u001b[0;31m---------------------------------------------------------------------------\u001b[0m",
            "\u001b[0;31mNameError\u001b[0m                                 Traceback (most recent call last)",
            "\u001b[0;32m<ipython-input-9-4762cdaf0f4d>\u001b[0m in \u001b[0;36m<cell line: 1>\u001b[0;34m()\u001b[0m\n\u001b[0;32m----> 1\u001b[0;31m \u001b[0mlen\u001b[0m\u001b[0;34m(\u001b[0m\u001b[0mstring\u001b[0m\u001b[0;34m)\u001b[0m\u001b[0;34m\u001b[0m\u001b[0;34m\u001b[0m\u001b[0m\n\u001b[0m",
            "\u001b[0;31mNameError\u001b[0m: name 'string' is not defined"
          ]
        }
      ],
      "source": [
        "len(string)"
      ]
    },
    {
      "cell_type": "code",
      "execution_count": null,
      "metadata": {
        "id": "tXqVOL0-MO4a"
      },
      "outputs": [],
      "source": [
        "print(string[-4])"
      ]
    },
    {
      "cell_type": "markdown",
      "metadata": {
        "id": "8IPzdX4VMtLv"
      },
      "source": [
        "#String Slicing**\n",
        "# We can use a : to perform slicing which grabs everything up to a designated point.\n",
        "\n",
        "#The starting index is specified on the left of the : and the ending index is specified on the right of the :.\n",
        "# New Section\n",
        "#Remember the element located at the right index is not included."
      ]
    },
    {
      "cell_type": "markdown",
      "metadata": {
        "id": "RXqsGPJfMtIg"
      },
      "source": []
    },
    {
      "cell_type": "code",
      "execution_count": null,
      "metadata": {
        "id": "5aMS8Yv-M8Ap"
      },
      "outputs": [],
      "source": [
        "string = 'coding ninjas'\n",
        "print(string[3:-1])"
      ]
    },
    {
      "cell_type": "code",
      "execution_count": null,
      "metadata": {
        "id": "NDj_3uVUNU0k"
      },
      "outputs": [],
      "source": [
        "string = 'newton'\n",
        "print(string[1:-2])"
      ]
    },
    {
      "cell_type": "code",
      "execution_count": null,
      "metadata": {
        "id": "wrEo02rCNn9L"
      },
      "outputs": [],
      "source": [
        "print(string[0:3])"
      ]
    },
    {
      "cell_type": "markdown",
      "metadata": {
        "id": "xRFsWbuyjXx9"
      },
      "source": [
        "# variable use"
      ]
    },
    {
      "cell_type": "code",
      "execution_count": null,
      "metadata": {
        "id": "TTFfvoThNn3F"
      },
      "outputs": [],
      "source": [
        "str1 = 'Wel'\n",
        "print(str1,'come')"
      ]
    },
    {
      "cell_type": "code",
      "execution_count": 10,
      "metadata": {
        "id": "fkeiO8JIjnVT",
        "outputId": "cfe18e94-7c95-496d-b100-9854a5fbcb46",
        "colab": {
          "base_uri": "https://localhost:8080/"
        }
      },
      "outputs": [
        {
          "output_type": "stream",
          "name": "stdout",
          "text": [
            "Welcome Python\n"
          ]
        }
      ],
      "source": [
        "str1 = 'Welcome'\n",
        "str2 = 'Python'\n",
        "print(str1, str2)"
      ]
    },
    {
      "cell_type": "markdown",
      "metadata": {
        "id": "CrFNALl7kDYF"
      },
      "source": [
        "#**string concatenation**: String concatenation is the \"addition\" of two strings. Observe that while concatenating there will be no space between the strings."
      ]
    },
    {
      "cell_type": "code",
      "execution_count": 11,
      "metadata": {
        "id": "t05Jl93kmS4c",
        "outputId": "5fcce7da-0d7f-4856-f10d-71207b41e1c1",
        "colab": {
          "base_uri": "https://localhost:8080/"
        }
      },
      "outputs": [
        {
          "output_type": "stream",
          "name": "stdout",
          "text": [
            "WelcomePython:\n"
          ]
        }
      ],
      "source": [
        "str1 = 'Python'\n",
        "str2 = ':'\n",
        "print('Welcome' + str1 + str2)"
      ]
    },
    {
      "cell_type": "code",
      "execution_count": 12,
      "metadata": {
        "id": "p7FcqJMAmUC-",
        "outputId": "3002a972-9e60-4c25-c589-71878a62ed19",
        "colab": {
          "base_uri": "https://localhost:8080/"
        }
      },
      "outputs": [
        {
          "output_type": "stream",
          "name": "stdout",
          "text": [
            "Welcome Python\n"
          ]
        }
      ],
      "source": [
        "str1 = 'Python'\n",
        "print(\"Welcome %s\" % str1)"
      ]
    },
    {
      "cell_type": "markdown",
      "metadata": {
        "id": "zqWM5SRHnNZW"
      },
      "source": [
        "Using other data types:\n",
        "\n",
        "Similarly, when using other data types\n",
        "\n",
        "%d -> Integer\n",
        "%e -> exponential\n",
        "%f -> Float\n",
        "%o -> Octal\n",
        "%x -> Hexadecimal"
      ]
    },
    {
      "cell_type": "code",
      "execution_count": 13,
      "metadata": {
        "id": "O_t0voodnPRZ",
        "outputId": "cee8d8c5-c8db-49a5-89ff-726316dcdcca",
        "colab": {
          "base_uri": "https://localhost:8080/"
        }
      },
      "outputs": [
        {
          "output_type": "stream",
          "name": "stdout",
          "text": [
            "welcome 1.500000e+01\n"
          ]
        }
      ],
      "source": [
        "str1 = 'newton'\n",
        "print(\"welcome %e\" %15)"
      ]
    },
    {
      "cell_type": "code",
      "execution_count": 14,
      "metadata": {
        "colab": {
          "base_uri": "https://localhost:8080/"
        },
        "id": "ZWgdEkZtoNdJ",
        "outputId": "33556c90-3a14-488c-9d1e-3a44be94ec7c"
      },
      "outputs": [
        {
          "output_type": "stream",
          "name": "stdout",
          "text": [
            "welcome 15\n"
          ]
        }
      ],
      "source": [
        "print(\"welcome %d\" %15 )"
      ]
    },
    {
      "cell_type": "code",
      "execution_count": 15,
      "metadata": {
        "colab": {
          "base_uri": "https://localhost:8080/"
        },
        "id": "3T1IYTLWqUXN",
        "outputId": "12d502cb-3aeb-470d-939e-7eff8cd7c753"
      },
      "outputs": [
        {
          "output_type": "stream",
          "name": "stdout",
          "text": [
            "welcome 15.000000\n"
          ]
        }
      ],
      "source": [
        "print(\"welcome %f\" %15)"
      ]
    },
    {
      "cell_type": "code",
      "execution_count": 16,
      "metadata": {
        "colab": {
          "base_uri": "https://localhost:8080/"
        },
        "id": "Y5l15LnPq1uk",
        "outputId": "b597e617-c2ef-4be9-a4ac-da8ecb1271c1"
      },
      "outputs": [
        {
          "output_type": "stream",
          "name": "stdout",
          "text": [
            "Python World :\n"
          ]
        }
      ],
      "source": [
        "str1 = 'World'\n",
        "str2 = ':'\n",
        "print(\"Python %s %s\" %(str1,str2))"
      ]
    },
    {
      "cell_type": "code",
      "execution_count": 17,
      "metadata": {
        "colab": {
          "base_uri": "https://localhost:8080/"
        },
        "id": "0H2oofIiq_PH",
        "outputId": "fde049a9-86ee-4234-e2a9-93f2697b6e28"
      },
      "outputs": [
        {
          "output_type": "stream",
          "name": "stdout",
          "text": [
            "Sunday\n",
            "Monday\n",
            "Tuesday\n",
            "Wednesday\n",
            "Thursday\n",
            "Friday\n",
            "Saturday\n"
          ]
        }
      ],
      "source": [
        "print(\"Sunday\\nMonday\\nTuesday\\nWednesday\\nThursday\\nFriday\\nSaturday\")\n"
      ]
    },
    {
      "cell_type": "code",
      "execution_count": 18,
      "metadata": {
        "colab": {
          "base_uri": "https://localhost:8080/"
        },
        "id": "P-2EE0iWrChM",
        "outputId": "d8818a74-ae02-4e95-8cec-c998e519116d"
      },
      "outputs": [
        {
          "output_type": "stream",
          "name": "stdout",
          "text": [
            "-w3r-w3r-w3r-w3r-w3r\n"
          ]
        }
      ],
      "source": [
        "print('-w3r'*5)"
      ]
    },
    {
      "cell_type": "code",
      "execution_count": 19,
      "metadata": {
        "colab": {
          "base_uri": "https://localhost:8080/"
        },
        "id": "SvcS7frErcUl",
        "outputId": "b631df4b-85cd-4d0a-c07f-c86cfeae107d"
      },
      "outputs": [
        {
          "output_type": "stream",
          "name": "stdout",
          "text": [
            "\n",
            "Language:\n",
            "\t1 Python\n",
            "\t2 Java\n",
            "\t3 JavaScript\n",
            "\n"
          ]
        }
      ],
      "source": [
        "print(\"\"\"\n",
        "Language:\n",
        "\\t1 Python\n",
        "\\t2 Java\\n\\t3 JavaScript\n",
        "\"\"\")\n"
      ]
    },
    {
      "cell_type": "code",
      "execution_count": 20,
      "metadata": {
        "colab": {
          "base_uri": "https://localhost:8080/"
        },
        "id": "lCb0yLMfrh6c",
        "outputId": "880cd490-ebc6-4c6c-bcb6-b172b59cbab2"
      },
      "outputs": [
        {
          "output_type": "stream",
          "name": "stdout",
          "text": [
            "5.123457\n"
          ]
        }
      ],
      "source": [
        "print(\"%f\" % 5.1234567890)"
      ]
    },
    {
      "cell_type": "code",
      "execution_count": 21,
      "metadata": {
        "colab": {
          "base_uri": "https://localhost:8080/"
        },
        "id": "ctl1OAgfrl06",
        "outputId": "1ddbad19-0f6b-4742-c2eb-551db1663cb4"
      },
      "outputs": [
        {
          "output_type": "stream",
          "name": "stdout",
          "text": [
            "5.12346\n"
          ]
        }
      ],
      "source": [
        "print(\"%.5f\" % 5.1234567890)"
      ]
    },
    {
      "cell_type": "code",
      "execution_count": 22,
      "metadata": {
        "colab": {
          "base_uri": "https://localhost:8080/",
          "height": 35
        },
        "id": "f6yjX6ZUejj_",
        "outputId": "11a47a3f-36db-457f-b4ae-bbda09346547"
      },
      "outputs": [
        {
          "output_type": "execute_result",
          "data": {
            "text/plain": [
              "'shivprasad'"
            ],
            "application/vnd.google.colaboratory.intrinsic+json": {
              "type": "string"
            }
          },
          "metadata": {},
          "execution_count": 22
        }
      ],
      "source": [
        "x = 'shivprasad'\n",
        "x.lower()"
      ]
    },
    {
      "cell_type": "code",
      "execution_count": 23,
      "metadata": {
        "colab": {
          "base_uri": "https://localhost:8080/",
          "height": 35
        },
        "id": "1dP3Z15GgtMV",
        "outputId": "c0c70809-798a-4755-cae5-820cc6dcacd9"
      },
      "outputs": [
        {
          "output_type": "execute_result",
          "data": {
            "text/plain": [
              "'SHIVPRASAD'"
            ],
            "application/vnd.google.colaboratory.intrinsic+json": {
              "type": "string"
            }
          },
          "metadata": {},
          "execution_count": 23
        }
      ],
      "source": [
        "x.upper()"
      ]
    },
    {
      "cell_type": "code",
      "execution_count": 24,
      "metadata": {
        "colab": {
          "base_uri": "https://localhost:8080/",
          "height": 35
        },
        "id": "h9hPjDOXgx25",
        "outputId": "d6518d59-f1e0-4136-8820-691c6c70078a"
      },
      "outputs": [
        {
          "output_type": "execute_result",
          "data": {
            "text/plain": [
              "'shipprasad'"
            ],
            "application/vnd.google.colaboratory.intrinsic+json": {
              "type": "string"
            }
          },
          "metadata": {},
          "execution_count": 24
        }
      ],
      "source": [
        "x.replace('v','p')"
      ]
    },
    {
      "cell_type": "code",
      "execution_count": 25,
      "metadata": {
        "colab": {
          "base_uri": "https://localhost:8080/",
          "height": 35
        },
        "id": "v4kLXEtihPHA",
        "outputId": "f5589013-9eb1-4f61-d106-3dc5297e1804"
      },
      "outputs": [
        {
          "output_type": "execute_result",
          "data": {
            "text/plain": [
              "'my RAHUL IS RAHUL'"
            ],
            "application/vnd.google.colaboratory.intrinsic+json": {
              "type": "string"
            }
          },
          "metadata": {},
          "execution_count": 25
        }
      ],
      "source": [
        "x = ('my name IS RAHUL')\n",
        "x.replace('name','RAHUL')\n"
      ]
    },
    {
      "cell_type": "code",
      "execution_count": 26,
      "metadata": {
        "colab": {
          "base_uri": "https://localhost:8080/"
        },
        "id": "GhofueZbhu90",
        "outputId": "0e159ce5-e9f7-4775-dcd5-d2e35e4fb37d"
      },
      "outputs": [
        {
          "output_type": "execute_result",
          "data": {
            "text/plain": [
              "2"
            ]
          },
          "metadata": {},
          "execution_count": 26
        }
      ],
      "source": [
        "x = 'karan'\n",
        "x.find('r')"
      ]
    },
    {
      "cell_type": "code",
      "execution_count": 27,
      "metadata": {
        "colab": {
          "base_uri": "https://localhost:8080/"
        },
        "id": "5Snmv0cki7sL",
        "outputId": "5ae5a7e3-3d5b-4728-b3ff-edf65e2ce279"
      },
      "outputs": [
        {
          "output_type": "execute_result",
          "data": {
            "text/plain": [
              "1"
            ]
          },
          "metadata": {},
          "execution_count": 27
        }
      ],
      "source": [
        "x = 'karan singh'\n",
        "x.count('an')"
      ]
    },
    {
      "cell_type": "markdown",
      "metadata": {
        "id": "3LkZOjgkI063"
      },
      "source": [
        "# **list**: list can be thought of the most general ression of sequence in pyyhon.\n",
        "#unlike strings they are mutable meaning the element inside can be changed.\n",
        "#list are constructed with [] brackets and commas every seperated element in list.\n",
        "# list is a collection of values and variables.\n"
      ]
    },
    {
      "cell_type": "markdown",
      "metadata": {
        "id": "aub58Tn_Kbzy"
      },
      "source": [
        "len = this will give no of elements in a list."
      ]
    },
    {
      "cell_type": "code",
      "execution_count": 28,
      "metadata": {
        "colab": {
          "base_uri": "https://localhost:8080/"
        },
        "id": "DXEGYc5lKUdo",
        "outputId": "56b87c39-cd28-479a-8a42-7bbefe18a78e"
      },
      "outputs": [
        {
          "output_type": "execute_result",
          "data": {
            "text/plain": [
              "9"
            ]
          },
          "metadata": {},
          "execution_count": 28
        }
      ],
      "source": [
        "x = 'saisatyam'\n",
        "len(x)"
      ]
    },
    {
      "cell_type": "markdown",
      "metadata": {
        "id": "WZqnCryFK7qJ"
      },
      "source": [
        "indexing = grab the element at  index 0 which is the  first element"
      ]
    },
    {
      "cell_type": "code",
      "execution_count": 29,
      "metadata": {
        "colab": {
          "base_uri": "https://localhost:8080/"
        },
        "id": "wpoU8xvdKwKl",
        "outputId": "0aa89aa9-d46c-4c3c-d1ed-fef457b86ff9"
      },
      "outputs": [
        {
          "output_type": "stream",
          "name": "stdout",
          "text": [
            "t\n"
          ]
        }
      ],
      "source": [
        "x = 'ant'\n",
        "print(x[2])"
      ]
    },
    {
      "cell_type": "markdown",
      "metadata": {
        "id": "3hlb2BoBL2xT"
      },
      "source": [
        "slicing = TO access multiple elements. (start:end:step)"
      ]
    },
    {
      "cell_type": "code",
      "execution_count": 30,
      "metadata": {
        "colab": {
          "base_uri": "https://localhost:8080/"
        },
        "id": "v_2HYGgzL0qE",
        "outputId": "7aafaade-8f79-4819-9e33-8e286789a3c6"
      },
      "outputs": [
        {
          "output_type": "stream",
          "name": "stdout",
          "text": [
            "ma\n"
          ]
        }
      ],
      "source": [
        "x = 'almabetter'\n",
        "print(x[2:4])"
      ]
    },
    {
      "cell_type": "code",
      "execution_count": 31,
      "metadata": {
        "colab": {
          "base_uri": "https://localhost:8080/"
        },
        "id": "dVzo5x-hMYgR",
        "outputId": "5c6a44aa-3b02-4023-b6ad-a6e264a1558b"
      },
      "outputs": [
        {
          "output_type": "stream",
          "name": "stdout",
          "text": [
            "abett\n"
          ]
        }
      ],
      "source": [
        "print(x[3:-2])"
      ]
    },
    {
      "cell_type": "code",
      "execution_count": 32,
      "metadata": {
        "colab": {
          "base_uri": "https://localhost:8080/"
        },
        "id": "4KiF2va8MBKz",
        "outputId": "85eb01a5-110b-49d5-e099-e82055ee886a"
      },
      "outputs": [
        {
          "output_type": "stream",
          "name": "stdout",
          "text": [
            "htsa\n"
          ]
        }
      ],
      "source": [
        "x = 'rohit sharma'\n",
        "print(x[2:9:2])"
      ]
    },
    {
      "cell_type": "markdown",
      "metadata": {
        "id": "i-JAYefzNEq6"
      },
      "source": [
        "# functions and methods:\n",
        "functions and methods\n",
        "They are independent..\n",
        "→ fune-name (args, arg2...)\n",
        "ex. len\n",
        "can be applied to shing, list. ete.\n",
        "Methods\n",
        "→ Specific me, bike shing methods can't be applied to lists\n",
        "→str-name. method-name Carg1, arg 2."
      ]
    },
    {
      "cell_type": "markdown",
      "metadata": {
        "id": "4dnpHWNZOJU8"
      },
      "source": [
        "length functions() = it grab length of the element in a list."
      ]
    },
    {
      "cell_type": "markdown",
      "metadata": {
        "id": "iwj6shg0OVO4"
      },
      "source": [
        "minimum functions() = it gives min value in the element."
      ]
    },
    {
      "cell_type": "markdown",
      "metadata": {
        "id": "utwFfqWpOb9K"
      },
      "source": [
        "sum functions() = it sums all the element in a list."
      ]
    },
    {
      "cell_type": "code",
      "execution_count": 33,
      "metadata": {
        "colab": {
          "base_uri": "https://localhost:8080/"
        },
        "id": "pmzfvIKvOjmu",
        "outputId": "38fa2afa-6609-426f-a510-03cab3e87185"
      },
      "outputs": [
        {
          "output_type": "execute_result",
          "data": {
            "text/plain": [
              "38"
            ]
          },
          "metadata": {},
          "execution_count": 33
        }
      ],
      "source": [
        "new_list = [2,6,23,7]\n",
        "sum(new_list)"
      ]
    },
    {
      "cell_type": "markdown",
      "metadata": {
        "id": "st5BvpfCPM7e"
      },
      "source": [
        "sorted() = functions returns the sorted list but doesnt change the original list."
      ]
    },
    {
      "cell_type": "code",
      "execution_count": 34,
      "metadata": {
        "id": "3PVDWEUgOjcg"
      },
      "outputs": [],
      "source": [
        "new = [1,4,7,4,2,]"
      ]
    },
    {
      "cell_type": "code",
      "execution_count": 35,
      "metadata": {
        "colab": {
          "base_uri": "https://localhost:8080/"
        },
        "id": "RfYizp8tQAfJ",
        "outputId": "02b6ecb8-7d90-474c-f0a8-fbb22d17b498"
      },
      "outputs": [
        {
          "output_type": "execute_result",
          "data": {
            "text/plain": [
              "[1, 2, 4, 4, 7]"
            ]
          },
          "metadata": {},
          "execution_count": 35
        }
      ],
      "source": [
        "sorted(new)"
      ]
    },
    {
      "cell_type": "code",
      "execution_count": 36,
      "metadata": {
        "colab": {
          "base_uri": "https://localhost:8080/"
        },
        "id": "yn22cJAFObjf",
        "outputId": "f1aff1d0-aa6d-4ab1-faa3-571dd95e1c8a"
      },
      "outputs": [
        {
          "output_type": "execute_result",
          "data": {
            "text/plain": [
              "['boo', 'joo', 'loo', 'soo']"
            ]
          },
          "metadata": {},
          "execution_count": 36
        }
      ],
      "source": [
        "new = ['joo','boo','soo','loo']\n",
        "sorted(new)"
      ]
    },
    {
      "cell_type": "markdown",
      "metadata": {
        "id": "quG4XoY-Quuj"
      },
      "source": [
        "# **methods**"
      ]
    },
    {
      "cell_type": "markdown",
      "metadata": {
        "id": "WpoK9wYPRV6n"
      },
      "source": [
        "**APPEND**"
      ]
    },
    {
      "cell_type": "code",
      "execution_count": 37,
      "metadata": {
        "colab": {
          "base_uri": "https://localhost:8080/"
        },
        "id": "gCqEweikOU0f",
        "outputId": "39bec4ba-e250-4776-d46c-8a803dcd2cf6"
      },
      "outputs": [
        {
          "output_type": "stream",
          "name": "stdout",
          "text": [
            "[1, 2, 3, 4, 5, 65]\n"
          ]
        }
      ],
      "source": [
        "x = [1,2,3,4,5]\n",
        "x.append(65)\n",
        "print(x)"
      ]
    },
    {
      "cell_type": "code",
      "execution_count": 38,
      "metadata": {
        "colab": {
          "base_uri": "https://localhost:8080/"
        },
        "id": "HfbXsPSuReaz",
        "outputId": "8ee29081-a3b7-48dd-ed32-b6d87a187f12"
      },
      "outputs": [
        {
          "output_type": "stream",
          "name": "stdout",
          "text": [
            "['boo', 'few', 'hoo', 'too']\n"
          ]
        }
      ],
      "source": [
        "x = ['boo','few','hoo']\n",
        "x.append('too')\n",
        "print(x)"
      ]
    },
    {
      "cell_type": "markdown",
      "metadata": {
        "id": "ASfavZruRY6H"
      },
      "source": [
        "EXTEND"
      ]
    },
    {
      "cell_type": "code",
      "execution_count": 39,
      "metadata": {
        "colab": {
          "base_uri": "https://localhost:8080/"
        },
        "id": "ZM25P5XXRakT",
        "outputId": "51365721-1c35-419e-f416-625e27e99c90"
      },
      "outputs": [
        {
          "output_type": "stream",
          "name": "stdout",
          "text": [
            "[2, 3, 4, 5, 56]\n"
          ]
        }
      ],
      "source": [
        "x = [2,3,4,5]\n",
        "x.extend([56])\n",
        "print(x)"
      ]
    },
    {
      "cell_type": "markdown",
      "metadata": {
        "id": "pCTtS--d0NB0"
      },
      "source": [
        "pop = To remove specific index."
      ]
    },
    {
      "cell_type": "code",
      "execution_count": 40,
      "metadata": {
        "colab": {
          "base_uri": "https://localhost:8080/"
        },
        "id": "32YWo63c1ISd",
        "outputId": "5164cbc7-d84d-437b-8e3d-c5d8b269dae7"
      },
      "outputs": [
        {
          "output_type": "execute_result",
          "data": {
            "text/plain": [
              "4"
            ]
          },
          "metadata": {},
          "execution_count": 40
        }
      ],
      "source": [
        "x = [2,3,4]\n",
        "x.pop(2)"
      ]
    },
    {
      "cell_type": "code",
      "execution_count": 41,
      "metadata": {
        "colab": {
          "base_uri": "https://localhost:8080/"
        },
        "id": "Y45MA84A1U8j",
        "outputId": "7b7b6ecf-1589-4f71-c8fe-dc26f620671d"
      },
      "outputs": [
        {
          "output_type": "execute_result",
          "data": {
            "text/plain": [
              "5"
            ]
          },
          "metadata": {},
          "execution_count": 41
        }
      ],
      "source": [
        "x = [2,3,4,5]\n",
        "x.pop(3)"
      ]
    },
    {
      "cell_type": "code",
      "execution_count": 42,
      "metadata": {
        "colab": {
          "base_uri": "https://localhost:8080/",
          "height": 35
        },
        "id": "g-vp-eT71XQQ",
        "outputId": "4e1feb30-d4ef-4dd6-a862-0b9f13a76996"
      },
      "outputs": [
        {
          "output_type": "execute_result",
          "data": {
            "text/plain": [
              "'vicks'"
            ],
            "application/vnd.google.colaboratory.intrinsic+json": {
              "type": "string"
            }
          },
          "metadata": {},
          "execution_count": 42
        }
      ],
      "source": [
        "x = ['shiv','vicks','cat']\n",
        "x.pop(1)"
      ]
    },
    {
      "cell_type": "markdown",
      "metadata": {
        "id": "V1Ndznge3DXF"
      },
      "source": [
        "remove() = To remove a specific element in a list ."
      ]
    },
    {
      "cell_type": "code",
      "execution_count": 43,
      "metadata": {
        "colab": {
          "base_uri": "https://localhost:8080/"
        },
        "id": "gdw3wvJ42iKt",
        "outputId": "b4d52739-b401-437c-fb70-5d2ea2829d5a"
      },
      "outputs": [
        {
          "output_type": "stream",
          "name": "stdout",
          "text": [
            "['cat', 'fox']\n"
          ]
        }
      ],
      "source": [
        "var = ['cat','dog','fox']\n",
        "var.remove('dog')\n",
        "print(var)"
      ]
    },
    {
      "cell_type": "markdown",
      "metadata": {
        "id": "xbw8HxJX3MNL"
      },
      "source": [
        "count() =  To count all the element in a list."
      ]
    },
    {
      "cell_type": "code",
      "execution_count": 44,
      "metadata": {
        "colab": {
          "base_uri": "https://localhost:8080/"
        },
        "id": "T_BJuG-z3BYS",
        "outputId": "a91ff967-adee-4702-951f-389ef23b5af2"
      },
      "outputs": [
        {
          "output_type": "execute_result",
          "data": {
            "text/plain": [
              "2"
            ]
          },
          "metadata": {},
          "execution_count": 44
        }
      ],
      "source": [
        "result = ['k','d','s','d']\n",
        "result.count('d')"
      ]
    },
    {
      "cell_type": "code",
      "execution_count": 45,
      "metadata": {
        "colab": {
          "base_uri": "https://localhost:8080/"
        },
        "id": "QHjCrenU34O5",
        "outputId": "9db8bf8e-38bf-41a1-bbbe-14ba7c9d5d7c"
      },
      "outputs": [
        {
          "output_type": "execute_result",
          "data": {
            "text/plain": [
              "2"
            ]
          },
          "metadata": {},
          "execution_count": 45
        }
      ],
      "source": [
        "result = [1,2,3,4,4]\n",
        "result.count(4)"
      ]
    },
    {
      "cell_type": "markdown",
      "metadata": {
        "id": "aTkVM-9I4Yh_"
      },
      "source": [
        "sort()"
      ]
    },
    {
      "cell_type": "code",
      "execution_count": 46,
      "metadata": {
        "colab": {
          "base_uri": "https://localhost:8080/"
        },
        "id": "KBWWruc84bkJ",
        "outputId": "d34925fa-f363-475b-cf80-5a81eb6aa814"
      },
      "outputs": [
        {
          "output_type": "stream",
          "name": "stdout",
          "text": [
            "[1, 2, 4, 54, 65]\n"
          ]
        }
      ],
      "source": [
        "ne_list = [1,2,65,4,54]\n",
        "ne_list.sort()\n",
        "print(ne_list)"
      ]
    },
    {
      "cell_type": "code",
      "execution_count": 47,
      "metadata": {
        "colab": {
          "base_uri": "https://localhost:8080/"
        },
        "id": "7HZUtgtH4ywY",
        "outputId": "41bba02a-2140-4257-a3d2-7f849455ba43"
      },
      "outputs": [
        {
          "output_type": "stream",
          "name": "stdout",
          "text": [
            "[65, 54, 4, 2, 1]\n"
          ]
        }
      ],
      "source": [
        "ne_list.sort(reverse = True)\n",
        "print(ne_list)"
      ]
    },
    {
      "cell_type": "markdown",
      "metadata": {
        "id": "C_a_IwJr5GJ8"
      },
      "source": [
        "Reverse() = To reverse all elements in a list."
      ]
    },
    {
      "cell_type": "code",
      "execution_count": 48,
      "metadata": {
        "colab": {
          "base_uri": "https://localhost:8080/"
        },
        "id": "eJeWWASf5F6F",
        "outputId": "b95d690d-421d-4b8c-cc9e-8e8359bcce8b"
      },
      "outputs": [
        {
          "output_type": "stream",
          "name": "stdout",
          "text": [
            "[42, 6, 6, 5, 3, 4]\n"
          ]
        }
      ],
      "source": [
        "xc = [4,3,5,6,6,42]\n",
        "xc.reverse()\n",
        "print(xc)"
      ]
    },
    {
      "cell_type": "code",
      "execution_count": 49,
      "metadata": {
        "colab": {
          "base_uri": "https://localhost:8080/"
        },
        "id": "yCSu8MR85QSA",
        "outputId": "40740f78-5bf5-459b-c121-39d8009802b1"
      },
      "outputs": [
        {
          "output_type": "stream",
          "name": "stdout",
          "text": [
            "['g', 'j', 'gh']\n"
          ]
        }
      ],
      "source": [
        "xc = ['gh','j','g']\n",
        "xc.reverse()\n",
        "print(xc)"
      ]
    },
    {
      "cell_type": "markdown",
      "metadata": {
        "id": "4_rZ4JcP57UK"
      },
      "source": [
        "# **nested list** = A great feature of a python data structure is that they support data\n",
        "# nesting. This means we can have structure for ex. A list inside a list."
      ]
    },
    {
      "cell_type": "markdown",
      "metadata": {
        "id": "OKlgN3Te3nvP"
      },
      "source": []
    },
    {
      "cell_type": "code",
      "execution_count": 50,
      "metadata": {
        "colab": {
          "base_uri": "https://localhost:8080/"
        },
        "id": "NcGqty5r6pNH",
        "outputId": "5306be23-7902-4422-8894-9c8877ad4fbc"
      },
      "outputs": [
        {
          "output_type": "stream",
          "name": "stdout",
          "text": [
            "[[2, 3, 4], ['j', 'f', 'd'], [34, 5, 6, 6, 4]]\n"
          ]
        }
      ],
      "source": [
        "lst_3 = [2,3,4]\n",
        "lst_1 = ['j','f','d']\n",
        "lst_2 = [34,5,6,6,4]\n",
        "list_of_lists = [lst_3,lst_1,lst_2]\n",
        "print(list_of_lists)\n"
      ]
    },
    {
      "cell_type": "code",
      "execution_count": 51,
      "metadata": {
        "colab": {
          "base_uri": "https://localhost:8080/"
        },
        "id": "_54bYOqyDCWs",
        "outputId": "1de90ea8-1461-47a3-f803-b37a115b59f6"
      },
      "outputs": [
        {
          "output_type": "execute_result",
          "data": {
            "text/plain": [
              "[2, 3, 4]"
            ]
          },
          "metadata": {},
          "execution_count": 51
        }
      ],
      "source": [
        "list_of_lists[0]"
      ]
    },
    {
      "cell_type": "code",
      "execution_count": 52,
      "metadata": {
        "colab": {
          "base_uri": "https://localhost:8080/"
        },
        "id": "SM4kLaYVDgk-",
        "outputId": "85cf2175-30e2-4d17-ce46-7e638fb2ca1a"
      },
      "outputs": [
        {
          "output_type": "execute_result",
          "data": {
            "text/plain": [
              "3"
            ]
          },
          "metadata": {},
          "execution_count": 52
        }
      ],
      "source": [
        "list_of_lists[0][1]"
      ]
    },
    {
      "cell_type": "code",
      "execution_count": 53,
      "metadata": {
        "colab": {
          "base_uri": "https://localhost:8080/"
        },
        "id": "7i5-kDSCD2C3",
        "outputId": "37db3c70-cb07-426f-e8b9-1c8bb2b43614"
      },
      "outputs": [
        {
          "output_type": "stream",
          "name": "stdout",
          "text": [
            "[1, 3, 4, 5, 9]\n"
          ]
        }
      ],
      "source": [
        "my_list = [2,3,4,5,9]\n",
        "my_list[0]=1\n",
        "print(my_list)"
      ]
    },
    {
      "cell_type": "code",
      "execution_count": 54,
      "metadata": {
        "id": "hTGIrlPs5Lto"
      },
      "outputs": [],
      "source": [
        "nested_list = [[1, 2, 3], [4, 5, 6], [7, 8, 9]]\n"
      ]
    },
    {
      "cell_type": "code",
      "execution_count": 55,
      "metadata": {
        "colab": {
          "base_uri": "https://localhost:8080/"
        },
        "id": "vfPjy2do5P9Y",
        "outputId": "269f7bda-1505-4108-983c-3d8d9dc33887"
      },
      "outputs": [
        {
          "output_type": "stream",
          "name": "stdout",
          "text": [
            "[1, 2, 3]\n",
            "5\n",
            "7\n"
          ]
        }
      ],
      "source": [
        "print(nested_list[0])  # Output: [1, 2, 3]\n",
        "print(nested_list[1][1])  # Output: 5\n",
        "print(nested_list[2][0])  # Output: 7\n"
      ]
    },
    {
      "cell_type": "markdown",
      "metadata": {
        "id": "S4CYNR6SBwYh"
      },
      "source": [
        "![python-conditional-statements.jpg](data:image/jpeg;base64,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)"
      ]
    },
    {
      "cell_type": "markdown",
      "metadata": {
        "id": "MqDMHECSjlFL"
      },
      "source": [
        "## statement = Any instruction written in the source code and executed by the Python interpreter is called a statement. The Python language has many different types of statements like assignment statements, conditional statements, looping statements, etc., that help a programmer get the desired output. For example, p = 9; is an assignment statement."
      ]
    },
    {
      "cell_type": "code",
      "execution_count": 56,
      "metadata": {
        "colab": {
          "base_uri": "https://localhost:8080/"
        },
        "id": "jmTcr-5qxFx1",
        "outputId": "b6ad2d7b-daae-4f43-d06e-e89084e75187"
      },
      "outputs": [
        {
          "output_type": "stream",
          "name": "stdout",
          "text": [
            "2\n",
            "21\n"
          ]
        }
      ],
      "source": [
        "x = 3\n",
        "print(1 + 1)\n",
        "print(len(\"Hello Team AlmaBetter\"))"
      ]
    },
    {
      "cell_type": "code",
      "execution_count": 57,
      "metadata": {
        "colab": {
          "base_uri": "https://localhost:8080/"
        },
        "id": "5ntuferPxRp7",
        "outputId": "e8803315-f3a9-4797-9d25-f4d3b3038217"
      },
      "outputs": [
        {
          "output_type": "execute_result",
          "data": {
            "text/plain": [
              "3.14"
            ]
          },
          "metadata": {},
          "execution_count": 57
        }
      ],
      "source": [
        "y = 3.14\n",
        "y"
      ]
    },
    {
      "cell_type": "code",
      "execution_count": 58,
      "metadata": {
        "colab": {
          "base_uri": "https://localhost:8080/"
        },
        "id": "OTgC8x7-xVHD",
        "outputId": "d4a0420b-1ef6-48d2-c94c-1569d4ca336d"
      },
      "outputs": [
        {
          "output_type": "execute_result",
          "data": {
            "text/plain": [
              "False"
            ]
          },
          "metadata": {},
          "execution_count": 58
        }
      ],
      "source": [
        "a = 'Mighty'\n",
        "# b = a == True\n",
        "a == True"
      ]
    },
    {
      "cell_type": "code",
      "execution_count": 59,
      "metadata": {
        "colab": {
          "base_uri": "https://localhost:8080/"
        },
        "id": "fOmBCiu-xYsM",
        "outputId": "eec0bb68-fda2-48e9-f427-843f88fdead4"
      },
      "outputs": [
        {
          "output_type": "stream",
          "name": "stdout",
          "text": [
            "3.14\n"
          ]
        }
      ],
      "source": [
        "# Import statement\n",
        "import pandas as pd\n",
        "print(y)"
      ]
    },
    {
      "cell_type": "markdown",
      "metadata": {
        "id": "N1NxxgHGxhkW"
      },
      "source": [
        "Multi-line Statements\n",
        "In Python, the end of a statement is marked by a newline character. But we can make a statement extend over multiple lines with the line continuation character ()."
      ]
    },
    {
      "cell_type": "code",
      "execution_count": 60,
      "metadata": {
        "id": "qf5_-O0HD20U"
      },
      "outputs": [],
      "source": [
        "s = 10 + 15+ 30 + \\\n",
        "    49 + 5 + 57 + \\\n",
        "    3 - 54 - 7"
      ]
    },
    {
      "cell_type": "code",
      "execution_count": 61,
      "metadata": {
        "colab": {
          "base_uri": "https://localhost:8080/"
        },
        "id": "9Mop4kkCx8yO",
        "outputId": "0fbee801-48c6-4cf2-a27e-b730b91ba2d0"
      },
      "outputs": [
        {
          "output_type": "execute_result",
          "data": {
            "text/plain": [
              "108"
            ]
          },
          "metadata": {},
          "execution_count": 61
        }
      ],
      "source": [
        "s"
      ]
    },
    {
      "cell_type": "code",
      "execution_count": 62,
      "metadata": {
        "id": "KzwMgIuekoi7"
      },
      "outputs": [],
      "source": [
        "s = (10 + 15+ 30 +\n",
        "    49 + 5 + 57 +\n",
        "    3 - 54 - 2)\n",
        "\n",
        "p = [ 'Hello',\n",
        "'welcome',\n",
        "'to Python']\n",
        "\n",
        "x = 5; p = 83; o = 7\n",
        "\n"
      ]
    },
    {
      "cell_type": "code",
      "execution_count": 63,
      "metadata": {
        "colab": {
          "base_uri": "https://localhost:8080/"
        },
        "id": "OoONGUR2mtMb",
        "outputId": "62247a0b-be5d-458d-c204-b8ec397c0d72"
      },
      "outputs": [
        {
          "output_type": "stream",
          "name": "stdout",
          "text": [
            "2\n",
            "3\n",
            "5\n"
          ]
        }
      ],
      "source": [
        "a = 2; b = 3; c = 5\n",
        "print(a);print(b);print(c)"
      ]
    },
    {
      "cell_type": "code",
      "execution_count": 64,
      "metadata": {
        "colab": {
          "base_uri": "https://localhost:8080/"
        },
        "id": "ARpJe2vwxzjA",
        "outputId": "85776af2-2843-405c-9967-230a74fdaf21"
      },
      "outputs": [
        {
          "output_type": "execute_result",
          "data": {
            "text/plain": [
              "([1], (1,))"
            ]
          },
          "metadata": {},
          "execution_count": 64
        }
      ],
      "source": [
        "my_list = [1]\n",
        "my_tuple = (1,)\n",
        "my_list, my_tuple"
      ]
    },
    {
      "cell_type": "code",
      "execution_count": 65,
      "metadata": {
        "id": "sMZlkm6Zx3od"
      },
      "outputs": [],
      "source": [
        "a = (1 + 2 + 3 + 4 +\n",
        "\n",
        "     5 + 6 + 7 +\n",
        "     8 + 9 + 10)"
      ]
    },
    {
      "cell_type": "code",
      "execution_count": 66,
      "metadata": {
        "colab": {
          "base_uri": "https://localhost:8080/"
        },
        "id": "xEzLN8L0x6xS",
        "outputId": "f2b372c9-3652-4ab7-e110-161df1d25581"
      },
      "outputs": [
        {
          "output_type": "execute_result",
          "data": {
            "text/plain": [
              "55"
            ]
          },
          "metadata": {},
          "execution_count": 66
        }
      ],
      "source": [
        "a"
      ]
    },
    {
      "cell_type": "code",
      "execution_count": 67,
      "metadata": {
        "colab": {
          "base_uri": "https://localhost:8080/"
        },
        "id": "d27GO2I7yBDn",
        "outputId": "c39edcf5-4414-403f-e696-9c78c7457cee"
      },
      "outputs": [
        {
          "output_type": "execute_result",
          "data": {
            "text/plain": [
              "int"
            ]
          },
          "metadata": {},
          "execution_count": 67
        }
      ],
      "source": [
        "type(a)"
      ]
    },
    {
      "cell_type": "code",
      "execution_count": 68,
      "metadata": {
        "id": "djqcYqsOyYyr"
      },
      "outputs": [],
      "source": [
        "a = 1\n",
        "b = 2\n",
        "c = 3"
      ]
    },
    {
      "cell_type": "code",
      "execution_count": 69,
      "metadata": {
        "id": "GQMgHWopybF8"
      },
      "outputs": [],
      "source": [
        "a, b, c = [1, 'a', True], (45, 67), {'Name' : 'rahul' , 'Age' : 22}"
      ]
    },
    {
      "cell_type": "code",
      "execution_count": 70,
      "metadata": {
        "colab": {
          "base_uri": "https://localhost:8080/"
        },
        "id": "vmtatZ_tyfrN",
        "outputId": "6e7971d3-3fb3-405b-ff90-801618b053ce"
      },
      "outputs": [
        {
          "output_type": "execute_result",
          "data": {
            "text/plain": [
              "[1, 'a', True]"
            ]
          },
          "metadata": {},
          "execution_count": 70
        }
      ],
      "source": [
        "a"
      ]
    },
    {
      "cell_type": "code",
      "execution_count": 71,
      "metadata": {
        "colab": {
          "base_uri": "https://localhost:8080/"
        },
        "id": "ImUl-Pk1yisD",
        "outputId": "2818bfa4-2a4b-46a1-9dd9-75cbe25b3b4c"
      },
      "outputs": [
        {
          "output_type": "execute_result",
          "data": {
            "text/plain": [
              "(45, 67)"
            ]
          },
          "metadata": {},
          "execution_count": 71
        }
      ],
      "source": [
        "b"
      ]
    },
    {
      "cell_type": "code",
      "execution_count": 72,
      "metadata": {
        "colab": {
          "base_uri": "https://localhost:8080/"
        },
        "id": "31gFo24Vyj1c",
        "outputId": "b141c7ee-5e67-44ce-92ef-a615fdde1d39"
      },
      "outputs": [
        {
          "output_type": "execute_result",
          "data": {
            "text/plain": [
              "{'Name': 'rahul', 'Age': 22}"
            ]
          },
          "metadata": {},
          "execution_count": 72
        }
      ],
      "source": [
        "c"
      ]
    },
    {
      "cell_type": "code",
      "execution_count": 72,
      "metadata": {
        "id": "ldEScIU-yuwi"
      },
      "outputs": [],
      "source": []
    },
    {
      "cell_type": "markdown",
      "metadata": {
        "id": "_MaewqwryuHx"
      },
      "source": [
        "# Python Comments\n",
        "Comments are very important while writing a program. They describe what is going on inside a program, so that a person looking at the source code does not have a hard time figuring it out.\n",
        "\n",
        "You might forget the key details of the program you just wrote in a month's time. So taking the time to explain these concepts in the form of comments is always fruitful.\n",
        "\n",
        "In Python, we use the hash (#) symbol to start writing a comment.\n",
        "\n",
        "It extends up to the newline character. Comments are for programmers to better understand a program. Python Interpreter ignores comments.\n",
        "\n"
      ]
    },
    {
      "cell_type": "code",
      "execution_count": 73,
      "metadata": {
        "colab": {
          "base_uri": "https://localhost:8080/"
        },
        "id": "HrehMVGEyzFL",
        "outputId": "7a754d69-8bbc-46f9-cdde-23f408b82d79"
      },
      "outputs": [
        {
          "output_type": "stream",
          "name": "stdout",
          "text": [
            "Hello\n"
          ]
        }
      ],
      "source": [
        "print('Hello')\n"
      ]
    },
    {
      "cell_type": "markdown",
      "metadata": {
        "id": "cs_u7dlGy6lO"
      },
      "source": [
        "# Indentation in Python\n",
        "It is important to keep a good understanding of how indentation works in Python to maintain the structure and order of your code. We will touch on this topic again when we start building out functions!\n",
        "\n",
        "Let's create a simple statement that says: \"If a is greater than b, assign 2 to a and 4 to b\"\n",
        "\n",
        "Take a look at how to write a simple if statement"
      ]
    },
    {
      "cell_type": "code",
      "execution_count": 74,
      "metadata": {
        "id": "6IVtIsQWzLKw"
      },
      "outputs": [],
      "source": [
        "a=2\n",
        "b=1\n",
        "\n",
        "# if b > a:\n",
        "#   a = 5\n",
        "#   b = 5"
      ]
    },
    {
      "cell_type": "code",
      "execution_count": 75,
      "metadata": {
        "colab": {
          "base_uri": "https://localhost:8080/"
        },
        "id": "XPcfSpOyzPVO",
        "outputId": "c1a5fe25-a5b3-4064-80f6-4dc2910db9ee"
      },
      "outputs": [
        {
          "output_type": "execute_result",
          "data": {
            "text/plain": [
              "2"
            ]
          },
          "metadata": {},
          "execution_count": 75
        }
      ],
      "source": [
        "a"
      ]
    },
    {
      "cell_type": "code",
      "execution_count": 76,
      "metadata": {
        "colab": {
          "base_uri": "https://localhost:8080/"
        },
        "id": "xNKOMan8zQKq",
        "outputId": "25dda7dd-3779-4f77-f5aa-8d491df48702"
      },
      "outputs": [
        {
          "output_type": "execute_result",
          "data": {
            "text/plain": [
              "1"
            ]
          },
          "metadata": {},
          "execution_count": 76
        }
      ],
      "source": [
        "b"
      ]
    },
    {
      "cell_type": "code",
      "execution_count": 77,
      "metadata": {
        "colab": {
          "base_uri": "https://localhost:8080/"
        },
        "id": "9mv0T-f6z4Iy",
        "outputId": "19d2f3c7-d035-4a83-ad16-7410fb2debb3"
      },
      "outputs": [
        {
          "output_type": "stream",
          "name": "stdout",
          "text": [
            "True\n"
          ]
        }
      ],
      "source": [
        "a, b = 3, 2\n",
        "if a > b:\n",
        "  print(\"True\")"
      ]
    },
    {
      "cell_type": "code",
      "execution_count": 78,
      "metadata": {
        "colab": {
          "base_uri": "https://localhost:8080/"
        },
        "id": "J3X5naPK0mez",
        "outputId": "47eebb00-5725-4454-de44-f79f69bd05c1"
      },
      "outputs": [
        {
          "output_type": "stream",
          "name": "stdout",
          "text": [
            "false\n"
          ]
        }
      ],
      "source": [
        "v = 4\n",
        "b = 2\n",
        "if v > b:\n",
        "  print(\"false\")"
      ]
    },
    {
      "cell_type": "markdown",
      "metadata": {
        "id": "2A_1zX6M08Fe"
      },
      "source": [
        "# Conditional Statements\n",
        "if Statements in Python allows us to tell the computer to perform alternative actions based on a certain set of results.\n",
        "\n",
        "Verbally, we can imagine we are telling the computer:\"Hey if this case happens, perform some action\"\n",
        "\n",
        "We can then expand the idea further with elif and else statements, which allow us to tell the computer: \"Hey if this case happens, perform some action. Else, if another case happens, perform some other action. Else, if none of the above cases happened, perform this action.\"\n",
        "\n",
        "Let's go ahead and look at the syntax format for if statements to get a better idea of this:\n",
        "\n",
        "if case1: perform action1 elif case2: perform action2 else: perform action3"
      ]
    },
    {
      "cell_type": "code",
      "execution_count": 79,
      "metadata": {
        "id": "BDEeeoFj1HCk",
        "outputId": "bf650966-b347-4c86-d128-c7f7795f31d7",
        "colab": {
          "base_uri": "https://localhost:8080/",
          "height": 130
        }
      },
      "outputs": [
        {
          "output_type": "error",
          "ename": "SyntaxError",
          "evalue": "ignored",
          "traceback": [
            "\u001b[0;36m  File \u001b[0;32m\"<ipython-input-79-7f59f204c3ce>\"\u001b[0;36m, line \u001b[0;32m3\u001b[0m\n\u001b[0;31m    elif case 5 :\u001b[0m\n\u001b[0m    ^\u001b[0m\n\u001b[0;31mSyntaxError\u001b[0m\u001b[0;31m:\u001b[0m invalid syntax\n"
          ]
        }
      ],
      "source": [
        "if case1 :\n",
        "  # do some action\n",
        "  elif case 5 :\n",
        "    # another action\n",
        "elif case2 :\n",
        "  # do some another action\n",
        "else:\n",
        "  # do some yet another action\n"
      ]
    },
    {
      "cell_type": "code",
      "execution_count": null,
      "metadata": {
        "id": "fc-daPYB1L9j"
      },
      "outputs": [],
      "source": [
        "x=20\n",
        "\n",
        "if x == 30 :\n",
        "  print('x is greater than 10!')\n",
        "  print(f'x is {x}')"
      ]
    },
    {
      "cell_type": "code",
      "execution_count": null,
      "metadata": {
        "id": "ov-Ev7Z81pDD"
      },
      "outputs": [],
      "source": [
        "x == 20"
      ]
    },
    {
      "cell_type": "code",
      "execution_count": null,
      "metadata": {
        "id": "Ux6BSmsX1r7z"
      },
      "outputs": [],
      "source": [
        "if True:\n",
        "  print('It was true!')"
      ]
    },
    {
      "cell_type": "code",
      "execution_count": null,
      "metadata": {
        "id": "_WeJo1_d124P"
      },
      "outputs": [],
      "source": [
        "6==8"
      ]
    },
    {
      "cell_type": "code",
      "execution_count": null,
      "metadata": {
        "id": "NgQNsRwa1vDf"
      },
      "outputs": [],
      "source": [
        "if False:\n",
        "  print('It was false')"
      ]
    },
    {
      "cell_type": "code",
      "execution_count": null,
      "metadata": {
        "id": "mVR0HFjx2Mix"
      },
      "outputs": [],
      "source": [
        "x = False\n",
        "y = True\n",
        "\n",
        "if x:\n",
        "  print('y was True!')\n",
        "else:\n",
        "  print('x is not true')"
      ]
    },
    {
      "cell_type": "code",
      "execution_count": null,
      "metadata": {
        "id": "rvpI5mpC2b10"
      },
      "outputs": [],
      "source": [
        "city = ('Pune')\n",
        "\n",
        "if city == ('New Delhi'):\n",
        "  print('Welcome to the Indian Capital')\n",
        "elif city == ('Mumbai'):\n",
        "  print('Welcome to the Financial Capital of India!')\n",
        "elif city == ('Pune'):\n",
        "  print('welcome to puneri')\n",
        "else:\n",
        "  print('Where are you?')"
      ]
    },
    {
      "cell_type": "code",
      "execution_count": null,
      "metadata": {
        "id": "YwmCdKGI3L3n"
      },
      "outputs": [],
      "source": [
        "person = 'Johnny'\n",
        "\n",
        "if person == 'John':\n",
        "    print(f'Welcome {person}!')\n",
        "else:\n",
        "    print(\"Welcome, what's your name?\")"
      ]
    },
    {
      "cell_type": "code",
      "execution_count": null,
      "metadata": {
        "id": "p7qdGGzu3PvI"
      },
      "outputs": [],
      "source": [
        "number1 = -2\n",
        "number2 = 9\n",
        "\n",
        "if number1 > 0:\n",
        "  if number2 < 10 :\n",
        "    print(number2 + number1)\n",
        "  else:\n",
        "    print(\"Should be greater than 10\")\n",
        "\n",
        "elif number1 < 0:\n",
        "    print(\"Ah, that's a negative number\")\n",
        "else:\n",
        "    print(\"The number is zero!\")"
      ]
    },
    {
      "cell_type": "markdown",
      "metadata": {
        "id": "07PSau7m3ViC"
      },
      "source": [
        "Truthy & Falsy\n",
        "A \"truthy\" value will satisfy the check performed by if or while statements. We use \"truthy\" and \"falsy\" to differentiate from the boolean values True and False.\n",
        "All values are considered \"truthy\" except for the following, which are \"falsy\":\n",
        "None\n",
        "\n",
        "False\n",
        "\n",
        "0\n",
        "\n",
        "0.0\n",
        "\n",
        "\n",
        "[] - an empty list\n",
        "\n",
        "{} - an empty dict\n",
        "\n",
        "() - an empty tuple\n",
        "\n",
        "'' - an empty str"
      ]
    },
    {
      "cell_type": "code",
      "execution_count": null,
      "metadata": {
        "id": "oHUhAdT73jMD"
      },
      "outputs": [],
      "source": [
        "if False:\n",
        "  print(\"What do you say?\")\n",
        "else:\n",
        "  print(\"I have nothing to say\")"
      ]
    },
    {
      "cell_type": "code",
      "execution_count": null,
      "metadata": {
        "id": "B75d13ry3ntB"
      },
      "outputs": [],
      "source": [
        "if [None]:\n",
        "  print(\"Well I had a really bad day!\")\n",
        "else:\n",
        "  print(\"Come on you aced your test.\")\n"
      ]
    },
    {
      "cell_type": "code",
      "execution_count": null,
      "metadata": {
        "id": "efLnCMY537pr"
      },
      "outputs": [],
      "source": [
        "if {1:2,3:4}:\n",
        "  print(\"This is True\")\n",
        "else:\n",
        "  print(\"This is False\")"
      ]
    },
    {
      "cell_type": "code",
      "execution_count": null,
      "metadata": {
        "id": "okvOerYZ4QZl"
      },
      "outputs": [],
      "source": [
        "num = input(\"Enter a number:2 \")\n",
        "num = int(num)\n",
        "if num % 2 == 0:\n",
        "    print(\"The number is even.\")\n",
        "else:\n",
        "    print(\"The number is odd.\")\n"
      ]
    },
    {
      "cell_type": "code",
      "execution_count": null,
      "metadata": {
        "id": "YcISbaD1sc7r"
      },
      "outputs": [],
      "source": [
        "4==4"
      ]
    },
    {
      "cell_type": "code",
      "execution_count": null,
      "metadata": {
        "id": "gFkuCQwrsz0r"
      },
      "outputs": [],
      "source": [
        "4>=8"
      ]
    },
    {
      "cell_type": "code",
      "execution_count": null,
      "metadata": {
        "id": "Y__txjb2s3fD"
      },
      "outputs": [],
      "source": [
        "3<=2"
      ]
    },
    {
      "cell_type": "code",
      "execution_count": null,
      "metadata": {
        "id": "W8hbR9-Ds55I"
      },
      "outputs": [],
      "source": [
        "8<=7"
      ]
    },
    {
      "cell_type": "code",
      "execution_count": null,
      "metadata": {
        "id": "yCZ0uEUVs9Ru"
      },
      "outputs": [],
      "source": [
        "6!=6"
      ]
    },
    {
      "cell_type": "code",
      "execution_count": null,
      "metadata": {
        "id": "QnJCyfBpub7k"
      },
      "outputs": [],
      "source": [
        "7!=3"
      ]
    },
    {
      "cell_type": "code",
      "execution_count": null,
      "metadata": {
        "id": "GdnYjjEWuf4b"
      },
      "outputs": [],
      "source": [
        "\n",
        "indian = [\"samosa\",\"bhel\",\"noodles\"]\n",
        "chinese = [\"fried rice\",\"egg\",\"spring role\"]\n",
        "italian =[\"pasta\",\"pizza\",\"cheesi\"]\n",
        "\n",
        "dish = input(\"enter a  dish name : \")\n",
        "if dish in indian:\n",
        "    print(\"indian\")\n",
        "elif dish in chinese:\n",
        "    print(\"chinese\")\n",
        "elif dish in italian:\n",
        "    print(\"italian\")\n",
        "else:(\" I dont know which cusine is this\")"
      ]
    },
    {
      "cell_type": "markdown",
      "metadata": {
        "id": "2H8Qs61O6AUu"
      },
      "source": [
        "# LOOPS = Loops are important in Python or in any other programming language as they help you to execute a block of code repeatedly. You will often come face to face with situations where you would need to use a piece of code over and over but you don't want to write the same line of code multiple times."
      ]
    },
    {
      "cell_type": "markdown",
      "metadata": {
        "id": "MG90URQi6Hzu"
      },
      "source": [
        "In Python we have mainly two different types of loops :\n",
        "for loop : In the context of most data science work, Python for loops are used to loop through an iterable object (like a list, tuple, set, etc.) and perform the same action for each entry. For example, a for loop would allow us to iterate through a list, performing the same action on each item in the list.\n",
        "\n",
        "while loop : The while loop is somewhat similar to an if statement, it executes the code inside, if the condition is True. However, as opposed to the if statement, the while loop continues to execute the code repeatedly as long as the condition is True."
      ]
    },
    {
      "cell_type": "code",
      "execution_count": null,
      "metadata": {
        "id": "d99Br3kK6Xbw"
      },
      "outputs": [],
      "source": [
        "for item in object:\n",
        "    statements to do stuff"
      ]
    },
    {
      "cell_type": "code",
      "execution_count": null,
      "metadata": {
        "id": "CRJi5xLV6X7v"
      },
      "outputs": [],
      "source": [
        "got_sports = ['cricket','footabll','volleyball','kabaddi']\n"
      ]
    },
    {
      "cell_type": "code",
      "execution_count": null,
      "metadata": {
        "id": "4hcs8AV67Jb2"
      },
      "outputs": [],
      "source": [
        "for sports in got_sports[::-1]:\n",
        "  print(f\"Sports {sports}\")"
      ]
    },
    {
      "cell_type": "code",
      "execution_count": null,
      "metadata": {
        "id": "AsIUU7d672yf"
      },
      "outputs": [],
      "source": [
        "got_sports"
      ]
    },
    {
      "cell_type": "code",
      "execution_count": null,
      "metadata": {
        "id": "kl9Sp3zs9gA3"
      },
      "outputs": [],
      "source": [
        "got_houses = ['Stark', 'Arryn', 'Baratheon', 'Tully', 'Greyjoy', 'Lannister', 'Tyrell', 'Martell', 'Targaryen']"
      ]
    },
    {
      "cell_type": "code",
      "execution_count": null,
      "metadata": {
        "id": "CMCzF4sK9lAF"
      },
      "outputs": [],
      "source": [
        "for house in got_houses[::-1]:\n",
        "  print(f\"House {house}\")\n"
      ]
    },
    {
      "cell_type": "code",
      "execution_count": null,
      "metadata": {
        "id": "4Gokddhn9oTh"
      },
      "outputs": [],
      "source": [
        "got_houses"
      ]
    },
    {
      "cell_type": "code",
      "execution_count": null,
      "metadata": {
        "id": "N9ONETDI9rCd"
      },
      "outputs": [],
      "source": [
        "# Using enumerate function to loop through the elements of a list\n",
        "for number,house in enumerate(got_houses):\n",
        "  print(f\"The house no of house {house} is {number + 1}\")"
      ]
    },
    {
      "cell_type": "code",
      "execution_count": null,
      "metadata": {
        "id": "6Rjt-Iyh9toT"
      },
      "outputs": [],
      "source": [
        "x = 1,2"
      ]
    },
    {
      "cell_type": "code",
      "execution_count": null,
      "metadata": {
        "id": "CZd66RTt9wa-"
      },
      "outputs": [],
      "source": [
        "x"
      ]
    },
    {
      "cell_type": "code",
      "execution_count": null,
      "metadata": {
        "id": "lhq2n86i9xbp"
      },
      "outputs": [],
      "source": [
        "list(enumerate(got_houses))"
      ]
    },
    {
      "cell_type": "code",
      "execution_count": null,
      "metadata": {
        "id": "VmtzH5Qv93vW"
      },
      "outputs": [],
      "source": [
        "# The list of numbers\n",
        "list_of_numbers = [1, 2, 4, 6, 11, 14, 17, 20]"
      ]
    },
    {
      "cell_type": "code",
      "execution_count": null,
      "metadata": {
        "id": "uZmHbRrf97Cd"
      },
      "outputs": [],
      "source": [
        "# Let us first print the squares\n",
        "for number in list_of_numbers:\n",
        "  squared_number = number**2\n",
        "  print(f\"The square of {number} is {squared_number}\")"
      ]
    },
    {
      "cell_type": "code",
      "execution_count": null,
      "metadata": {
        "id": "1TDEPEFV9_2k"
      },
      "outputs": [],
      "source": [
        "list_of_numbers"
      ]
    },
    {
      "cell_type": "code",
      "execution_count": null,
      "metadata": {
        "id": "HKMcuOzY-DG-"
      },
      "outputs": [],
      "source": [
        "squared_numbers = []\n",
        "\n",
        "for number in list_of_numbers:\n",
        "  square = number**2\n",
        "  # Use the append method to add the numbers one by one to our list\n",
        "  squared_numbers.append(square)\n",
        "  # print(squared_numbers)\n",
        "\n",
        "print(f\"The list of squared numbers is {squared_numbers}\")"
      ]
    },
    {
      "cell_type": "code",
      "execution_count": null,
      "metadata": {
        "id": "307S1j7N-O75"
      },
      "outputs": [],
      "source": [
        "print(list_of_numbers)\n",
        "print(squared_numbers)\n"
      ]
    },
    {
      "cell_type": "code",
      "execution_count": null,
      "metadata": {
        "id": "6KJuORJ3-Rvr"
      },
      "outputs": [],
      "source": [
        "\n",
        "# Let us zip the original numbers and squares together and get the dictionary\n",
        "zipped_dict = dict(zip(list_of_numbers,squared_numbers))\n",
        "\n",
        "# Let us print the dictionary where the key is the number and the value is the square of that number\n",
        "print(zipped_dict)"
      ]
    },
    {
      "cell_type": "code",
      "execution_count": null,
      "metadata": {
        "id": "YmlHm_yj-yjd"
      },
      "outputs": [],
      "source": [
        "heisenberg_quote = \"It ceases to exist without me. No, you clearly don't know who you're talking to, so let me clue you in. I am not in danger, Skyler. I am the danger.\"\n"
      ]
    },
    {
      "cell_type": "code",
      "execution_count": null,
      "metadata": {
        "id": "Y82mK8Ya-6vN"
      },
      "outputs": [],
      "source": [
        "words_by_walter = heisenberg_quote.split(' ')\n",
        "print(words_by_walter)\n"
      ]
    },
    {
      "cell_type": "markdown",
      "metadata": {
        "id": "igF6I2eE93YN"
      },
      "source": []
    },
    {
      "cell_type": "code",
      "execution_count": null,
      "metadata": {
        "id": "JeUQzWIQ-_P6"
      },
      "outputs": [],
      "source": [
        "# Now we can print each word by iterating through this list\n",
        "for word in words_by_walter:\n",
        "  if word not in ['I','you']:\n",
        "    print(f\"The word is {word}\")"
      ]
    },
    {
      "cell_type": "markdown",
      "metadata": {
        "id": "UPEPwUYT_GaY"
      },
      "source": [
        "# While Loops\n",
        "# The while statement in Python is one of the most general ways to perform iteration. A while statement will repeatedly execute a single statement or group of statements as long as the condition is true. The reason it is called a 'loop' is because the code statements are looped through over and over again until the condition is no longer met.\n",
        "# The general format of a while loop is:\n",
        "while test:\n",
        "\n",
        "    code statements\n",
        "\n",
        "else:\n",
        "\n",
        "    final code statements"
      ]
    },
    {
      "cell_type": "code",
      "execution_count": null,
      "metadata": {
        "id": "BH0VWRgz_VYY"
      },
      "outputs": [],
      "source": [
        "x = 0\n",
        "\n",
        "while x < 10:\n",
        "  print('x is currently: ',x)\n",
        "  print('x is still less than 10, adding 1 to x')\n",
        "  x=x+1"
      ]
    },
    {
      "cell_type": "markdown",
      "metadata": {
        "id": "uMIH-SXU_amt"
      },
      "source": [
        "Notice how many times the print statements occurred and how the while loop kept going until the False condition was met, which occurred once x==10. It's important to note that once this occurred the code stopped. Let's see how we could add an else statement:"
      ]
    },
    {
      "cell_type": "code",
      "execution_count": null,
      "metadata": {
        "id": "G3orNFb9_dao"
      },
      "outputs": [],
      "source": [
        "x = 0\n",
        "\n",
        "while x < 5:\n",
        "  print('x is currently: ',x)\n",
        "  print(' x is still less than 10, adding 1 to x')\n",
        "  x+=1\n",
        "\n",
        "print(\"All done\")\n",
        "print(\"I am done with the iterations\")"
      ]
    },
    {
      "cell_type": "markdown",
      "metadata": {
        "id": "ZWHvMgulAP6n"
      },
      "source": [
        "break, continue, pass\n",
        "We can use break, continue, and pass statements in our loops to add additional functionality for various cases. The three statements are defined by:\n",
        "\n",
        "break: Breaks out of the current closest enclosing loop.\n",
        "\n",
        "continue: Goes to the top of the closest enclosing loop.\n",
        "\n",
        "pass: Does nothing at all.\n",
        "\n",
        "\n",
        "Thinking about break and continue statements, the general format of the while loop looks like this:\n",
        "while test:\n",
        "    code statement\n",
        "\n",
        "    if test:\n",
        "\n",
        "        break\n",
        "\n",
        "    if test:\n",
        "\n",
        "        continue\n",
        "\n",
        "else:\n",
        "\n"
      ]
    },
    {
      "cell_type": "code",
      "execution_count": null,
      "metadata": {
        "id": "KxnN2o50AoFf"
      },
      "outputs": [],
      "source": [
        "x = 0\n",
        "\n",
        "while x < 10:\n",
        "  print('x is currently: ',x)\n",
        "  print(' x is still less than 10, adding 1 to x')\n",
        "  # x+=1\n",
        "  if x==3:\n",
        "    print('x==3')\n",
        "    break\n",
        "  else:\n",
        "    print('continuing...')\n",
        "    continue"
      ]
    },
    {
      "cell_type": "code",
      "execution_count": null,
      "metadata": {
        "id": "u7u_-6RjAuEW"
      },
      "outputs": [],
      "source": [
        "x = 0\n",
        "\n",
        "while x < 10:\n",
        "  print('x is currently: ',x)\n",
        "  print(' x is still less than 10, adding 1 to x')\n",
        "  x+=1\n",
        "  break\n",
        "\n",
        "else:\n",
        "  print('continuing...')\n"
      ]
    },
    {
      "cell_type": "markdown",
      "metadata": {
        "id": "YsecTWEQCPzg"
      },
      "source": [
        "What are list comprehensions?\n",
        "\n",
        "List comprehensions are a tool for transforming one list (any iterable actually) into another list. During this transformation, elements can be conditionally included in the new list and each element can be transformed as needed.\n",
        "\n",
        "List comprehensions in Python are great, but mastering them can be tricky because they don’t solve a new problem: they just provide a new syntax to solve an existing problem.\n",
        "\n",
        "From loops to comprehensions\n",
        "\n",
        "Every list comprehension can be rewritten as a for loop but not every for loop can be rewritten as a list comprehension"
      ]
    },
    {
      "cell_type": "code",
      "execution_count": null,
      "metadata": {
        "id": "OmIjX7W8CYyc"
      },
      "outputs": [],
      "source": [
        "list_of_numbers = [1, 2, 4, 6, 11, 14, 17, 20]\n"
      ]
    },
    {
      "cell_type": "code",
      "execution_count": null,
      "metadata": {
        "id": "ABlGye5_Cbsx"
      },
      "outputs": [],
      "source": [
        "squared_numbers = []\n",
        "\n",
        "for number in list_of_numbers:\n",
        "  # Use the append method to add the numbers one by one to our list\n",
        "  squared_numbers.append(number**2)\n",
        "  # print(squared_numbers)\n",
        "\n",
        "print(f\"The list of squared numbers is {squared_numbers}\")\n"
      ]
    },
    {
      "cell_type": "code",
      "source": [
        "list_num = [2,3,4,5,66,]\n",
        "for num in list_num:\n",
        "  squarred_num = []\n",
        "  squarred_num.append(num**2)\n",
        "\n",
        "  print(f\"list is squarred number is {squarred_num}\")"
      ],
      "metadata": {
        "id": "3NlF1fo-dPqC"
      },
      "execution_count": null,
      "outputs": []
    },
    {
      "cell_type": "code",
      "source": [],
      "metadata": {
        "id": "wehk6wNHuzD9"
      },
      "execution_count": null,
      "outputs": []
    },
    {
      "cell_type": "code",
      "source": [
        "list"
      ],
      "metadata": {
        "id": "WrRqz_3MtE66"
      },
      "execution_count": null,
      "outputs": []
    },
    {
      "cell_type": "markdown",
      "source": [
        "\n"
      ],
      "metadata": {
        "id": "eDWyRTp0dHcs"
      }
    }
  ],
  "metadata": {
    "colab": {
      "provenance": [],
      "authorship_tag": "ABX9TyNLHVFEnfoK8A8CqPpUhPUj",
      "include_colab_link": true
    },
    "kernelspec": {
      "display_name": "Python 3",
      "name": "python3"
    },
    "language_info": {
      "name": "python"
    }
  },
  "nbformat": 4,
  "nbformat_minor": 0
}