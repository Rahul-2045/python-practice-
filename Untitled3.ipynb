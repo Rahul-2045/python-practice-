{
  "nbformat": 4,
  "nbformat_minor": 0,
  "metadata": {
    "colab": {
      "provenance": [],
      "authorship_tag": "ABX9TyNVpSiMYxFYzoThJ5FtxuXZ",
      "include_colab_link": true
    },
    "kernelspec": {
      "name": "python3",
      "display_name": "Python 3"
    },
    "language_info": {
      "name": "python"
    }
  },
  "cells": [
    {
      "cell_type": "markdown",
      "metadata": {
        "id": "view-in-github",
        "colab_type": "text"
      },
      "source": [
        "<a href=\"https://colab.research.google.com/github/Rahulverma2045/python-practice-/blob/main/Untitled3.ipynb\" target=\"_parent\"><img src=\"https://colab.research.google.com/assets/colab-badge.svg\" alt=\"Open In Colab\"/></a>"
      ]
    },
    {
      "cell_type": "code",
      "execution_count": 1,
      "metadata": {
        "colab": {
          "base_uri": "https://localhost:8080/"
        },
        "id": "8ZMJZ9rBZ0P5",
        "outputId": "397d0e39-8230-40e2-9b5f-353a408040bb"
      },
      "outputs": [
        {
          "output_type": "execute_result",
          "data": {
            "text/plain": [
              "16"
            ]
          },
          "metadata": {},
          "execution_count": 1
        }
      ],
      "source": [
        "4**2"
      ]
    },
    {
      "cell_type": "code",
      "source": [
        "num_1 = 672\n",
        "num_2 = 56\n",
        "total_num = num_1 + num_2\n",
        "print(total_num)"
      ],
      "metadata": {
        "colab": {
          "base_uri": "https://localhost:8080/"
        },
        "id": "RJkGMHhdbe_W",
        "outputId": "a68d65fb-ec35-445c-d6bf-5065ccc53f7e"
      },
      "execution_count": 3,
      "outputs": [
        {
          "output_type": "stream",
          "name": "stdout",
          "text": [
            "728\n"
          ]
        }
      ]
    },
    {
      "cell_type": "code",
      "source": [
        "total_num = num_1 % num_2\n",
        "print(total_num)"
      ],
      "metadata": {
        "colab": {
          "base_uri": "https://localhost:8080/"
        },
        "id": "bW7fW0UBbyKA",
        "outputId": "5cbb33f0-64d9-4b0f-817d-f4368d9198f0"
      },
      "execution_count": 4,
      "outputs": [
        {
          "output_type": "stream",
          "name": "stdout",
          "text": [
            "0\n"
          ]
        }
      ]
    },
    {
      "cell_type": "code",
      "source": [
        "total_num = num_1*num_2\n",
        "print(total_num)"
      ],
      "metadata": {
        "colab": {
          "base_uri": "https://localhost:8080/"
        },
        "id": "vxglYo7scN5_",
        "outputId": "f8a2c0b2-d718-4131-ba95-357b8fafc4fe"
      },
      "execution_count": 5,
      "outputs": [
        {
          "output_type": "stream",
          "name": "stdout",
          "text": [
            "37632\n"
          ]
        }
      ]
    },
    {
      "cell_type": "code",
      "source": [
        "total_num = num_1 - num_2\n",
        "print(total_num)"
      ],
      "metadata": {
        "colab": {
          "base_uri": "https://localhost:8080/"
        },
        "id": "arQJmFfTcUBP",
        "outputId": "6e3ffd07-89f0-418b-dca3-1b5660d959b3"
      },
      "execution_count": 8,
      "outputs": [
        {
          "output_type": "stream",
          "name": "stdout",
          "text": [
            "616\n"
          ]
        }
      ]
    },
    {
      "cell_type": "code",
      "source": [
        "find the 3 rd largest no in the list.\n",
        "[2,43,23,44,21,]"
      ],
      "metadata": {
        "id": "GSfMg3naclQ0"
      },
      "execution_count": null,
      "outputs": []
    },
    {
      "cell_type": "code",
      "source": [
        "numbers = [2, 43, 23, 44, 21]\n",
        "sorted_numbers = sorted(numbers, reverse=True)\n",
        "third_largest = sorted_numbers[2]\n",
        "\n",
        "print(third_largest)\n"
      ],
      "metadata": {
        "colab": {
          "base_uri": "https://localhost:8080/"
        },
        "id": "ioFppXqJcxO4",
        "outputId": "9492ad5c-bd83-4838-f5c6-e9778ab569ef"
      },
      "execution_count": 11,
      "outputs": [
        {
          "output_type": "stream",
          "name": "stdout",
          "text": [
            "23\n"
          ]
        }
      ]
    },
    {
      "cell_type": "markdown",
      "source": [
        "# INTEGERS AND floats"
      ],
      "metadata": {
        "id": "Ct29ia67lMQL"
      }
    },
    {
      "cell_type": "code",
      "source": [
        "# addition\n",
        "63+85+22"
      ],
      "metadata": {
        "colab": {
          "base_uri": "https://localhost:8080/"
        },
        "id": "UEnPYEmWlYZ7",
        "outputId": "709868a6-22a1-4cbd-ce7f-586fa5f2f73e"
      },
      "execution_count": 13,
      "outputs": [
        {
          "output_type": "execute_result",
          "data": {
            "text/plain": [
              "170"
            ]
          },
          "metadata": {},
          "execution_count": 13
        }
      ]
    },
    {
      "cell_type": "code",
      "source": [
        "#subtraction\n",
        "900-128"
      ],
      "metadata": {
        "colab": {
          "base_uri": "https://localhost:8080/"
        },
        "id": "JsvAsDXzmUgq",
        "outputId": "655b3a3c-5b97-4c62-900c-a35a346e96fc"
      },
      "execution_count": 16,
      "outputs": [
        {
          "output_type": "execute_result",
          "data": {
            "text/plain": [
              "772"
            ]
          },
          "metadata": {},
          "execution_count": 16
        }
      ]
    },
    {
      "cell_type": "code",
      "source": [
        "#multiplying\n",
        "45*5"
      ],
      "metadata": {
        "colab": {
          "base_uri": "https://localhost:8080/"
        },
        "id": "KKP7HmBUmlng",
        "outputId": "85c8cb59-36df-44f0-a080-c47dcb46314a"
      },
      "execution_count": 17,
      "outputs": [
        {
          "output_type": "execute_result",
          "data": {
            "text/plain": [
              "225"
            ]
          },
          "metadata": {},
          "execution_count": 17
        }
      ]
    },
    {
      "cell_type": "code",
      "source": [
        "#division\n",
        "81/3"
      ],
      "metadata": {
        "colab": {
          "base_uri": "https://localhost:8080/"
        },
        "id": "rUid8EgjmkQA",
        "outputId": "73570889-a7a6-4ab3-ad34-1e46af0cbadb"
      },
      "execution_count": 18,
      "outputs": [
        {
          "output_type": "execute_result",
          "data": {
            "text/plain": [
              "27.0"
            ]
          },
          "metadata": {},
          "execution_count": 18
        }
      ]
    },
    {
      "cell_type": "code",
      "source": [
        "#exponential\n",
        "5**2"
      ],
      "metadata": {
        "colab": {
          "base_uri": "https://localhost:8080/"
        },
        "id": "baZ5A-yvmyOl",
        "outputId": "f13c698a-1cc3-47bf-a66e-d73e1fed6740"
      },
      "execution_count": 21,
      "outputs": [
        {
          "output_type": "execute_result",
          "data": {
            "text/plain": [
              "25"
            ]
          },
          "metadata": {},
          "execution_count": 21
        }
      ]
    },
    {
      "cell_type": "code",
      "source": [
        "#flooor division\n",
        "56//4"
      ],
      "metadata": {
        "colab": {
          "base_uri": "https://localhost:8080/"
        },
        "id": "_-gatWB_qCov",
        "outputId": "efea2602-1cd6-4cc3-c6fb-944628bed560"
      },
      "execution_count": 22,
      "outputs": [
        {
          "output_type": "execute_result",
          "data": {
            "text/plain": [
              "14"
            ]
          },
          "metadata": {},
          "execution_count": 22
        }
      ]
    },
    {
      "cell_type": "code",
      "source": [
        "#modulus\n",
        "6%5"
      ],
      "metadata": {
        "colab": {
          "base_uri": "https://localhost:8080/"
        },
        "id": "IXL1g3ccqPSa",
        "outputId": "d656b2b0-5560-4277-aacf-70eab0c1f2d3"
      },
      "execution_count": 24,
      "outputs": [
        {
          "output_type": "execute_result",
          "data": {
            "text/plain": [
              "1"
            ]
          },
          "metadata": {},
          "execution_count": 24
        }
      ]
    },
    {
      "cell_type": "markdown",
      "source": [
        "## Variable = A variable is fixed name can store information of number,boolean,textual."
      ],
      "metadata": {
        "id": "flXshE4yqouO"
      }
    },
    {
      "cell_type": "code",
      "source": [
        "y =55"
      ],
      "metadata": {
        "id": "au5OMVRCrnDB"
      },
      "execution_count": 25,
      "outputs": []
    },
    {
      "cell_type": "code",
      "source": [
        "y"
      ],
      "metadata": {
        "colab": {
          "base_uri": "https://localhost:8080/"
        },
        "id": "OVEduKvBrrns",
        "outputId": "04b107c0-abbc-4e5e-dead-60984e4a2b0f"
      },
      "execution_count": 26,
      "outputs": [
        {
          "output_type": "execute_result",
          "data": {
            "text/plain": [
              "55"
            ]
          },
          "metadata": {},
          "execution_count": 26
        }
      ]
    },
    {
      "cell_type": "code",
      "source": [
        "print(y)"
      ],
      "metadata": {
        "colab": {
          "base_uri": "https://localhost:8080/"
        },
        "id": "22UQVQ9LrzCt",
        "outputId": "6661c70c-8b91-4697-89b1-a0c14388d062"
      },
      "execution_count": 27,
      "outputs": [
        {
          "output_type": "stream",
          "name": "stdout",
          "text": [
            "55\n"
          ]
        }
      ]
    },
    {
      "cell_type": "code",
      "source": [
        "#addition\n",
        "x,y = 6,4\n",
        "z = x+y\n",
        "z"
      ],
      "metadata": {
        "colab": {
          "base_uri": "https://localhost:8080/"
        },
        "id": "ttRklb8Zr2VC",
        "outputId": "1539e52d-92ba-4d3f-870d-5c9448e95f1a"
      },
      "execution_count": 28,
      "outputs": [
        {
          "output_type": "execute_result",
          "data": {
            "text/plain": [
              "10"
            ]
          },
          "metadata": {},
          "execution_count": 28
        }
      ]
    },
    {
      "cell_type": "code",
      "source": [
        "print (z)"
      ],
      "metadata": {
        "colab": {
          "base_uri": "https://localhost:8080/"
        },
        "id": "pu4HY9VEsnaM",
        "outputId": "560f6c8c-cf9a-47fe-9117-b98ffbb73330"
      },
      "execution_count": 29,
      "outputs": [
        {
          "output_type": "stream",
          "name": "stdout",
          "text": [
            "10\n"
          ]
        }
      ]
    },
    {
      "cell_type": "code",
      "source": [
        "#subtraction\n",
        "x,y = 8,2\n",
        "print(x)\n",
        "print(y)\n",
        "z = x-y\n",
        "print(z)"
      ],
      "metadata": {
        "colab": {
          "base_uri": "https://localhost:8080/"
        },
        "id": "lcjyhqltsv37",
        "outputId": "dbc0ab69-c2af-428d-d411-769ebaa3fd79"
      },
      "execution_count": 33,
      "outputs": [
        {
          "output_type": "stream",
          "name": "stdout",
          "text": [
            "8\n",
            "2\n",
            "6\n"
          ]
        }
      ]
    },
    {
      "cell_type": "code",
      "source": [
        "#multypling\n",
        "x = 7\n",
        "y = 9\n",
        "y = x*y\n",
        "print(y)"
      ],
      "metadata": {
        "colab": {
          "base_uri": "https://localhost:8080/"
        },
        "id": "N9YZQRPQunBo",
        "outputId": "9c2f9315-4eb5-4ca5-d7d6-9f0b455dface"
      },
      "execution_count": 34,
      "outputs": [
        {
          "output_type": "stream",
          "name": "stdout",
          "text": [
            "63\n"
          ]
        }
      ]
    },
    {
      "cell_type": "code",
      "source": [
        "type(y)"
      ],
      "metadata": {
        "colab": {
          "base_uri": "https://localhost:8080/"
        },
        "id": "fwL_Km0kveLf",
        "outputId": "18a44014-b69c-4c25-e345-6beae586b28c"
      },
      "execution_count": 35,
      "outputs": [
        {
          "output_type": "execute_result",
          "data": {
            "text/plain": [
              "int"
            ]
          },
          "metadata": {},
          "execution_count": 35
        }
      ]
    },
    {
      "cell_type": "code",
      "source": [
        "y = 5.4\n",
        "print(y)"
      ],
      "metadata": {
        "colab": {
          "base_uri": "https://localhost:8080/"
        },
        "id": "c_C6WvttvhAS",
        "outputId": "39bd912e-d8be-49a0-ca48-a4f44efd0677"
      },
      "execution_count": 37,
      "outputs": [
        {
          "output_type": "stream",
          "name": "stdout",
          "text": [
            "5.4\n"
          ]
        }
      ]
    },
    {
      "cell_type": "code",
      "source": [
        "type(y)"
      ],
      "metadata": {
        "colab": {
          "base_uri": "https://localhost:8080/"
        },
        "id": "CJto6WOkvlS_",
        "outputId": "bb62484b-3120-4108-f529-faedc623ce16"
      },
      "execution_count": 38,
      "outputs": [
        {
          "output_type": "execute_result",
          "data": {
            "text/plain": [
              "float"
            ]
          },
          "metadata": {},
          "execution_count": 38
        }
      ]
    },
    {
      "cell_type": "markdown",
      "source": [
        "# BOOLEAN VARIABLES\n",
        "BOOLEAN VARIABLES ONLY TAKES TWO VALUE EITHER TRUE OR FALSE . IT IS USED FOR COMPARISION."
      ],
      "metadata": {
        "id": "M3bfyLQXwDwQ"
      }
    },
    {
      "cell_type": "code",
      "source": [
        "boolean_variable = False\n",
        "type(boolean_variable)"
      ],
      "metadata": {
        "colab": {
          "base_uri": "https://localhost:8080/"
        },
        "id": "_v_VRkeHwDg2",
        "outputId": "63b00986-721f-4840-fa25-216148e4ccd5"
      },
      "execution_count": 42,
      "outputs": [
        {
          "output_type": "execute_result",
          "data": {
            "text/plain": [
              "bool"
            ]
          },
          "metadata": {},
          "execution_count": 42
        }
      ]
    },
    {
      "cell_type": "markdown",
      "source": [
        "GREATER THAN"
      ],
      "metadata": {
        "id": "sZ3V7zx2JFkM"
      }
    },
    {
      "cell_type": "code",
      "source": [
        "8>4"
      ],
      "metadata": {
        "colab": {
          "base_uri": "https://localhost:8080/"
        },
        "id": "oocg46s7xziN",
        "outputId": "dedd5d9f-e248-4c7b-b85b-182793458e94"
      },
      "execution_count": 43,
      "outputs": [
        {
          "output_type": "execute_result",
          "data": {
            "text/plain": [
              "True"
            ]
          },
          "metadata": {},
          "execution_count": 43
        }
      ]
    },
    {
      "cell_type": "markdown",
      "source": [
        "GREATER THAN OR EQUAL TOO"
      ],
      "metadata": {
        "id": "RUdEtHB5JLmo"
      }
    },
    {
      "cell_type": "code",
      "source": [
        "10>=9"
      ],
      "metadata": {
        "colab": {
          "base_uri": "https://localhost:8080/"
        },
        "id": "lA8_dXEux2dX",
        "outputId": "a347178d-b2de-4ea7-8102-3a13d3881754"
      },
      "execution_count": 2,
      "outputs": [
        {
          "output_type": "execute_result",
          "data": {
            "text/plain": [
              "True"
            ]
          },
          "metadata": {},
          "execution_count": 2
        }
      ]
    },
    {
      "cell_type": "markdown",
      "source": [
        "LESS THAN OR EQUAL TOO"
      ],
      "metadata": {
        "id": "SzzFxVPHJVwf"
      }
    },
    {
      "cell_type": "code",
      "source": [
        "7<=7"
      ],
      "metadata": {
        "colab": {
          "base_uri": "https://localhost:8080/"
        },
        "id": "jgBCqFcVx4tc",
        "outputId": "7d1731c6-0f34-4b31-a9c4-0eddc4396e53"
      },
      "execution_count": 3,
      "outputs": [
        {
          "output_type": "execute_result",
          "data": {
            "text/plain": [
              "True"
            ]
          },
          "metadata": {},
          "execution_count": 3
        }
      ]
    },
    {
      "cell_type": "markdown",
      "source": [],
      "metadata": {
        "id": "-uaZjG5jJY7J"
      }
    },
    {
      "cell_type": "code",
      "source": [
        "4<=3"
      ],
      "metadata": {
        "colab": {
          "base_uri": "https://localhost:8080/"
        },
        "id": "xBIsrBJSx7m4",
        "outputId": "740c2520-2fbd-4c4d-f3a7-7423cb7a9fc4"
      },
      "execution_count": 4,
      "outputs": [
        {
          "output_type": "execute_result",
          "data": {
            "text/plain": [
              "False"
            ]
          },
          "metadata": {},
          "execution_count": 4
        }
      ]
    },
    {
      "cell_type": "markdown",
      "source": [
        "STRING = STRING ARE USED IN PYTHON TO RECORD TEXT INFORMATION SUCH AS NAMES ,WORD, SENTENCE, PARAGRAPHS,OR ENCYCLOPEDIA. FOR EX\n"
      ],
      "metadata": {
        "id": "yzIanZgBQI2e"
      }
    },
    {
      "cell_type": "code",
      "source": [
        "#CREATING STRING\n",
        "MY_STRING = 'I AM FROM KALYAN'\n",
        "MY_STRING"
      ],
      "metadata": {
        "colab": {
          "base_uri": "https://localhost:8080/",
          "height": 35
        },
        "id": "VfGJRVYEx-ri",
        "outputId": "a0be3c8c-e5b4-4173-841b-d4bcd68646a2"
      },
      "execution_count": 7,
      "outputs": [
        {
          "output_type": "execute_result",
          "data": {
            "text/plain": [
              "'I AM FROM KALYAN'"
            ],
            "application/vnd.google.colaboratory.intrinsic+json": {
              "type": "string"
            }
          },
          "metadata": {},
          "execution_count": 7
        }
      ]
    },
    {
      "cell_type": "code",
      "source": [
        "string = 'almabetter'\n",
        "print(string)"
      ],
      "metadata": {
        "colab": {
          "base_uri": "https://localhost:8080/"
        },
        "id": "Jj6QnEqlQyhO",
        "outputId": "06c02ba6-47ce-47e9-9273-078b256a1c4c"
      },
      "execution_count": 10,
      "outputs": [
        {
          "output_type": "stream",
          "name": "stdout",
          "text": [
            "almabetter\n"
          ]
        }
      ]
    },
    {
      "cell_type": "code",
      "source": [
        "type(string)"
      ],
      "metadata": {
        "colab": {
          "base_uri": "https://localhost:8080/"
        },
        "id": "3iCl72GjQ0N5",
        "outputId": "9f2bd383-7ba8-461f-b927-fcb9b6825751"
      },
      "execution_count": 11,
      "outputs": [
        {
          "output_type": "execute_result",
          "data": {
            "text/plain": [
              "str"
            ]
          },
          "metadata": {},
          "execution_count": 11
        }
      ]
    },
    {
      "cell_type": "code",
      "source": [
        "'ram'\n",
        "'shyam'\n",
        "'vijay'"
      ],
      "metadata": {
        "colab": {
          "base_uri": "https://localhost:8080/",
          "height": 35
        },
        "id": "DpQa1cq3TP6N",
        "outputId": "64ea3549-49df-401d-f832-6f1297fc72b2"
      },
      "execution_count": 12,
      "outputs": [
        {
          "output_type": "execute_result",
          "data": {
            "text/plain": [
              "'vijay'"
            ],
            "application/vnd.google.colaboratory.intrinsic+json": {
              "type": "string"
            }
          },
          "metadata": {},
          "execution_count": 12
        }
      ]
    },
    {
      "cell_type": "code",
      "source": [
        "print('ajay\\n karan')"
      ],
      "metadata": {
        "colab": {
          "base_uri": "https://localhost:8080/"
        },
        "id": "_JZPnD2SYrNg",
        "outputId": "bf58195b-ddd8-4939-be9b-d7d2ab764fb0"
      },
      "execution_count": 16,
      "outputs": [
        {
          "output_type": "stream",
          "name": "stdout",
          "text": [
            "ajay\n",
            " karan\n"
          ]
        }
      ]
    },
    {
      "cell_type": "code",
      "source": [
        "print('i completed a \\n course from almabetter')"
      ],
      "metadata": {
        "colab": {
          "base_uri": "https://localhost:8080/"
        },
        "id": "dGt0CdDvZA0d",
        "outputId": "c7984cbf-6140-4b95-a00d-c1ea7c39aaa5"
      },
      "execution_count": 17,
      "outputs": [
        {
          "output_type": "stream",
          "name": "stdout",
          "text": [
            "i completed a \n",
            " course from almabetter\n"
          ]
        }
      ]
    },
    {
      "cell_type": "code",
      "source": [
        "shiv = 'from almabetter'\n",
        "print(len(shiv))"
      ],
      "metadata": {
        "colab": {
          "base_uri": "https://localhost:8080/"
        },
        "id": "ZVSh3FpNZMIJ",
        "outputId": "ad59013e-451b-4744-a230-7597fcf1a695"
      },
      "execution_count": 19,
      "outputs": [
        {
          "output_type": "stream",
          "name": "stdout",
          "text": [
            "15\n"
          ]
        }
      ]
    },
    {
      "cell_type": "markdown",
      "source": [
        "#**String Indexing:**\n",
        "#We know strings are a sequence, which means Python can use indexes to call parts of the sequence.\n",
        "\n",
        "#A string index refers to the location of an element present in a string.\n",
        "\n",
        "#The indexing begins from 0 in Python.\n",
        "\n",
        "#The first element is assigned an index 0, the second element is assigned an index of 1 and so on and so forth.\n",
        "\n",
        "# In Python, we use brackets [] after an object to call its index."
      ],
      "metadata": {
        "id": "PXbu-uQnZth2"
      }
    },
    {
      "cell_type": "code",
      "source": [
        "string = 'rahul jaiswal'\n",
        "print(string)"
      ],
      "metadata": {
        "colab": {
          "base_uri": "https://localhost:8080/"
        },
        "id": "lx7P6diWLTgt",
        "outputId": "1d117158-d84d-4053-b1c1-17fa3d91f895"
      },
      "execution_count": 2,
      "outputs": [
        {
          "output_type": "stream",
          "name": "stdout",
          "text": [
            "rahul jaiswal\n"
          ]
        }
      ]
    },
    {
      "cell_type": "code",
      "source": [
        "print(string[7])"
      ],
      "metadata": {
        "colab": {
          "base_uri": "https://localhost:8080/"
        },
        "id": "O2FOnh5CLhCq",
        "outputId": "e8cc1351-6dd9-482e-c815-ff42d6cbbba3"
      },
      "execution_count": 6,
      "outputs": [
        {
          "output_type": "stream",
          "name": "stdout",
          "text": [
            "a\n"
          ]
        }
      ]
    },
    {
      "cell_type": "code",
      "source": [
        "print(string[3])"
      ],
      "metadata": {
        "colab": {
          "base_uri": "https://localhost:8080/"
        },
        "id": "grQ9blRdL2iS",
        "outputId": "c9c80495-2a10-4932-80e0-5c8854300fb8"
      },
      "execution_count": 7,
      "outputs": [
        {
          "output_type": "stream",
          "name": "stdout",
          "text": [
            "u\n"
          ]
        }
      ]
    },
    {
      "cell_type": "code",
      "source": [
        "len(string)"
      ],
      "metadata": {
        "colab": {
          "base_uri": "https://localhost:8080/"
        },
        "id": "hhNxjkNcMAsj",
        "outputId": "cf9a3f6d-59a9-48e2-b2cd-2ca1eb3bf711"
      },
      "execution_count": 8,
      "outputs": [
        {
          "output_type": "execute_result",
          "data": {
            "text/plain": [
              "13"
            ]
          },
          "metadata": {},
          "execution_count": 8
        }
      ]
    },
    {
      "cell_type": "code",
      "source": [
        "print(string[-4])"
      ],
      "metadata": {
        "colab": {
          "base_uri": "https://localhost:8080/"
        },
        "id": "tXqVOL0-MO4a",
        "outputId": "408b232c-c132-49ee-f6a7-61023db0cf98"
      },
      "execution_count": 9,
      "outputs": [
        {
          "output_type": "stream",
          "name": "stdout",
          "text": [
            "s\n"
          ]
        }
      ]
    },
    {
      "cell_type": "markdown",
      "source": [
        "#String Slicing**\n",
        "# We can use a : to perform slicing which grabs everything up to a designated point.\n",
        "\n",
        "#The starting index is specified on the left of the : and the ending index is specified on the right of the :.\n",
        "# New Section\n",
        "#Remember the element located at the right index is not included."
      ],
      "metadata": {
        "id": "8IPzdX4VMtLv"
      }
    },
    {
      "cell_type": "markdown",
      "source": [],
      "metadata": {
        "id": "RXqsGPJfMtIg"
      }
    },
    {
      "cell_type": "code",
      "source": [
        "string = 'coding ninjas'\n",
        "print(string[3:-1])"
      ],
      "metadata": {
        "colab": {
          "base_uri": "https://localhost:8080/"
        },
        "id": "5aMS8Yv-M8Ap",
        "outputId": "1b861906-daf4-4c5c-9c53-cc7f44773243"
      },
      "execution_count": 13,
      "outputs": [
        {
          "output_type": "stream",
          "name": "stdout",
          "text": [
            "ing ninja\n"
          ]
        }
      ]
    },
    {
      "cell_type": "code",
      "source": [
        "string = 'newton'\n",
        "print(string[1:-2])"
      ],
      "metadata": {
        "colab": {
          "base_uri": "https://localhost:8080/"
        },
        "id": "NDj_3uVUNU0k",
        "outputId": "d2fc52e9-6b23-4971-bf03-c87402054e13"
      },
      "execution_count": 18,
      "outputs": [
        {
          "output_type": "stream",
          "name": "stdout",
          "text": [
            "ewt\n"
          ]
        }
      ]
    },
    {
      "cell_type": "code",
      "source": [
        "print(string[0:3])"
      ],
      "metadata": {
        "colab": {
          "base_uri": "https://localhost:8080/"
        },
        "id": "wrEo02rCNn9L",
        "outputId": "7f784a9a-9350-4c1b-f8e7-c5ea9dbb6e59"
      },
      "execution_count": 20,
      "outputs": [
        {
          "output_type": "stream",
          "name": "stdout",
          "text": [
            "new\n"
          ]
        }
      ]
    },
    {
      "cell_type": "markdown",
      "source": [
        "# variable use"
      ],
      "metadata": {
        "id": "xRFsWbuyjXx9"
      }
    },
    {
      "cell_type": "code",
      "source": [
        "str1 = 'Wel'\n",
        "print(str1,'come')"
      ],
      "metadata": {
        "colab": {
          "base_uri": "https://localhost:8080/"
        },
        "id": "TTFfvoThNn3F",
        "outputId": "0f9034de-e707-4fb9-dbb4-759ff6c8c10c"
      },
      "execution_count": 1,
      "outputs": [
        {
          "output_type": "stream",
          "name": "stdout",
          "text": [
            "Wel come\n"
          ]
        }
      ]
    },
    {
      "cell_type": "code",
      "source": [
        "str1 = 'Welcome'\n",
        "str2 = 'Python'\n",
        "print(str1, str2)"
      ],
      "metadata": {
        "colab": {
          "base_uri": "https://localhost:8080/"
        },
        "id": "fkeiO8JIjnVT",
        "outputId": "ac9bbfe5-99c3-4582-f428-9c1f73b22ccc"
      },
      "execution_count": 2,
      "outputs": [
        {
          "output_type": "stream",
          "name": "stdout",
          "text": [
            "Welcome Python\n"
          ]
        }
      ]
    },
    {
      "cell_type": "markdown",
      "source": [
        "#**string concatenation**: String concatenation is the \"addition\" of two strings. Observe that while concatenating there will be no space between the strings."
      ],
      "metadata": {
        "id": "CrFNALl7kDYF"
      }
    },
    {
      "cell_type": "code",
      "source": [
        "str1 = 'Python'\n",
        "str2 = ':'\n",
        "print('Welcome' + str1 + str2)"
      ],
      "metadata": {
        "colab": {
          "base_uri": "https://localhost:8080/"
        },
        "id": "t05Jl93kmS4c",
        "outputId": "c2e63089-dc3e-4c0b-d740-7bb08dc1d5ed"
      },
      "execution_count": 3,
      "outputs": [
        {
          "output_type": "stream",
          "name": "stdout",
          "text": [
            "WelcomePython:\n"
          ]
        }
      ]
    },
    {
      "cell_type": "code",
      "source": [
        "str1 = 'Python'\n",
        "print(\"Welcome %s\" % str1)"
      ],
      "metadata": {
        "colab": {
          "base_uri": "https://localhost:8080/"
        },
        "id": "p7FcqJMAmUC-",
        "outputId": "4e05930c-63d5-4c6f-c104-4edba9b0b531"
      },
      "execution_count": 4,
      "outputs": [
        {
          "output_type": "stream",
          "name": "stdout",
          "text": [
            "Welcome Python\n"
          ]
        }
      ]
    },
    {
      "cell_type": "markdown",
      "source": [
        "Using other data types:\n",
        "\n",
        "Similarly, when using other data types\n",
        "\n",
        "%d -> Integer\n",
        "%e -> exponential\n",
        "%f -> Float\n",
        "%o -> Octal\n",
        "%x -> Hexadecimal"
      ],
      "metadata": {
        "id": "zqWM5SRHnNZW"
      }
    },
    {
      "cell_type": "code",
      "source": [
        "str1 = 'newton'\n",
        "print(\"welcome %e\" %15)"
      ],
      "metadata": {
        "colab": {
          "base_uri": "https://localhost:8080/"
        },
        "id": "O_t0voodnPRZ",
        "outputId": "c4cf6a23-5291-4869-cec3-92933b6e5f85"
      },
      "execution_count": 13,
      "outputs": [
        {
          "output_type": "stream",
          "name": "stdout",
          "text": [
            "welcome 1.500000e+01\n"
          ]
        }
      ]
    },
    {
      "cell_type": "code",
      "source": [
        "print(\"welcome %d\" %15 )"
      ],
      "metadata": {
        "colab": {
          "base_uri": "https://localhost:8080/"
        },
        "id": "ZWgdEkZtoNdJ",
        "outputId": "3746f2d2-2f78-464b-cdc6-5c8b16116559"
      },
      "execution_count": 15,
      "outputs": [
        {
          "output_type": "stream",
          "name": "stdout",
          "text": [
            "welcome 15\n"
          ]
        }
      ]
    },
    {
      "cell_type": "code",
      "source": [
        "print(\"welcome %f\" %15)"
      ],
      "metadata": {
        "colab": {
          "base_uri": "https://localhost:8080/"
        },
        "id": "3T1IYTLWqUXN",
        "outputId": "89b35c27-a337-4068-c94a-910cb843eba1"
      },
      "execution_count": 16,
      "outputs": [
        {
          "output_type": "stream",
          "name": "stdout",
          "text": [
            "welcome 15.000000\n"
          ]
        }
      ]
    },
    {
      "cell_type": "code",
      "source": [
        "str1 = 'World'\n",
        "str2 = ':'\n",
        "print(\"Python %s %s\" %(str1,str2))"
      ],
      "metadata": {
        "colab": {
          "base_uri": "https://localhost:8080/"
        },
        "id": "Y5l15LnPq1uk",
        "outputId": "b5376e61-32ba-46db-f971-cbb25f1edd44"
      },
      "execution_count": 17,
      "outputs": [
        {
          "output_type": "stream",
          "name": "stdout",
          "text": [
            "Python World :\n"
          ]
        }
      ]
    },
    {
      "cell_type": "code",
      "source": [
        "print(\"Sunday\\nMonday\\nTuesday\\nWednesday\\nThursday\\nFriday\\nSaturday\")\n"
      ],
      "metadata": {
        "colab": {
          "base_uri": "https://localhost:8080/"
        },
        "id": "0H2oofIiq_PH",
        "outputId": "4bc913e7-ed0b-449e-a3f0-246c644e6bb3"
      },
      "execution_count": 18,
      "outputs": [
        {
          "output_type": "stream",
          "name": "stdout",
          "text": [
            "Sunday\n",
            "Monday\n",
            "Tuesday\n",
            "Wednesday\n",
            "Thursday\n",
            "Friday\n",
            "Saturday\n"
          ]
        }
      ]
    },
    {
      "cell_type": "code",
      "source": [
        "print('-w3r'*5)"
      ],
      "metadata": {
        "colab": {
          "base_uri": "https://localhost:8080/"
        },
        "id": "P-2EE0iWrChM",
        "outputId": "39ab309f-448c-41bb-c66b-153a9c0f768e"
      },
      "execution_count": 19,
      "outputs": [
        {
          "output_type": "stream",
          "name": "stdout",
          "text": [
            "-w3r-w3r-w3r-w3r-w3r\n"
          ]
        }
      ]
    },
    {
      "cell_type": "code",
      "source": [
        "print(\"\"\"\n",
        "Language:\n",
        "\\t1 Python\n",
        "\\t2 Java\\n\\t3 JavaScript\n",
        "\"\"\")\n"
      ],
      "metadata": {
        "colab": {
          "base_uri": "https://localhost:8080/"
        },
        "id": "SvcS7frErcUl",
        "outputId": "923485e7-a061-4c4a-daeb-ee5578411f8f"
      },
      "execution_count": 20,
      "outputs": [
        {
          "output_type": "stream",
          "name": "stdout",
          "text": [
            "\n",
            "Language:\n",
            "\t1 Python\n",
            "\t2 Java\n",
            "\t3 JavaScript\n",
            "\n"
          ]
        }
      ]
    },
    {
      "cell_type": "code",
      "source": [
        "print(\"%f\" % 5.1234567890)"
      ],
      "metadata": {
        "colab": {
          "base_uri": "https://localhost:8080/"
        },
        "id": "lCb0yLMfrh6c",
        "outputId": "4d39eaaa-1cd6-4dcb-d50c-c952521cc897"
      },
      "execution_count": 21,
      "outputs": [
        {
          "output_type": "stream",
          "name": "stdout",
          "text": [
            "5.123457\n"
          ]
        }
      ]
    },
    {
      "cell_type": "code",
      "source": [
        "print(\"%.5f\" % 5.1234567890)"
      ],
      "metadata": {
        "colab": {
          "base_uri": "https://localhost:8080/"
        },
        "id": "ctl1OAgfrl06",
        "outputId": "5104ffdd-c0cb-4b1b-d25a-cea45ca4dd0d"
      },
      "execution_count": 22,
      "outputs": [
        {
          "output_type": "stream",
          "name": "stdout",
          "text": [
            "5.12346\n"
          ]
        }
      ]
    }
  ]
}